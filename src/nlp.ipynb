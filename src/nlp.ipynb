{
 "cells": [
  {
   "cell_type": "code",
   "execution_count": null,
   "outputs": [],
   "source": [
    "import os\n",
    "import csv\n",
    "import pickle\n",
    "import numpy as np\n",
    "import pandas as pd\n",
    "import warnings\n",
    "import pprint as pp\n",
    "warnings.filterwarnings(action='ignore')\n",
    "\n",
    "import nltk\n",
    "from gensim.models import Word2Vec\n",
    "from sklearn.manifold import TSNE\n",
    "from wordcloud import WordCloud\n",
    "from gensim import corpora, models\n",
    "from gensim.models import LdaMulticore\n",
    "from gensim.models import LdaModel\n",
    "from gensim.models import CoherenceModel\n",
    "from gensim.models.callbacks import CoherenceMetric\n",
    "import gensim\n",
    "\n",
    "from PIL import Image\n",
    "import matplotlib.pyplot as plt\n",
    "from bokeh.io import push_notebook, show, output_notebook, save, output_file\n",
    "from bokeh.layouts import row\n",
    "from bokeh.plotting import figure\n",
    "from bokeh.palettes import RdBu\n",
    "from bokeh.models import HoverTool, ColumnDataSource\n",
    "plt.rcParams['font.family'] = 'AppleGothic'\n",
    "output_notebook()\n",
    "\n",
    "import pyLDAvis\n",
    "import pyLDAvis.gensim\n",
    "import pickle\n",
    "\n",
    "from pkg import nlpfunc\n",
    "\n",
    "random_state = 2023\n",
    "\n",
    "\n"
   ],
   "metadata": {
    "collapsed": false,
    "pycharm": {
     "name": "#%%\n"
    }
   }
  },
  {
   "cell_type": "markdown",
   "source": [
    "# Load Data"
   ],
   "metadata": {
    "collapsed": false,
    "pycharm": {
     "name": "#%% md\n"
    }
   }
  },
  {
   "cell_type": "code",
   "execution_count": null,
   "outputs": [],
   "source": [
    "with open('../data/dongjack_article.pkl', 'rb') as f:\n",
    "    Gu1_articles = pickle.load(f)\n",
    "    \n",
    "with open('../data/yeongdeungpo_article.pkl', 'rb') as f:\n",
    "    Gu2_articles = pickle.load(f)"
   ],
   "metadata": {
    "collapsed": false,
    "pycharm": {
     "name": "#%%\n"
    }
   }
  },
  {
   "cell_type": "code",
   "execution_count": null,
   "outputs": [],
   "source": [
    "print(Gu1_articles[:5]) \n",
    "print(Gu2_articles[:5]) "
   ],
   "metadata": {
    "collapsed": false,
    "pycharm": {
     "name": "#%%\n"
    }
   }
  },
  {
   "cell_type": "markdown",
   "source": [
    "# Preprocessing"
   ],
   "metadata": {
    "collapsed": false,
    "pycharm": {
     "name": "#%% md\n"
    }
   }
  },
  {
   "cell_type": "markdown",
   "source": [
    "### Remove stop words"
   ],
   "metadata": {
    "collapsed": false,
    "pycharm": {
     "name": "#%% md\n"
    }
   }
  },
  {
   "cell_type": "code",
   "execution_count": null,
   "outputs": [],
   "source": [
    "\n",
    "with open('../data/korean_stopwords.txt', 'r', encoding='utf-8') as f:\n",
    "    stopwords = f.readlines()\n",
    "stopwords = [x.replace('\\n','') for x in stopwords]\n",
    "addtional = ['기자', '이데일리', '뉴시스','언론','언론사', '도시', '주택', '계획', '사업',\n",
    "             '일대', '지역', '추진','주민','시설', '구역', '가구','고','위','층',\n",
    "             '말']\n",
    "stopwords = stopwords + addtional"
   ],
   "metadata": {
    "collapsed": false,
    "pycharm": {
     "name": "#%%\n"
    }
   }
  },
  {
   "cell_type": "code",
   "execution_count": null,
   "outputs": [],
   "source": [
    "## remove stopwords\n",
    "case1 = ['동작', '동작구', '서울', '서울시']\n",
    "stopwords_Gu1 = stopwords + case1\n",
    "\n",
    "\n",
    "case2 = ['영등포', '영등포구', '서울', '서울시']\n",
    "stopwords_Gu2 = stopwords + case2\n"
   ],
   "metadata": {
    "collapsed": false,
    "pycharm": {
     "name": "#%%\n"
    }
   }
  },
  {
   "cell_type": "code",
   "execution_count": null,
   "outputs": [],
   "source": [
    "## extract nouns\n",
    "_, word_list1 = nlpfunc.analyze_morph_extract_noun(Gu1_articles, stopwords_Gu1)\n",
    "_, word_list2 = nlpfunc.analyze_morph_extract_noun(Gu2_articles, stopwords_Gu2)\n"
   ],
   "metadata": {
    "collapsed": false,
    "pycharm": {
     "name": "#%%\n"
    }
   }
  },
  {
   "cell_type": "markdown",
   "source": [
    "### 추가 Stop word 생성을 위한 빈도수 확인"
   ],
   "metadata": {
    "collapsed": false,
    "pycharm": {
     "name": "#%% md\n"
    }
   }
  },
  {
   "cell_type": "code",
   "execution_count": null,
   "outputs": [],
   "source": [
    "def check_count_pos(model_name, pos):\n",
    "    text = nltk.Text(pos, name = 'NMSC')\n",
    "    print ('모델명: {}'.format(model_name))\n",
    "    print (\"토큰의 개수 : {}\".format(len(text.tokens)))\n",
    "    print (\"unique 토큰의 개수 : {}\".format(len(set(text.tokens))))\n",
    "    print(\"상위 50개 빈도의 단어 : \")\n",
    "    pp.pprint(text.vocab().most_common(20))\n",
    "    \n",
    "    print(\"Plot Chart\")\n",
    "    \n",
    "    plt.figure(figsize = (20, 10))\n",
    "    plt.rcParams.update({'font.size':20})\n",
    "    text.plot(50)"
   ],
   "metadata": {
    "collapsed": false,
    "pycharm": {
     "name": "#%%\n"
    }
   }
  },
  {
   "cell_type": "code",
   "execution_count": null,
   "outputs": [],
   "source": [
    "# 동작구 단어 빈도 확인\n",
    "check_count_pos('동작구',word_list1)"
   ],
   "metadata": {
    "collapsed": false,
    "pycharm": {
     "name": "#%%\n"
    }
   }
  },
  {
   "cell_type": "code",
   "execution_count": null,
   "outputs": [],
   "source": [
    "# stopword 추가\n",
    "case1_add = ['개', '총', '내', '권', '비', '박민', '통해', '위해']\n",
    "stopwords_Gu1 = stopwords_Gu1 + case1_add"
   ],
   "metadata": {
    "collapsed": false,
    "pycharm": {
     "name": "#%%\n"
    }
   }
  },
  {
   "cell_type": "code",
   "execution_count": null,
   "outputs": [],
   "source": [
    "## 영등포구 단어 빈도 확인\n",
    "check_count_pos('영등포구',word_list2)"
   ],
   "metadata": {
    "collapsed": false,
    "pycharm": {
     "name": "#%%\n"
    }
   }
  },
  {
   "cell_type": "code",
   "execution_count": null,
   "outputs": [],
   "source": [
    "# stopword 추가\n",
    "case2_add = ['개', '총', '내', '권', '비', '박민', '곳', '시', '비', '중', '안', '쪽', '위해', '통해', '청장']\n",
    "stopwords_Gu2 = stopwords_Gu2 + case2_add"
   ],
   "metadata": {
    "collapsed": false,
    "pycharm": {
     "name": "#%%\n"
    }
   }
  },
  {
   "cell_type": "markdown",
   "source": [
    "# Analysis"
   ],
   "metadata": {
    "collapsed": false,
    "pycharm": {
     "name": "#%% md\n"
    }
   }
  },
  {
   "cell_type": "markdown",
   "source": [
    "## Wordcloud \n",
    "\n"
   ],
   "metadata": {
    "collapsed": false,
    "pycharm": {
     "name": "#%% md\n"
    }
   }
  },
  {
   "cell_type": "code",
   "execution_count": null,
   "outputs": [],
   "source": [
    "def make_wordcloud(word_dict, mask, cloud_set):\n",
    "    wordcloud = WordCloud(\n",
    "    font_path=cloud_set['font_path'],\n",
    "    background_color = cloud_set['background_color'],\n",
    "    colormap =cloud_set['colormap'],\n",
    "    width=cloud_set['width'],\n",
    "    height=cloud_set['height'],\n",
    "    mask=cloud_set['mask']\n",
    "    )\n",
    "\n",
    "    wordcloud_words = wordcloud.generate_from_frequencies(word_dict)\n",
    "\n",
    "    array = wordcloud.to_array()\n",
    "    \n",
    "    fit = plt.figure()\n",
    "    plt.imshow(array, interpolation='bilinear')\n",
    "    plt.axis('off')\n",
    "    #plt.title('Word Cloud of Real Estate Articles')\n",
    "    plt.show()"
   ],
   "metadata": {
    "collapsed": false,
    "pycharm": {
     "name": "#%%\n"
    }
   }
  },
  {
   "cell_type": "code",
   "execution_count": null,
   "outputs": [],
   "source": [
    "## extract nouns\n",
    "word_dict1, _ = nlpfunc.analyze_morph_extract_noun(Gu1_articles, stopwords_Gu1)\n",
    "word_dict2, _ = nlpfunc.analyze_morph_extract_noun(Gu2_articles, stopwords_Gu2)"
   ],
   "metadata": {
    "collapsed": false,
    "pycharm": {
     "name": "#%%\n"
    }
   }
  },
  {
   "cell_type": "markdown",
   "source": [
    "### 동작구"
   ],
   "metadata": {
    "collapsed": false,
    "pycharm": {
     "name": "#%% md\n"
    }
   }
  },
  {
   "cell_type": "code",
   "execution_count": null,
   "outputs": [],
   "source": [
    "mask_img_name = 'wordcloud_mask1.png'\n",
    "mask = np.array(Image.open(os.path.join('../img', mask_img_name)))"
   ],
   "metadata": {
    "collapsed": false,
    "pycharm": {
     "name": "#%%\n"
    }
   }
  },
  {
   "cell_type": "code",
   "execution_count": null,
   "outputs": [],
   "source": [
    "wordcloud = WordCloud()\n",
    "## Word cloud\n",
    "mask_img_name = 'wordcloud_mask2.png'\n",
    "mask = np.array(Image.open(os.path.join('../img', mask_img_name)))\n",
    "\n",
    "cloud_set = {'font_path': '..font/NanumGothicBold.otf',\n",
    "             'background_color': 'White',\n",
    "             'colormap': 'twilight',\n",
    "             'width': 800,\n",
    "             'height': 600,\n",
    "             'mask': mask}\n",
    "make_wordcloud(word_dict1, mask, cloud_set)"
   ],
   "metadata": {
    "collapsed": false,
    "pycharm": {
     "name": "#%%\n"
    }
   }
  },
  {
   "cell_type": "markdown",
   "source": [
    "### 영등포구"
   ],
   "metadata": {
    "collapsed": false,
    "pycharm": {
     "name": "#%% md\n"
    }
   }
  },
  {
   "cell_type": "code",
   "execution_count": null,
   "outputs": [],
   "source": [
    "wordcloud = WordCloud()\n",
    "## Word cloud\n",
    "mask_img_name = 'wordcloud_mask2.png'\n",
    "mask = np.array(Image.open(os.path.join('../img', mask_img_name)))\n",
    "\n",
    "cloud_set = {'font_path':'..font/NanumGothicBold.otf',\n",
    "              'background_color':'White',\n",
    "              'colormap':'twilight',\n",
    "              'width': 800,\n",
    "              'height':600,\n",
    "              'mask':mask}\n",
    "make_wordcloud(word_dict2, mask, cloud_set )\n"
   ],
   "metadata": {
    "collapsed": false,
    "pycharm": {
     "name": "#%%\n"
    }
   }
  },
  {
   "cell_type": "code",
   "execution_count": 32,
   "metadata": {
    "pycharm": {
     "name": "#%%\n"
    }
   },
   "outputs": [
    {
     "data": {
      "image/png": "[encoded data removed]",
      "text/plain": [
       "<Figure size 432x288 with 1 Axes>"
      ]
     },
     "metadata": {
      "needs_background": "light"
     },
     "output_type": "display_data"
    }
   ],
   "source": [
    "wordcloud = WordCloud()\n",
    "## Word cloud\n",
    "mask_img_name = 'wordcloud_mask2.png'\n",
    "mask = np.array(Image.open(os.path.join('../img', mask_img_name)))\n",
    "\n",
    "cloud_set = {'font_path':'..font/NanumGothicBold.otf',\n",
    "              'background_color':'White',\n",
    "              'colormap':'twilight',\n",
    "              'width': 800,\n",
    "              'height':600,\n",
    "              'mask':mask}\n",
    "make_wordcloud(word_dict2, mask, cloud_set )\n"
   ]
  },
  {
   "cell_type": "code",
   "execution_count": null,
   "metadata": {
    "pycharm": {
     "name": "#%%\n"
    }
   },
   "outputs": [],
   "source": []
  },
  {
   "cell_type": "markdown",
   "metadata": {
    "pycharm": {
     "name": "#%% md\n"
    }
   },
   "source": [
    "## 유사한 단어 군집을 통해 이슈 분류\n",
    "\n",
    "- Embedding: Word2Vec, 단어를 벡터로 바꿔준다. 단어를 벡터화 할 때 단어의 문맥적 의미를 보존할 수 있다\n",
    "- 단어 간의 관계를 파악하는 Word Embedding을 이용하여 유사한 단어를 파악할 수 있다\n",
    "- Tsne를 통해 비슷한 단어를 한 눈에 볼 수 있도록 시각화 한다"
   ]
  },
  {
   "cell_type": "markdown",
   "metadata": {
    "pycharm": {
     "name": "#%% md\n"
    }
   },
   "source": [
    "* 주요품사\n",
    "    - NNG:\t일반 명사\n",
    "    - NNP:\t고유 명사\n",
    "    - VV:\t동사\n",
    "    - VA:\t형용사\n",
    "    - XR:\t어근\n",
    "    - SL:\t알파벳(A-Z a-z)"
   ]
  },
  {
   "cell_type": "code",
   "execution_count": 33,
   "metadata": {
    "pycharm": {
     "name": "#%%\n"
    }
   },
   "outputs": [],
   "source": [
    "n_word = ['NNG', 'NNP', 'VV', 'VA', 'XR', 'SL']\n",
    "v_word = ['VV', 'VA']"
   ]
  },
  {
   "cell_type": "markdown",
   "metadata": {
    "pycharm": {
     "name": "#%%\n"
    }
   },
   "source": [
    "### Word Embedding"
   ]
  },
  {
   "cell_type": "code",
   "execution_count": 36,
   "metadata": {
    "pycharm": {
     "name": "#%%\n"
    }
   },
   "outputs": [],
   "source": [
    "from kiwipiepy import Kiwi\n",
    "from kiwipiepy.utils import Stopwords\n",
    "kiwi = Kiwi()"
   ]
  },
  {
   "cell_type": "code",
   "execution_count": 37,
   "metadata": {
    "pycharm": {
     "name": "#%%\n"
    }
   },
   "outputs": [],
   "source": [
    "# stopword에 추가할 단어 포맷 변경\n",
    "total_article_list = []\n",
    "total_stop_words = stopwords_Gu1 + stopwords_Gu2\n",
    "add_stopwords = []\n",
    "for temp in [kiwi.tokenize(x) for x in total_stop_words]:\n",
    "    add_stopwords.extend([(x.form, x.tag) for x in temp if ('-I' not in x.tag) and ('-R' not in x.tag)])\n",
    "    "
   ]
  },
  {
   "cell_type": "code",
   "execution_count": 38,
   "metadata": {
    "pycharm": {
     "name": "#%%\n"
    }
   },
   "outputs": [],
   "source": [
    "\n",
    "kiwi_stopwords = Stopwords()\n",
    "kiwi_stopwords.add(set(add_stopwords))"
   ]
  },
  {
   "cell_type": "code",
   "execution_count": 39,
   "metadata": {
    "pycharm": {
     "name": "#%%\n"
    }
   },
   "outputs": [],
   "source": [
    "def make_sentence_list(setences, stopwords):\n",
    "    sentences_list = []\n",
    "    morph_list = [kiwi.tokenize(x, normalize_coda=True, stopwords=stopwords) for x in setences]\n",
    "    for morph in morph_list:\n",
    "        filter_w = [m for m in morph if m.tag in n_word ]\n",
    "        filter_w = [m.form+'다' if m.tag in v_word else m.form for m in filter_w]\n",
    "        sentences_list.append(filter_w)\n",
    "    return sentences_list\n",
    "        "
   ]
  },
  {
   "cell_type": "markdown",
   "metadata": {
    "pycharm": {
     "name": "#%% md\n"
    }
   },
   "source": [
    "#### 동작구"
   ]
  },
  {
   "cell_type": "code",
   "execution_count": 40,
   "metadata": {
    "pycharm": {
     "name": "#%%\n"
    }
   },
   "outputs": [
    {
     "data": {
      "text/plain": [
       "['교육', '환경', '영향', '평가', '통과', '노량진', '학원가', '일대', '전경', '아시아']"
      ]
     },
     "execution_count": 40,
     "metadata": {},
     "output_type": "execute_result"
    }
   ],
   "source": [
    "sentences_list1 = make_sentence_list(Gu1_articles, kiwi_stopwords)\n",
    "sentences_list1[0][:10]\n",
    "\n"
   ]
  },
  {
   "cell_type": "code",
   "execution_count": 41,
   "metadata": {
    "pycharm": {
     "name": "#%%\n"
    }
   },
   "outputs": [],
   "source": [
    "emb_1 = Word2Vec(sentences_list1, vector_size = 1000,\n",
    "                 window = 3, min_count = 5, workers = 4,\n",
    "                 epochs = 1000, sg = 1)"
   ]
  },
  {
   "cell_type": "code",
   "execution_count": 42,
   "metadata": {
    "pycharm": {
     "name": "#%%\n"
    }
   },
   "outputs": [
    {
     "data": {
      "text/plain": [
       "['청년', '조성', '재생', '안전', '마을', '밝히다', '공간', '건축', '동', '지원']"
      ]
     },
     "execution_count": 42,
     "metadata": {},
     "output_type": "execute_result"
    }
   ],
   "source": [
    "emb_1.wv.index_to_key[:10]"
   ]
  },
  {
   "cell_type": "code",
   "execution_count": 43,
   "metadata": {
    "pycharm": {
     "name": "#%%\n"
    }
   },
   "outputs": [
    {
     "data": {
      "text/plain": [
       "[('영향', 0.4421446621417999),\n",
       " ('심의', 0.35109519958496094),\n",
       " ('과정', 0.3508889675140381),\n",
       " ('아시아', 0.29583078622817993),\n",
       " ('전주', 0.2944321930408478),\n",
       " ('열람', 0.28793466091156006),\n",
       " ('속도', 0.2872171401977539),\n",
       " ('제출', 0.28683722019195557),\n",
       " ('강남', 0.2817912995815277),\n",
       " ('조사', 0.28132718801498413)]"
      ]
     },
     "execution_count": 43,
     "metadata": {},
     "output_type": "execute_result"
    }
   ],
   "source": [
    "emb_1.wv.most_similar('평가')"
   ]
  },
  {
   "cell_type": "code",
   "execution_count": 44,
   "metadata": {
    "pycharm": {
     "name": "#%%\n"
    }
   },
   "outputs": [
    {
     "data": {
      "text/plain": [
       "[('집값', 0.5986903309822083),\n",
       " ('규제', 0.5168193578720093),\n",
       " ('보이다', 0.5138095617294312),\n",
       " ('강남', 0.4898085296154022),\n",
       " ('전주', 0.4879952073097229),\n",
       " ('커지다', 0.47857335209846497),\n",
       " ('이어지다', 0.465284526348114),\n",
       " ('앞두다', 0.4642541706562042),\n",
       " ('택지', 0.4590553343296051),\n",
       " ('영향', 0.4380476176738739)]"
      ]
     },
     "execution_count": 44,
     "metadata": {},
     "output_type": "execute_result"
    }
   ],
   "source": [
    "emb_1.wv.most_similar('상승세')"
   ]
  },
  {
   "cell_type": "markdown",
   "metadata": {
    "pycharm": {
     "name": "#%% md\n"
    }
   },
   "source": [
    "#### 영등포구"
   ]
  },
  {
   "cell_type": "code",
   "execution_count": 45,
   "metadata": {
    "pycharm": {
     "name": "#%%\n"
    }
   },
   "outputs": [
    {
     "data": {
      "text/plain": [
       "['이승주', '타임스퀘어', '인근', '규모', '관광', '호텔', '들어서다', '영등포동', '가', '번지']"
      ]
     },
     "execution_count": 45,
     "metadata": {},
     "output_type": "execute_result"
    }
   ],
   "source": [
    "sentences_list2 = make_sentence_list(Gu2_articles, kiwi_stopwords)\n",
    "sentences_list2[0][:10]\n"
   ]
  },
  {
   "cell_type": "code",
   "execution_count": 46,
   "metadata": {
    "pycharm": {
     "name": "#%%\n"
    }
   },
   "outputs": [],
   "source": [
    "emb_2 = Word2Vec(sentences_list2, vector_size = 1000,\n",
    "                 window = 3, min_count = 5, workers = 4,\n",
    "                 epochs = 1000, sg = 1)"
   ]
  },
  {
   "cell_type": "code",
   "execution_count": 47,
   "metadata": {
    "pycharm": {
     "name": "#%%\n"
    }
   },
   "outputs": [
    {
     "data": {
      "text/plain": [
       "['정비', '재생', '개발', '공간', '문화', '조성', '일대', '환경', '지원', '예정']"
      ]
     },
     "execution_count": 47,
     "metadata": {},
     "output_type": "execute_result"
    }
   ],
   "source": [
    "emb_2.wv.index_to_key[:10]"
   ]
  },
  {
   "cell_type": "code",
   "execution_count": 48,
   "metadata": {
    "pycharm": {
     "name": "#%%\n"
    }
   },
   "outputs": [
    {
     "data": {
      "text/plain": [
       "[('집값', 0.2975984513759613),\n",
       " ('당초', 0.24608196318149567),\n",
       " ('지적', 0.24044476449489594),\n",
       " ('신길역', 0.23641343414783478),\n",
       " ('플랜', 0.23396587371826172),\n",
       " ('장기', 0.23375967144966125),\n",
       " ('편입', 0.22647248208522797),\n",
       " ('지구', 0.2264607697725296),\n",
       " ('붙다', 0.22099263966083527),\n",
       " ('상승세', 0.22017225623130798)]"
      ]
     },
     "execution_count": 48,
     "metadata": {},
     "output_type": "execute_result"
    }
   ],
   "source": [
    "emb_2.wv.most_similar('개발')"
   ]
  },
  {
   "cell_type": "markdown",
   "metadata": {
    "pycharm": {
     "name": "#%% md\n"
    }
   },
   "source": [
    "### Tsne 시각화"
   ]
  },
  {
   "cell_type": "code",
   "execution_count": 49,
   "metadata": {
    "pycharm": {
     "name": "#%%\n"
    }
   },
   "outputs": [],
   "source": [
    "def make_embedded_frame(embeddinng_model, print_head=True):\n",
    "    emd_list = []\n",
    "    for k in embeddinng_model.wv.index_to_key:\n",
    "        emd_list.append(embeddinng_model.wv[k])\n",
    "    emd_frame = pd.DataFrame(emd_list, index=embeddinng_model.wv.index_to_key)\n",
    "    if print_head:\n",
    "        print(emd_frame.head())\n",
    "    return emd_frame"
   ]
  },
  {
   "cell_type": "code",
   "execution_count": 50,
   "metadata": {
    "pycharm": {
     "name": "#%%\n"
    }
   },
   "outputs": [],
   "source": [
    "def create_tsne_frame(embedded_frame,print_head=True):\n",
    "    tsne = TSNE(random_state=random_state, n_components=2, \n",
    "               perplexity=10,\n",
    "               learning_rate=0.1,\n",
    "               early_exaggeration=5)\n",
    "    tsne_point = tsne.fit_transform(embedded_frame.values)\n",
    "    tsne_df = pd.DataFrame(tsne_point, index=embedded_frame.index,\n",
    "                          columns=['x_coord', 'y_coord'])\n",
    "    tsne_df['word'] = embedded_frame.index\n",
    "    if print_head:\n",
    "        print(tsne_df.head())\n",
    "    return tsne_df"
   ]
  },
  {
   "cell_type": "markdown",
   "metadata": {
    "pycharm": {
     "name": "#%% md\n"
    }
   },
   "source": [
    "#### 동작구"
   ]
  },
  {
   "cell_type": "code",
   "execution_count": 51,
   "metadata": {
    "pycharm": {
     "name": "#%%\n"
    }
   },
   "outputs": [
    {
     "name": "stdout",
     "output_type": "stream",
     "text": [
      "         0         1         2         3         4         5         6    \\\n",
      "청년  0.058252 -0.068833  0.014789  0.095542 -0.153259  0.085201  0.024563   \n",
      "조성  0.069335  0.133024  0.117530 -0.278123  0.021693 -0.018050 -0.104643   \n",
      "재생  0.023476  0.042076  0.065620 -0.129943  0.226364  0.093001 -0.067650   \n",
      "안전  0.024495  0.168306  0.001955  0.117885 -0.094240  0.014509  0.152569   \n",
      "마을 -0.280042  0.005286 -0.120956 -0.346832 -0.032857 -0.062175 -0.011154   \n",
      "\n",
      "         7         8         9    ...       990       991       992       993  \\\n",
      "청년  0.155368 -0.019128 -0.035170  ... -0.207477  0.057648  0.250269  0.061491   \n",
      "조성  0.100268 -0.060819  0.039825  ...  0.047786 -0.013193 -0.008080  0.072883   \n",
      "재생 -0.164959  0.341099  0.196124  ... -0.047712  0.071065 -0.083820 -0.173442   \n",
      "안전  0.022670 -0.060304  0.189860  ...  0.062829 -0.113019 -0.164044 -0.042577   \n",
      "마을 -0.010796  0.110865  0.096309  ...  0.114442 -0.166516 -0.058814 -0.209803   \n",
      "\n",
      "         994       995       996       997       998       999  \n",
      "청년  0.259603 -0.098697 -0.080605  0.061983 -0.134890 -0.054892  \n",
      "조성 -0.217775 -0.133739  0.002391  0.174208 -0.155613  0.157673  \n",
      "재생 -0.021019  0.030556  0.035034 -0.119158 -0.035315 -0.013179  \n",
      "안전  0.094878  0.138945 -0.162159 -0.064547 -0.149394  0.151506  \n",
      "마을  0.247773  0.087949  0.182874 -0.217598 -0.333463 -0.002008  \n",
      "\n",
      "[5 rows x 1000 columns]\n"
     ]
    }
   ],
   "source": [
    "emd_frame1 = make_embedded_frame(emb_1)"
   ]
  },
  {
   "cell_type": "code",
   "execution_count": 52,
   "metadata": {
    "pycharm": {
     "name": "#%%\n"
    }
   },
   "outputs": [
    {
     "name": "stdout",
     "output_type": "stream",
     "text": [
      "     x_coord   y_coord word\n",
      "청년  3.214462 -2.350290   청년\n",
      "조성 -0.999310 -4.997361   조성\n",
      "재생 -1.154630 -4.379227   재생\n",
      "안전 -4.419866 -3.026614   안전\n",
      "마을 -3.151322 -5.985423   마을\n"
     ]
    }
   ],
   "source": [
    "t_df1 = create_tsne_frame(emd_frame1)"
   ]
  },
  {
   "cell_type": "code",
   "execution_count": 53,
   "metadata": {
    "pycharm": {
     "name": "#%%\n"
    }
   },
   "outputs": [
    {
     "data": {
      "text/html": [
       "\n",
       "  <div id=\"814fc39f-f916-4a3c-81b7-1542e560699a\" data-root-id=\"p1008\" style=\"display: contents;\"></div>\n"
      ]
     },
     "metadata": {},
     "output_type": "display_data"
    },
    {
     "data": {
      "application/javascript": [
       "(function(root) {\n",
       "  function embed_document(root) {\n",
       "  const docs_json = {\"39aca7df-6bac-4ccb-a09d-941320504e46\":{\"version\":\"3.1.0\",\"title\":\"Bokeh Application\",\"defs\":[],\"roots\":[{\"type\":\"object\",\"name\":\"Figure\",\"id\":\"p1008\",\"attributes\":{\"x_range\":{\"type\":\"object\",\"name\":\"DataRange1d\",\"id\":\"p1009\"},\"y_range\":{\"type\":\"object\",\"name\":\"DataRange1d\",\"id\":\"p1010\"},\"x_scale\":{\"type\":\"object\",\"name\":\"LinearScale\",\"id\":\"p1022\"},\"y_scale\":{\"type\":\"object\",\"name\":\"LinearScale\",\"id\":\"p1024\"},\"title\":{\"type\":\"object\",\"name\":\"Title\",\"id\":\"p1011\",\"attributes\":{\"text\":\"\\ub3d9\\uc791\\uad6c Real Estate Issues\",\"text_color\":\"#E0E0E0\",\"text_font\":\"Helvetica\",\"text_font_size\":\"1.15em\"}},\"outline_line_color\":null,\"outline_line_alpha\":0.25,\"renderers\":[{\"type\":\"object\",\"name\":\"GlyphRenderer\",\"id\":\"p1085\",\"attributes\":{\"data_source\":{\"type\":\"object\",\"name\":\"ColumnDataSource\",\"id\":\"p1005\",\"attributes\":{\"selected\":{\"type\":\"object\",\"name\":\"Selection\",\"id\":\"p1006\",\"attributes\":{\"indices\":[],\"line_indices\":[]}},\"selection_policy\":{\"type\":\"object\",\"name\":\"UnionRenderers\",\"id\":\"p1007\"},\"data\":{\"type\":\"map\",\"entries\":[[\"index\",{\"type\":\"ndarray\",\"array\":[\"\\uccad\\ub144\",\"\\uc870\\uc131\",\"\\uc7ac\\uc0dd\",\"\\uc548\\uc804\",\"\\ub9c8\\uc744\",\"\\ubc1d\\ud788\\ub2e4\",\"\\uacf5\\uac04\",\"\\uac74\\ucd95\",\"\\ub3d9\",\"\\uc9c0\\uc6d0\",\"\\uc13c\\ud130\",\"\\ubd84\\uc591\",\"\\uc815\\ube44\",\"\\uc784\\ub300\",\"\\uc81c\\uacf5\",\"\\uc120\\uc815\",\"\\uc77c\\ub300\",\"\\ub178\\ub7c9\\uc9c4\",\"\\uaddc\\ubaa8\",\"\\uc608\\uc815\",\"\\uacf5\\uacf5\",\"\\uc0c1\\ub3c4\",\"\\uc6b4\\uc601\",\"\\uc9c4\\ud589\",\"\\ub300\\uc0c1\",\"\\ubcc0\\uacbd\",\"\\uac1c\\ubc1c\",\"\\uad50\\uc721\",\"\\uacb0\\uc815\",\"\\ud658\\uacbd\",\"\\uc544\\ud30c\\ud2b8\",\"\\uc0ac\\ub2f9\",\"\\uacf5\\uae09\",\"\\ud65c\\uc131\",\"\\uacfc\\uc7a5\",\"\\uc8fc\\ucc28\\uc7a5\",\"\\uc2e4\\uc2dc\",\"\\uc2e0\\uccad\",\"\\uac00\\uaca9\",\"\\uacf5\\uc2dc\",\"\\uc9c0\\uc0c1\",\"\\uc124\\uce58\",\"\\uae40\\uae30\\ub355\",\"\\uac00\\ub2a5\",\"\\uc0ac\\uc9c4\",\"\\uad00\\ub9ac\",\"\\uc804\\uc6a9\",\"\\ud65c\\uc6a9\",\"\\uc5ed\\uc138\\uad8c\",\"\\uc870\\ud569\",\"\\uad6c\\uccad\",\"\\uc11c\\ube44\\uc2a4\",\"\\ub178\\ud6c4\",\"\\ud589\\uc815\",\"\\ubd80\\uc9c0\",\"\\ubb38\\ud654\",\"\\ubcf8\\ub3d9\",\"\\uac1c\\uc120\",\"\\uc0c1\\ub2f4\",\"\\uc5b4\\ub9b0\\uc774\\uc9d1\",\"\\uae30\\uac04\",\"\\ud751\",\"\\uc0dd\\ud65c\",\"\\uc9c0\\ub098\\ub2e4\",\"\\uc2dc\\ud589\",\"\\uc8fc\\uac70\",\"\\uc2a4\\ub9c8\\ud2b8\",\"\\uac74\\ub9bd\",\"\\uc2e0\\uace0\",\"\\uc62c\\ud574\",\"\\uc9c0\\ud558\",\"\\ubaa8\\uc9d1\",\"\\uc548\",\"\\uc9c0\\uad6c\",\"\\uc11d\",\"\\ub2e8\\uc9c0\",\"\\ubcf5\\ud569\",\"\\uc704\\uc6d0\\ud68c\",\"\\uc815\\ubcf4\",\"\\uc9c0\\ub09c\\ud574\",\"\\ub9cc\\ub4e4\\ub2e4\",\"\\ud751\\uc11d\\ub3d9\",\"\\uc778\\uac00\",\"\\uace8\\ubaa9\",\"\\uacbd\\uc81c\",\"\\ucd09\\uc9c4\",\"\\uc0c1\\ud55c\",\"\\uacf5\\uc601\",\"\\uc2dc\\uc7a5\",\"\\uacf5\\ub3d9\\uccb4\",\"\\uad6c\\ucd95\",\"\\uc870\\ud569\\uc6d0\",\"\\uad6c\\uc131\",\"\\uc0ac\\ud56d\",\"\\uc785\\uc8fc\",\"\\ud0c0\\uc6b4\",\"\\uc801\\uc6a9\",\"\\uc811\\uc218\",\"\\uc0c1\",\"\\uc138\\ub300\",\"\\uc0ac\\ud68c\",\"\\uc124\\uacc4\",\"\\uc608\\ubc29\",\"\\uad00\\ub0b4\",\"\\ud22c\\uc785\",\"\\ub300\\uc0c1\\uc9c0\",\"\\uac70\\uce58\\ub2e4\",\"\\uc8fc\\ubcc0\",\"\\uc548\\ub0b4\",\"\\uc9c0\\uc815\",\"\\uc911\\uc2ec\",\"\\ud589\\ubcf5\",\"\\uac74\\ubb3c\",\"\\ud65c\\ub3d9\",\"\\uc778\\uadfc\",\"\\uc5b4\\ub974\\uc2e0\",\"\\ud3c9\\uac00\",\"\\ub2e4\\uc591\",\"\\uc2ec\\uc758\",\"\\uae38\",\"\\uad6c\\uac04\",\"\\ubc29\\ubb38\",\"\\uae40\",\"\\ub0b4\\uc6a9\",\"\\uac70\\ub9ac\",\"\\uc774\\uc804\",\"\\uacf5\\uc0ac\",\"m\",\"\\uc2e0\\ud63c\\ubd80\\ubd80\",\"\\ub3c4\\uc11c\\uad00\",\"\\uad00\\uacc4\\uc790\",\"\\uc77c\\uc790\\ub9ac\",\"\\uac15\\ud654\",\"\\ubbfc\\uac04\",\"\\uba74\\uc801\",\"\\uc758\\uacac\",\"\\ucf54\\ub85c\\ub098\",\"\\ub9c8\\ub828\",\"\\ucc3d\\uc5c5\",\"\\uc5b4\\ub9b0\\uc774\",\"\\ud504\\ub85c\\uadf8\\ub7a8\",\"\\ucc38\\uc5ec\",\"\\ud3ec\\ud568\",\"\\ud751\\uc11d\",\"\\uc0ac\\uc5c5\\ube44\",\"\\ucd5c\\uc120\",\"\\uc810\\uac80\",\"kidu\",\"\\uc548\\uc2ec\",\"\\uad50\\ud1b5\",\"parkmi\",\"\\ud559\\uad50\",\"\\ubaa8\\uc2b5\",\"\\uad50\\ud1b5\\ubd80\",\"\\uae30\\uc5c5\",\"\\ub274\\uc2a41\",\"\\ubc29\\uc548\",\"\\uad6d\\ud1a0\",\"\\ud655\\ub300\",\"\\uc785\\uc8fc\\uc790\",\"\\ub9de\\ucda4\",\"\\ub3c4\\ub85c\",\"\\ub3d9\\uc791\",\"\\uacf5\\uc6d0\",\"\\ubcf5\\uc9c0\",\"\\ud648\\ud398\\uc774\\uc9c0\",\"\\uc5f0\\uc7a5\",\"\\ubcf5\\uc9c0\\uad00\",\"\\ud655\\ucda9\",\"\\uae30\\ubc18\",\"\\uc0ac\\ub2f9\\ub85c\",\"\\ubc94\\uc8c4\",\"\\uc774\\ud558\",\"\\uc5ed\\uc0ac\",\"\\uc0c1\\uc2b9\",\"\\ud655\\ubcf4\",\"\\uacc4\\uc57d\",\"\\ub4e4\\uc5b4\\uc11c\\ub2e4\",\"\\ubc88\\uc9c0\",\"\\ucc98\\ubd84\",\"\\ub2e8\\uc704\",\"\\ubc99\\ucee4\",\"\\uc18c\\ud1b5\",\"\\uc8fc\\uc694\",\"\\ud1b5\\uacfc\",\"\\ub274\\ub51c\",\"\\ud06c\\ub2e4\",\"\\uc804\\ub7b5\",\"\\ud2b9\\ubcc4\",\"\\uac1c\\ubcc4\",\"\\uc644\\ub8cc\",\"\\ud604\\uc7a5\",\"\\ub274\\uc2a4\",\"\\uc2dc\\uc2a4\\ud15c\",\"\\uc704\\uce58\",\"\\uc8fc\\ucc28\",\"\\ub2ec\",\"\\ucde8\\uc5c5\",\"\\ubc00\\uc9d1\",\"\\uc0c1\\uad8c\",\"\\uc2ec\\uc0ac\",\"\\ub274\\ud0c0\\uc6b4\",\"\\ubd84\\uc57c\",\".\\uad6c\",\"\\ud53c\\ud574\",\"\\ud544\\uc694\",\"\\uc774\\ub2ec\",\"\\ud574\\ub2f9\",\"\\uc804\\ubb38\",\"\\ub178\\ub7c9\\uc9c4\\uc5ed\",\"\\uc808\\ucc28\",\"\\uc81c\\ucd9c\",\"\\uc720\\uc608\",\"\\uc5f4\\ub9ac\\ub2e4\",\"\\ub2e8\\ub3c5\",\"\\uad6d\\uacf5\\ub9bd\",\"\\uc2e4\",\"\\uacbd\\uc6b0\",\"\\uac70\\uc8fc\",\"\\ucee4\\ubba4\\ub2c8\\ud2f0\",\"\\uae30\\uc874\",\"\\uacf5\\ubaa8\",\"\\uc804\\uad6d\",\"\\ucee4\\uc9c0\\ub2e4\",\"\\ucd5c\\uace0\",\"\\uc870\\uc0ac\",\"\\uc218\\ub9bd\",\"\\uc8fc\",\"\\uacbd\\uc7c1\",\"\\ub9ac\\ubaa8\\ub378\\ub9c1\",\"\\ubc18\\ub824\\ub3d9\\ubb3c\",\"\\ubcf4\\ud589\",\"\\uac80\\ud1a0\",\"\\ud611\\uc57d\",\"\\uc2dc\\uacf5\\uc0ac\",\"\\ucd5c\\uc885\",\"\\ud655\\uc7a5\",\"\\uc2dc\\uc124\\ubb3c\",\"\\uc900\\uacf5\",\"\\ucc29\\uacf5\",\"\\uc7a5\\uc2b9\",\"\\uc5f0\\uba74\\uc801\",\"\\uc120\",\"\\uc0b4\\ub2e4\",\"\\uccad\\uc0ac\",\"\\ub514\\uc790\\uc778\",\"\\ubb38\\uc758\",\"\\uccb4\\uacb0\",\"\\uad6d\\ud1a0\\ubd80\",\"\\ud143\\ubc2d\",\"SH\\uacf5\\uc0ac\",\"\\uac1c\\ucd5c\",\"\\ub300\\ud559\",\"\\ucde8\\uc57d\",\"\\uac74\\uc124\",\"\\ubc15\",\"\\uc774\\ucc3d\\uc6b0\",\"\\ubcf4\\uc721\",\"\\ud655\\uc778\",\"\\uace8\\ubaa9\\uae38\",\"\\ucd94\\uac00\",\"\\ubc84\\uc2a4\",\"\\ubd88\\ud3b8\",\"\\ud574\\uacb0\",\"\\uad6c\\ubbfc\",\"\\ubc30\\ud3ec\",\"\\uc804\\uc8fc\",\"\\ub2e8\\uacc4\",\"\\ub9e4\\uc785\",\"\\uc548\\uc815\",\"\\uac15\\ub0a8\",\"\\uc5f0\\uacc4\",\"\\uc2e0\\uaddc\",\"\\uae30\\ub2a5\",\"\\ud14c\\ub9c8\",\"\\ub0b4\\ub144\",\"\\ubcf8\\uaca9\",\"\\uc218\\uc815\",\"\\uc9c0\\uc18d\",\"\\uc0ac\\uace0\",\"\\ubcf4\\ud638\",\"\\uc804\",\"\\uc774\\ud6c4\",\"\\uad6c\",\"\\uad74\\ub2e4\",\"\\uc804\\uae30\",\"\\uac00\\uacb0\",\"\\uc77c\\ubd80\",\"\\ubcf4\\uc774\\ub2e4\",\"\\uc9c0\\uc911\",\"\\ud1b5\\ud569\",\"\\uae08\\uc9c0\",\"\\uae30\\uad00\",\"CCTV\",\"\\ub0a8\\uc131\\uc5ed\",\"\\ucca0\\uac70\",\"\\ubd80\\ubd84\",\"\\ud5c8\\uac00\",\"\\ubaa9\\ud45c\",\"\\uc9c0\\ud558\\ucca0\",\"\\uc9c0\\uac00\",\"\\uc8fc\\uac70\\uc9c0\",\"\\uac70\\ub798\",\"\\ucd5c\\uadfc\",\"\\uacbd\\ub85c\\ub2f9\",\"\\uad6c\\ub9bd\",\"\\ubb34\\ub8cc\",\"\\uc0ac\\ub2f9\\uc5ed\",\"\\uacf5\\uacf5\\uc2dc\\uc124\",\"\\ud1b5\\ud559\\ub85c\",\"\\ud558\\ub8e8\",\"\\uc601\\ud5a5\",\"\\uc0c1\\ud669\",\"\\ub098\\uc11c\\ub2e4\",\"\\ud3ab\",\"\\uc870\\uac74\",\"\\uc5f0\\ub9d0\",\"\\uc9d1\\uac12\",\"\\ucea0\\ud37c\\uc2a4\",\"\\ud1b5\\uc2e0\",\"\\ubc1c\\uad74\",\"\\ubc18\\uc601\",\"\\ud55c\\ud3b8\",\"\\uc0c1\\uc790\",\"\\uc815\\ubd80\",\"\\ud45c\\uc900\",\"\\uc5f4\\ub78c\",\"\\ucd5c\\ucd08\",\"\\ud6a8\\uacfc\",\"\\uac1c\\uad00\",\"\\ud0dd\\uc9c0\",\"\\ud1a0\\uc9c0\",\"\\ub4e4\\uc5b4\\uac00\\ub2e4\",\"\\uae40\\uc601\\uc0bc\",\"\\uac74\\ucd95\\uc0ac\",\"\\uaddc\\uc81c\",\"\\uc0c1\\uac00\",\"\\uc804\\uacbd\",\"\\ub300\\ucc45\",\"\\ub178\\ucd9c\",\"\\uacc4\\ud68d\\uc548\",\"\\uc0c1\\ud0dc\",\"\\uacf5\\uace0\",\"\\ud55c\\uac15\",\"\\uc11c\\ub2e4\",\"\\ub2f9\\uc2dc\",\"\\uac1c\\uc815\",\"\\uc5f4\\ub2e4\",\"\\uc544\\uc6c3\",\"\\ub9c1\\ud06c\",\"\\uc774\\ub3d9\",\"\\ubaa8\\uc784\",\"\\ub2e8\\uccb4\",\"\\ud504\\ub85c\\uc81d\\ud2b8\",\"\\uad00\\uc2ec\",\"\\ucc3d\\uc131\",\"\\uacbd\\uad00\",\"\\uacc4\\uce35\",\"\\uccad\\uc18c\\ub144\",\"\\uc18d\",\"\\uc124\\uba85\\ud68c\",\"\\ubc18\\ub824\\uacac\",\"\\ud55c\\uad6d\",\"\\ub0a8\\uc131\",\"\\uad6c\\ube44\",\"\\uc6b0\\ub824\",\"\\ud65c\\ub825\",\"\\ud558\\ubc18\\uae30\",\"\\uc721\\uc131\",\"\\uc5ed\\ub7c9\",\"\\uc575\\ucee4\",\"\\uc218\\uc694\",\"\\uc544\\uc774\",\"\\uac15\\uc0ac\",\"\\uac00\\uc785\",\"\\ud64d\\ubcf4\",\"\\ud398\\uc774\\uc9c0\",\"\\ud3c9\\uade0\",\"\\uc8fc\\uccb4\",\"\\ud638\\ud761\\uae30\",\"\\ubc29\\uc2dd\",\"\\ubb3c\\ub7c9\",\"\\ubb38\\uc81c\",\"\\uc9c0\\ub09c\\ub2ec\",\"\\ucc29\\uc218\",\"\\uc790\\uc6d0\",\"\\uae30\\ub85d\",\"\\ucd1d\\ud68c\",\"\\uc774\\uc5b4\\uc9c0\\ub2e4\",\"\\ud3b8\\uc758\",\"\\ub124\\uc774\\ubc84\",\"\\uc704\\ud5d8\",\"\\uc6a9\\uc801\",\"\\uac00\\uc2a4\",\"\\uba74\",\"\\uc0c1\\ubc18\\uae30\",\"\\uc18c\\ub4dd\",\"\\ubc29\",\"\\ud611\\ub825\",\"\\uc784\\ub300\\ucc28\",\"\\uc7ac\\ub09c\",\"\\uc601\\uc0c1\",\"\\uc5ed\\ud560\",\"\\uc9d1\\uc218\\ub9ac\",\"\\ube44\\uc804\",\"\\uae30\\ubcf8\",\"\\ubc1c\\ud45c\",\"\\uad11\\uace0\",\"\\uacf5\\uc720\",\"\\ud734\\u00b7\\ud3d0\\uc5c5\",\"\\uc18c\\uc7ac\",\"\\uc2e0\\ucd95\",\"\\uc544\\uc2dc\\uc544\",\"\\ud68c\\uc758\",\"\\uc720\\ud615\",\"\\ubd80\\uc871\",\"\\uc18d\\ub3c4\",\"\\ucc44\\ub0a9\",\"\\uae30\\ubd80\",\"\\ucc98\\ub9ac\",\"\\ub300\\ud45c\",\"\\uc804\\uc7ac\",\"\\uc0c1\\ub3c4\\uc5ed\",\"\\uc5f0\\uad6c\\uc18c\",\"\\ubb34\\ub2e8\",\"\\uc804\\ud658\",\"\\ud38c\\ud504\\uc7a5\",\"\\ud2b9\\ud654\",\"\\uc7a5\",\"\\ubc14\\ub77c\\ub2e4\",\"\\uc0c1\\uc2b9\\uc138\",\"\\ud574\\uc18c\",\"\\ud611\\uc758\",\"\\uc911\\uc559\\ub300\",\"\\ud50c\\ub7ab\\ud3fc\",\"\\uc62c\",\"\\uc218\\uc694\\uc790\",\"\\uc55e\\ub450\\ub2e4\",\"\\ub192\\ub2e4\",\"\\uace0\\uc2dc\",\"\\ube57\\ubb3c\",\"\\uc804\\uccb4\",\"\\uc5c5\\ubb34\",\"\\uc608\\uc0c1\",\"\\uac74\\ucd95\\ubb3c\",\"\\uc6a9\\ub3c4\\uc9c0\\uc5ed\",\"\\uc790\\ub8cc\",\"\\uc0ac\\ub2f9\\ub3d9\",\"\\uc801\\uadf9\",\"\\uacfc\\uc815\",\"\\uac70\\uc810\",\"\\uc804\\ubb38\\uac00\",\"\\uacf5\\uac1c\",\"\\ub180\\uc774\",\"\\uc77c\\uc6d0\",\"\\ub9c8\\uce58\\ub2e4\",\"\\uc0c1\\ub3c4\\ub3d9\",\"solral\",\"\\uc2dc\\ud589\\ub839\",\"A\",\"\\ud3b8\\ub9ac\"],\"shape\":[461],\"dtype\":\"object\",\"order\":\"little\"}],[\"x_coord\",{\"type\":\"ndarray\",\"array\":{\"type\":\"bytes\",\"data\":\"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\"},\"shape\":[461],\"dtype\":\"float32\",\"order\":\"little\"}],[\"y_coord\",{\"type\":\"ndarray\",\"array\":{\"type\":\"bytes\",\"data\":\"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\"},\"shape\":[461],\"dtype\":\"float32\",\"order\":\"little\"}],[\"word\",{\"type\":\"ndarray\",\"array\":[\"\\uccad\\ub144\",\"\\uc870\\uc131\",\"\\uc7ac\\uc0dd\",\"\\uc548\\uc804\",\"\\ub9c8\\uc744\",\"\\ubc1d\\ud788\\ub2e4\",\"\\uacf5\\uac04\",\"\\uac74\\ucd95\",\"\\ub3d9\",\"\\uc9c0\\uc6d0\",\"\\uc13c\\ud130\",\"\\ubd84\\uc591\",\"\\uc815\\ube44\",\"\\uc784\\ub300\",\"\\uc81c\\uacf5\",\"\\uc120\\uc815\",\"\\uc77c\\ub300\",\"\\ub178\\ub7c9\\uc9c4\",\"\\uaddc\\ubaa8\",\"\\uc608\\uc815\",\"\\uacf5\\uacf5\",\"\\uc0c1\\ub3c4\",\"\\uc6b4\\uc601\",\"\\uc9c4\\ud589\",\"\\ub300\\uc0c1\",\"\\ubcc0\\uacbd\",\"\\uac1c\\ubc1c\",\"\\uad50\\uc721\",\"\\uacb0\\uc815\",\"\\ud658\\uacbd\",\"\\uc544\\ud30c\\ud2b8\",\"\\uc0ac\\ub2f9\",\"\\uacf5\\uae09\",\"\\ud65c\\uc131\",\"\\uacfc\\uc7a5\",\"\\uc8fc\\ucc28\\uc7a5\",\"\\uc2e4\\uc2dc\",\"\\uc2e0\\uccad\",\"\\uac00\\uaca9\",\"\\uacf5\\uc2dc\",\"\\uc9c0\\uc0c1\",\"\\uc124\\uce58\",\"\\uae40\\uae30\\ub355\",\"\\uac00\\ub2a5\",\"\\uc0ac\\uc9c4\",\"\\uad00\\ub9ac\",\"\\uc804\\uc6a9\",\"\\ud65c\\uc6a9\",\"\\uc5ed\\uc138\\uad8c\",\"\\uc870\\ud569\",\"\\uad6c\\uccad\",\"\\uc11c\\ube44\\uc2a4\",\"\\ub178\\ud6c4\",\"\\ud589\\uc815\",\"\\ubd80\\uc9c0\",\"\\ubb38\\ud654\",\"\\ubcf8\\ub3d9\",\"\\uac1c\\uc120\",\"\\uc0c1\\ub2f4\",\"\\uc5b4\\ub9b0\\uc774\\uc9d1\",\"\\uae30\\uac04\",\"\\ud751\",\"\\uc0dd\\ud65c\",\"\\uc9c0\\ub098\\ub2e4\",\"\\uc2dc\\ud589\",\"\\uc8fc\\uac70\",\"\\uc2a4\\ub9c8\\ud2b8\",\"\\uac74\\ub9bd\",\"\\uc2e0\\uace0\",\"\\uc62c\\ud574\",\"\\uc9c0\\ud558\",\"\\ubaa8\\uc9d1\",\"\\uc548\",\"\\uc9c0\\uad6c\",\"\\uc11d\",\"\\ub2e8\\uc9c0\",\"\\ubcf5\\ud569\",\"\\uc704\\uc6d0\\ud68c\",\"\\uc815\\ubcf4\",\"\\uc9c0\\ub09c\\ud574\",\"\\ub9cc\\ub4e4\\ub2e4\",\"\\ud751\\uc11d\\ub3d9\",\"\\uc778\\uac00\",\"\\uace8\\ubaa9\",\"\\uacbd\\uc81c\",\"\\ucd09\\uc9c4\",\"\\uc0c1\\ud55c\",\"\\uacf5\\uc601\",\"\\uc2dc\\uc7a5\",\"\\uacf5\\ub3d9\\uccb4\",\"\\uad6c\\ucd95\",\"\\uc870\\ud569\\uc6d0\",\"\\uad6c\\uc131\",\"\\uc0ac\\ud56d\",\"\\uc785\\uc8fc\",\"\\ud0c0\\uc6b4\",\"\\uc801\\uc6a9\",\"\\uc811\\uc218\",\"\\uc0c1\",\"\\uc138\\ub300\",\"\\uc0ac\\ud68c\",\"\\uc124\\uacc4\",\"\\uc608\\ubc29\",\"\\uad00\\ub0b4\",\"\\ud22c\\uc785\",\"\\ub300\\uc0c1\\uc9c0\",\"\\uac70\\uce58\\ub2e4\",\"\\uc8fc\\ubcc0\",\"\\uc548\\ub0b4\",\"\\uc9c0\\uc815\",\"\\uc911\\uc2ec\",\"\\ud589\\ubcf5\",\"\\uac74\\ubb3c\",\"\\ud65c\\ub3d9\",\"\\uc778\\uadfc\",\"\\uc5b4\\ub974\\uc2e0\",\"\\ud3c9\\uac00\",\"\\ub2e4\\uc591\",\"\\uc2ec\\uc758\",\"\\uae38\",\"\\uad6c\\uac04\",\"\\ubc29\\ubb38\",\"\\uae40\",\"\\ub0b4\\uc6a9\",\"\\uac70\\ub9ac\",\"\\uc774\\uc804\",\"\\uacf5\\uc0ac\",\"m\",\"\\uc2e0\\ud63c\\ubd80\\ubd80\",\"\\ub3c4\\uc11c\\uad00\",\"\\uad00\\uacc4\\uc790\",\"\\uc77c\\uc790\\ub9ac\",\"\\uac15\\ud654\",\"\\ubbfc\\uac04\",\"\\uba74\\uc801\",\"\\uc758\\uacac\",\"\\ucf54\\ub85c\\ub098\",\"\\ub9c8\\ub828\",\"\\ucc3d\\uc5c5\",\"\\uc5b4\\ub9b0\\uc774\",\"\\ud504\\ub85c\\uadf8\\ub7a8\",\"\\ucc38\\uc5ec\",\"\\ud3ec\\ud568\",\"\\ud751\\uc11d\",\"\\uc0ac\\uc5c5\\ube44\",\"\\ucd5c\\uc120\",\"\\uc810\\uac80\",\"kidu\",\"\\uc548\\uc2ec\",\"\\uad50\\ud1b5\",\"parkmi\",\"\\ud559\\uad50\",\"\\ubaa8\\uc2b5\",\"\\uad50\\ud1b5\\ubd80\",\"\\uae30\\uc5c5\",\"\\ub274\\uc2a41\",\"\\ubc29\\uc548\",\"\\uad6d\\ud1a0\",\"\\ud655\\ub300\",\"\\uc785\\uc8fc\\uc790\",\"\\ub9de\\ucda4\",\"\\ub3c4\\ub85c\",\"\\ub3d9\\uc791\",\"\\uacf5\\uc6d0\",\"\\ubcf5\\uc9c0\",\"\\ud648\\ud398\\uc774\\uc9c0\",\"\\uc5f0\\uc7a5\",\"\\ubcf5\\uc9c0\\uad00\",\"\\ud655\\ucda9\",\"\\uae30\\ubc18\",\"\\uc0ac\\ub2f9\\ub85c\",\"\\ubc94\\uc8c4\",\"\\uc774\\ud558\",\"\\uc5ed\\uc0ac\",\"\\uc0c1\\uc2b9\",\"\\ud655\\ubcf4\",\"\\uacc4\\uc57d\",\"\\ub4e4\\uc5b4\\uc11c\\ub2e4\",\"\\ubc88\\uc9c0\",\"\\ucc98\\ubd84\",\"\\ub2e8\\uc704\",\"\\ubc99\\ucee4\",\"\\uc18c\\ud1b5\",\"\\uc8fc\\uc694\",\"\\ud1b5\\uacfc\",\"\\ub274\\ub51c\",\"\\ud06c\\ub2e4\",\"\\uc804\\ub7b5\",\"\\ud2b9\\ubcc4\",\"\\uac1c\\ubcc4\",\"\\uc644\\ub8cc\",\"\\ud604\\uc7a5\",\"\\ub274\\uc2a4\",\"\\uc2dc\\uc2a4\\ud15c\",\"\\uc704\\uce58\",\"\\uc8fc\\ucc28\",\"\\ub2ec\",\"\\ucde8\\uc5c5\",\"\\ubc00\\uc9d1\",\"\\uc0c1\\uad8c\",\"\\uc2ec\\uc0ac\",\"\\ub274\\ud0c0\\uc6b4\",\"\\ubd84\\uc57c\",\".\\uad6c\",\"\\ud53c\\ud574\",\"\\ud544\\uc694\",\"\\uc774\\ub2ec\",\"\\ud574\\ub2f9\",\"\\uc804\\ubb38\",\"\\ub178\\ub7c9\\uc9c4\\uc5ed\",\"\\uc808\\ucc28\",\"\\uc81c\\ucd9c\",\"\\uc720\\uc608\",\"\\uc5f4\\ub9ac\\ub2e4\",\"\\ub2e8\\ub3c5\",\"\\uad6d\\uacf5\\ub9bd\",\"\\uc2e4\",\"\\uacbd\\uc6b0\",\"\\uac70\\uc8fc\",\"\\ucee4\\ubba4\\ub2c8\\ud2f0\",\"\\uae30\\uc874\",\"\\uacf5\\ubaa8\",\"\\uc804\\uad6d\",\"\\ucee4\\uc9c0\\ub2e4\",\"\\ucd5c\\uace0\",\"\\uc870\\uc0ac\",\"\\uc218\\ub9bd\",\"\\uc8fc\",\"\\uacbd\\uc7c1\",\"\\ub9ac\\ubaa8\\ub378\\ub9c1\",\"\\ubc18\\ub824\\ub3d9\\ubb3c\",\"\\ubcf4\\ud589\",\"\\uac80\\ud1a0\",\"\\ud611\\uc57d\",\"\\uc2dc\\uacf5\\uc0ac\",\"\\ucd5c\\uc885\",\"\\ud655\\uc7a5\",\"\\uc2dc\\uc124\\ubb3c\",\"\\uc900\\uacf5\",\"\\ucc29\\uacf5\",\"\\uc7a5\\uc2b9\",\"\\uc5f0\\uba74\\uc801\",\"\\uc120\",\"\\uc0b4\\ub2e4\",\"\\uccad\\uc0ac\",\"\\ub514\\uc790\\uc778\",\"\\ubb38\\uc758\",\"\\uccb4\\uacb0\",\"\\uad6d\\ud1a0\\ubd80\",\"\\ud143\\ubc2d\",\"SH\\uacf5\\uc0ac\",\"\\uac1c\\ucd5c\",\"\\ub300\\ud559\",\"\\ucde8\\uc57d\",\"\\uac74\\uc124\",\"\\ubc15\",\"\\uc774\\ucc3d\\uc6b0\",\"\\ubcf4\\uc721\",\"\\ud655\\uc778\",\"\\uace8\\ubaa9\\uae38\",\"\\ucd94\\uac00\",\"\\ubc84\\uc2a4\",\"\\ubd88\\ud3b8\",\"\\ud574\\uacb0\",\"\\uad6c\\ubbfc\",\"\\ubc30\\ud3ec\",\"\\uc804\\uc8fc\",\"\\ub2e8\\uacc4\",\"\\ub9e4\\uc785\",\"\\uc548\\uc815\",\"\\uac15\\ub0a8\",\"\\uc5f0\\uacc4\",\"\\uc2e0\\uaddc\",\"\\uae30\\ub2a5\",\"\\ud14c\\ub9c8\",\"\\ub0b4\\ub144\",\"\\ubcf8\\uaca9\",\"\\uc218\\uc815\",\"\\uc9c0\\uc18d\",\"\\uc0ac\\uace0\",\"\\ubcf4\\ud638\",\"\\uc804\",\"\\uc774\\ud6c4\",\"\\uad6c\",\"\\uad74\\ub2e4\",\"\\uc804\\uae30\",\"\\uac00\\uacb0\",\"\\uc77c\\ubd80\",\"\\ubcf4\\uc774\\ub2e4\",\"\\uc9c0\\uc911\",\"\\ud1b5\\ud569\",\"\\uae08\\uc9c0\",\"\\uae30\\uad00\",\"CCTV\",\"\\ub0a8\\uc131\\uc5ed\",\"\\ucca0\\uac70\",\"\\ubd80\\ubd84\",\"\\ud5c8\\uac00\",\"\\ubaa9\\ud45c\",\"\\uc9c0\\ud558\\ucca0\",\"\\uc9c0\\uac00\",\"\\uc8fc\\uac70\\uc9c0\",\"\\uac70\\ub798\",\"\\ucd5c\\uadfc\",\"\\uacbd\\ub85c\\ub2f9\",\"\\uad6c\\ub9bd\",\"\\ubb34\\ub8cc\",\"\\uc0ac\\ub2f9\\uc5ed\",\"\\uacf5\\uacf5\\uc2dc\\uc124\",\"\\ud1b5\\ud559\\ub85c\",\"\\ud558\\ub8e8\",\"\\uc601\\ud5a5\",\"\\uc0c1\\ud669\",\"\\ub098\\uc11c\\ub2e4\",\"\\ud3ab\",\"\\uc870\\uac74\",\"\\uc5f0\\ub9d0\",\"\\uc9d1\\uac12\",\"\\ucea0\\ud37c\\uc2a4\",\"\\ud1b5\\uc2e0\",\"\\ubc1c\\uad74\",\"\\ubc18\\uc601\",\"\\ud55c\\ud3b8\",\"\\uc0c1\\uc790\",\"\\uc815\\ubd80\",\"\\ud45c\\uc900\",\"\\uc5f4\\ub78c\",\"\\ucd5c\\ucd08\",\"\\ud6a8\\uacfc\",\"\\uac1c\\uad00\",\"\\ud0dd\\uc9c0\",\"\\ud1a0\\uc9c0\",\"\\ub4e4\\uc5b4\\uac00\\ub2e4\",\"\\uae40\\uc601\\uc0bc\",\"\\uac74\\ucd95\\uc0ac\",\"\\uaddc\\uc81c\",\"\\uc0c1\\uac00\",\"\\uc804\\uacbd\",\"\\ub300\\ucc45\",\"\\ub178\\ucd9c\",\"\\uacc4\\ud68d\\uc548\",\"\\uc0c1\\ud0dc\",\"\\uacf5\\uace0\",\"\\ud55c\\uac15\",\"\\uc11c\\ub2e4\",\"\\ub2f9\\uc2dc\",\"\\uac1c\\uc815\",\"\\uc5f4\\ub2e4\",\"\\uc544\\uc6c3\",\"\\ub9c1\\ud06c\",\"\\uc774\\ub3d9\",\"\\ubaa8\\uc784\",\"\\ub2e8\\uccb4\",\"\\ud504\\ub85c\\uc81d\\ud2b8\",\"\\uad00\\uc2ec\",\"\\ucc3d\\uc131\",\"\\uacbd\\uad00\",\"\\uacc4\\uce35\",\"\\uccad\\uc18c\\ub144\",\"\\uc18d\",\"\\uc124\\uba85\\ud68c\",\"\\ubc18\\ub824\\uacac\",\"\\ud55c\\uad6d\",\"\\ub0a8\\uc131\",\"\\uad6c\\ube44\",\"\\uc6b0\\ub824\",\"\\ud65c\\ub825\",\"\\ud558\\ubc18\\uae30\",\"\\uc721\\uc131\",\"\\uc5ed\\ub7c9\",\"\\uc575\\ucee4\",\"\\uc218\\uc694\",\"\\uc544\\uc774\",\"\\uac15\\uc0ac\",\"\\uac00\\uc785\",\"\\ud64d\\ubcf4\",\"\\ud398\\uc774\\uc9c0\",\"\\ud3c9\\uade0\",\"\\uc8fc\\uccb4\",\"\\ud638\\ud761\\uae30\",\"\\ubc29\\uc2dd\",\"\\ubb3c\\ub7c9\",\"\\ubb38\\uc81c\",\"\\uc9c0\\ub09c\\ub2ec\",\"\\ucc29\\uc218\",\"\\uc790\\uc6d0\",\"\\uae30\\ub85d\",\"\\ucd1d\\ud68c\",\"\\uc774\\uc5b4\\uc9c0\\ub2e4\",\"\\ud3b8\\uc758\",\"\\ub124\\uc774\\ubc84\",\"\\uc704\\ud5d8\",\"\\uc6a9\\uc801\",\"\\uac00\\uc2a4\",\"\\uba74\",\"\\uc0c1\\ubc18\\uae30\",\"\\uc18c\\ub4dd\",\"\\ubc29\",\"\\ud611\\ub825\",\"\\uc784\\ub300\\ucc28\",\"\\uc7ac\\ub09c\",\"\\uc601\\uc0c1\",\"\\uc5ed\\ud560\",\"\\uc9d1\\uc218\\ub9ac\",\"\\ube44\\uc804\",\"\\uae30\\ubcf8\",\"\\ubc1c\\ud45c\",\"\\uad11\\uace0\",\"\\uacf5\\uc720\",\"\\ud734\\u00b7\\ud3d0\\uc5c5\",\"\\uc18c\\uc7ac\",\"\\uc2e0\\ucd95\",\"\\uc544\\uc2dc\\uc544\",\"\\ud68c\\uc758\",\"\\uc720\\ud615\",\"\\ubd80\\uc871\",\"\\uc18d\\ub3c4\",\"\\ucc44\\ub0a9\",\"\\uae30\\ubd80\",\"\\ucc98\\ub9ac\",\"\\ub300\\ud45c\",\"\\uc804\\uc7ac\",\"\\uc0c1\\ub3c4\\uc5ed\",\"\\uc5f0\\uad6c\\uc18c\",\"\\ubb34\\ub2e8\",\"\\uc804\\ud658\",\"\\ud38c\\ud504\\uc7a5\",\"\\ud2b9\\ud654\",\"\\uc7a5\",\"\\ubc14\\ub77c\\ub2e4\",\"\\uc0c1\\uc2b9\\uc138\",\"\\ud574\\uc18c\",\"\\ud611\\uc758\",\"\\uc911\\uc559\\ub300\",\"\\ud50c\\ub7ab\\ud3fc\",\"\\uc62c\",\"\\uc218\\uc694\\uc790\",\"\\uc55e\\ub450\\ub2e4\",\"\\ub192\\ub2e4\",\"\\uace0\\uc2dc\",\"\\ube57\\ubb3c\",\"\\uc804\\uccb4\",\"\\uc5c5\\ubb34\",\"\\uc608\\uc0c1\",\"\\uac74\\ucd95\\ubb3c\",\"\\uc6a9\\ub3c4\\uc9c0\\uc5ed\",\"\\uc790\\ub8cc\",\"\\uc0ac\\ub2f9\\ub3d9\",\"\\uc801\\uadf9\",\"\\uacfc\\uc815\",\"\\uac70\\uc810\",\"\\uc804\\ubb38\\uac00\",\"\\uacf5\\uac1c\",\"\\ub180\\uc774\",\"\\uc77c\\uc6d0\",\"\\ub9c8\\uce58\\ub2e4\",\"\\uc0c1\\ub3c4\\ub3d9\",\"solral\",\"\\uc2dc\\ud589\\ub839\",\"A\",\"\\ud3b8\\ub9ac\"],\"shape\":[461],\"dtype\":\"object\",\"order\":\"little\"}]]}}},\"view\":{\"type\":\"object\",\"name\":\"CDSView\",\"id\":\"p1086\",\"attributes\":{\"filter\":{\"type\":\"object\",\"name\":\"AllIndices\",\"id\":\"p1087\"}}},\"glyph\":{\"type\":\"object\",\"name\":\"Circle\",\"id\":\"p1082\",\"attributes\":{\"x\":{\"type\":\"field\",\"field\":\"x_coord\"},\"y\":{\"type\":\"field\",\"field\":\"y_coord\"},\"size\":{\"type\":\"value\",\"value\":10},\"line_color\":{\"type\":\"value\",\"value\":\"red\"},\"line_alpha\":{\"type\":\"value\",\"value\":0.3},\"fill_color\":{\"type\":\"value\",\"value\":\"red\"},\"fill_alpha\":{\"type\":\"value\",\"value\":0.1},\"hatch_color\":{\"type\":\"value\",\"value\":\"red\"}}},\"nonselection_glyph\":{\"type\":\"object\",\"name\":\"Circle\",\"id\":\"p1083\",\"attributes\":{\"x\":{\"type\":\"field\",\"field\":\"x_coord\"},\"y\":{\"type\":\"field\",\"field\":\"y_coord\"},\"size\":{\"type\":\"value\",\"value\":10},\"line_color\":{\"type\":\"value\",\"value\":\"red\"},\"line_alpha\":{\"type\":\"value\",\"value\":0.1},\"fill_color\":{\"type\":\"value\",\"value\":\"red\"},\"fill_alpha\":{\"type\":\"value\",\"value\":0.1},\"hatch_color\":{\"type\":\"value\",\"value\":\"red\"},\"hatch_alpha\":{\"type\":\"value\",\"value\":0.1}}},\"muted_glyph\":{\"type\":\"object\",\"name\":\"Circle\",\"id\":\"p1084\",\"attributes\":{\"x\":{\"type\":\"field\",\"field\":\"x_coord\"},\"y\":{\"type\":\"field\",\"field\":\"y_coord\"},\"size\":{\"type\":\"value\",\"value\":10},\"line_color\":{\"type\":\"value\",\"value\":\"red\"},\"line_alpha\":{\"type\":\"value\",\"value\":0.2},\"fill_color\":{\"type\":\"value\",\"value\":\"red\"},\"fill_alpha\":{\"type\":\"value\",\"value\":0.2},\"hatch_color\":{\"type\":\"value\",\"value\":\"red\"},\"hatch_alpha\":{\"type\":\"value\",\"value\":0.2}}}}}],\"toolbar\":{\"type\":\"object\",\"name\":\"Toolbar\",\"id\":\"p1016\",\"attributes\":{\"tools\":[{\"type\":\"object\",\"name\":\"HoverTool\",\"id\":\"p1040\",\"attributes\":{\"renderers\":\"auto\"}},{\"type\":\"object\",\"name\":\"PanTool\",\"id\":\"p1041\"},{\"type\":\"object\",\"name\":\"WheelZoomTool\",\"id\":\"p1042\"},{\"type\":\"object\",\"name\":\"ZoomInTool\",\"id\":\"p1043\"},{\"type\":\"object\",\"name\":\"ZoomOutTool\",\"id\":\"p1044\"},{\"type\":\"object\",\"name\":\"BoxZoomTool\",\"id\":\"p1045\",\"attributes\":{\"overlay\":{\"type\":\"object\",\"name\":\"BoxAnnotation\",\"id\":\"p1046\",\"attributes\":{\"syncable\":false,\"level\":\"overlay\",\"visible\":false,\"left_units\":\"canvas\",\"right_units\":\"canvas\",\"bottom_units\":\"canvas\",\"top_units\":\"canvas\",\"line_color\":\"black\",\"line_alpha\":1.0,\"line_width\":2,\"line_dash\":[4,4],\"fill_color\":\"lightgrey\",\"fill_alpha\":0.5}}}},{\"type\":\"object\",\"name\":\"UndoTool\",\"id\":\"p1047\"},{\"type\":\"object\",\"name\":\"RedoTool\",\"id\":\"p1048\"},{\"type\":\"object\",\"name\":\"ResetTool\",\"id\":\"p1049\"},{\"type\":\"object\",\"name\":\"TapTool\",\"id\":\"p1050\",\"attributes\":{\"renderers\":\"auto\"}},{\"type\":\"object\",\"name\":\"SaveTool\",\"id\":\"p1051\"},{\"type\":\"object\",\"name\":\"BoxSelectTool\",\"id\":\"p1052\",\"attributes\":{\"renderers\":\"auto\",\"overlay\":{\"type\":\"object\",\"name\":\"BoxAnnotation\",\"id\":\"p1053\",\"attributes\":{\"syncable\":false,\"level\":\"overlay\",\"visible\":false,\"editable\":true,\"line_color\":\"black\",\"line_alpha\":1.0,\"line_width\":2,\"line_dash\":[4,4],\"fill_color\":\"lightgrey\",\"fill_alpha\":0.5}}}},{\"type\":\"object\",\"name\":\"PolySelectTool\",\"id\":\"p1054\",\"attributes\":{\"renderers\":\"auto\",\"overlay\":{\"type\":\"object\",\"name\":\"PolyAnnotation\",\"id\":\"p1055\",\"attributes\":{\"syncable\":false,\"level\":\"overlay\",\"visible\":false,\"xs\":[],\"ys\":[],\"editable\":true,\"line_color\":\"black\",\"line_alpha\":1.0,\"line_width\":2,\"line_dash\":[4,4],\"fill_color\":\"lightgrey\",\"fill_alpha\":0.5}}}},{\"type\":\"object\",\"name\":\"LassoSelectTool\",\"id\":\"p1056\",\"attributes\":{\"renderers\":\"auto\",\"overlay\":{\"type\":\"object\",\"name\":\"PolyAnnotation\",\"id\":\"p1057\",\"attributes\":{\"syncable\":false,\"level\":\"overlay\",\"visible\":false,\"xs\":[],\"ys\":[],\"editable\":true,\"line_color\":\"black\",\"line_alpha\":1.0,\"line_width\":2,\"line_dash\":[4,4],\"fill_color\":\"lightgrey\",\"fill_alpha\":0.5}}}},{\"type\":\"object\",\"name\":\"HoverTool\",\"id\":\"p1077\",\"attributes\":{\"renderers\":\"auto\",\"tooltips\":\"@word\"}}]}},\"left\":[{\"type\":\"object\",\"name\":\"LinearAxis\",\"id\":\"p1033\",\"attributes\":{\"visible\":false,\"ticker\":{\"type\":\"object\",\"name\":\"BasicTicker\",\"id\":\"p1035\",\"attributes\":{\"mantissas\":[1,2,5]}},\"formatter\":{\"type\":\"object\",\"name\":\"BasicTickFormatter\",\"id\":\"p1034\"},\"axis_label_standoff\":10,\"axis_label_text_color\":\"#E0E0E0\",\"axis_label_text_font\":\"Helvetica\",\"axis_label_text_font_size\":\"1.25em\",\"axis_label_text_font_style\":\"normal\",\"major_label_policy\":{\"type\":\"object\",\"name\":\"AllLabels\",\"id\":\"p1036\"},\"major_label_text_color\":\"#E0E0E0\",\"major_label_text_font\":\"Helvetica\",\"major_label_text_font_size\":\"1.025em\",\"axis_line_color\":\"#E0E0E0\",\"axis_line_alpha\":0,\"major_tick_line_color\":\"#E0E0E0\",\"major_tick_line_alpha\":0,\"minor_tick_line_color\":\"#E0E0E0\",\"minor_tick_line_alpha\":0}}],\"below\":[{\"type\":\"object\",\"name\":\"LinearAxis\",\"id\":\"p1026\",\"attributes\":{\"visible\":false,\"ticker\":{\"type\":\"object\",\"name\":\"BasicTicker\",\"id\":\"p1028\",\"attributes\":{\"mantissas\":[1,2,5]}},\"formatter\":{\"type\":\"object\",\"name\":\"BasicTickFormatter\",\"id\":\"p1027\"},\"axis_label_standoff\":10,\"axis_label_text_color\":\"#E0E0E0\",\"axis_label_text_font\":\"Helvetica\",\"axis_label_text_font_size\":\"1.25em\",\"axis_label_text_font_style\":\"normal\",\"major_label_policy\":{\"type\":\"object\",\"name\":\"AllLabels\",\"id\":\"p1029\"},\"major_label_text_color\":\"#E0E0E0\",\"major_label_text_font\":\"Helvetica\",\"major_label_text_font_size\":\"1.025em\",\"axis_line_color\":\"#E0E0E0\",\"axis_line_alpha\":0,\"major_tick_line_color\":\"#E0E0E0\",\"major_tick_line_alpha\":0,\"minor_tick_line_color\":\"#E0E0E0\",\"minor_tick_line_alpha\":0}}],\"center\":[{\"type\":\"object\",\"name\":\"Grid\",\"id\":\"p1032\",\"attributes\":{\"axis\":{\"id\":\"p1026\"},\"grid_line_color\":null,\"grid_line_alpha\":0.25}},{\"type\":\"object\",\"name\":\"Grid\",\"id\":\"p1039\",\"attributes\":{\"dimension\":1,\"axis\":{\"id\":\"p1033\"},\"grid_line_color\":null,\"grid_line_alpha\":0.25}}],\"background_fill_color\":\"#20262B\",\"border_fill_color\":\"#15191C\"}}],\"callbacks\":{\"type\":\"map\"}}};\n",
       "  const render_items = [{\"docid\":\"39aca7df-6bac-4ccb-a09d-941320504e46\",\"roots\":{\"p1008\":\"814fc39f-f916-4a3c-81b7-1542e560699a\"},\"root_ids\":[\"p1008\"]}];\n",
       "  root.Bokeh.embed.embed_items_notebook(docs_json, render_items);\n",
       "  }\n",
       "  if (root.Bokeh !== undefined) {\n",
       "    embed_document(root);\n",
       "  } else {\n",
       "    let attempts = 0;\n",
       "    const timer = setInterval(function(root) {\n",
       "      if (root.Bokeh !== undefined) {\n",
       "        clearInterval(timer);\n",
       "        embed_document(root);\n",
       "      } else {\n",
       "        attempts++;\n",
       "        if (attempts > 100) {\n",
       "          clearInterval(timer);\n",
       "          console.log(\"Bokeh: ERROR: Unable to run BokehJS code because BokehJS library is missing\");\n",
       "        }\n",
       "      }\n",
       "    }, 10, root)\n",
       "  }\n",
       "})(window);"
      ],
      "application/vnd.bokehjs_exec.v0+json": ""
     },
     "metadata": {
      "application/vnd.bokehjs_exec.v0+json": {
       "id": "p1008"
      }
     },
     "output_type": "display_data"
    }
   ],
   "source": [
    "plot_data = ColumnDataSource(t_df1)\n",
    "colors = [\"#%02x%02x%02x\"]\n",
    "\n",
    "TOOLS=\"hover,pan,wheel_zoom,zoom_in,\\\n",
    "zoom_out,box_zoom,undo,redo,reset,tap,save,box_select,\\\n",
    "poly_select,lasso_select,\"\n",
    "\n",
    "\n",
    "p = figure(tools = TOOLS, title = '동작구 Real Estate Issues')\n",
    "p.add_tools(HoverTool(tooltips = '@word'))\n",
    "\n",
    "p.circle('x_coord', 'y_coord', source = plot_data,\n",
    "        fill_alpha = 0.1, line_alpha = 0.3, \n",
    "        color='red', size = 10)\n",
    "\n",
    "\n",
    "p.xaxis.visible = False\n",
    "p.yaxis.visible = False\n",
    "p.grid.grid_line_color = None\n",
    "p.outline_line_color = None\n",
    "show(p)"
   ]
  },
  {
   "cell_type": "code",
   "execution_count": 54,
   "metadata": {
    "pycharm": {
     "name": "#%%\n"
    }
   },
   "outputs": [
    {
     "data": {
      "text/plain": [
       "'/Users/jeonsohyun/Library/CloudStorage/OneDrive-숭실대학교-SoongsilUniversity/project/real_estate_issues/outputs/tsne_dongjak.html'"
      ]
     },
     "execution_count": 54,
     "metadata": {},
     "output_type": "execute_result"
    }
   ],
   "source": [
    "output_file(\"../outputs/tsne_dongjak.html\")\n",
    "save(p)"
   ]
  },
  {
   "cell_type": "markdown",
   "metadata": {
    "pycharm": {
     "name": "#%% md\n"
    }
   },
   "source": [
    "#### 영등포구"
   ]
  },
  {
   "cell_type": "code",
   "execution_count": null,
   "metadata": {
    "pycharm": {
     "name": "#%%\n"
    }
   },
   "outputs": [],
   "source": [
    "emd_frame2 = make_embedded_frame(emb_2)\n",
    "t_df2 = create_tsne_frame(emd_frame2)"
   ]
  },
  {
   "cell_type": "code",
   "execution_count": null,
   "metadata": {
    "pycharm": {
     "name": "#%%\n"
    }
   },
   "outputs": [],
   "source": [
    "plot_data = ColumnDataSource(t_df2)\n",
    "colors = [\"#%02x%02x%02x\"]\n",
    "\n",
    "TOOLS=\"hover,pan,wheel_zoom,zoom_in,\\\n",
    "zoom_out,box_zoom,undo,redo,reset,tap,save,box_select,\\\n",
    "poly_select,lasso_select,\"\n",
    "\n",
    "\n",
    "p = figure(tools = TOOLS, title = '영등포구 Real Estate Issues')\n",
    "p.add_tools(HoverTool(tooltips = '@word'))\n",
    "\n",
    "p.circle('x_coord', 'y_coord', source = plot_data,\n",
    "        fill_alpha = 0.1, line_alpha = 0.3, \n",
    "        color='blue', size = 10)\n",
    "\n",
    "\n",
    "p.xaxis.visible = False\n",
    "p.yaxis.visible = False\n",
    "p.grid.grid_line_color = None\n",
    "p.outline_line_color = None\n",
    "show(p)"
   ]
  },
  {
   "cell_type": "code",
   "execution_count": null,
   "metadata": {
    "pycharm": {
     "name": "#%%\n"
    }
   },
   "outputs": [],
   "source": [
    "output_file(\"../outputs/tsne_youngdeungpo.html\")\n",
    "save(p)"
   ]
  },
  {
   "cell_type": "code",
   "execution_count": null,
   "metadata": {
    "pycharm": {
     "name": "#%%\n"
    }
   },
   "outputs": [],
   "source": []
  },
  {
   "cell_type": "code",
   "execution_count": null,
   "metadata": {
    "pycharm": {
     "name": "#%%\n"
    }
   },
   "outputs": [],
   "source": []
  },
  {
   "cell_type": "code",
   "execution_count": null,
   "metadata": {
    "pycharm": {
     "name": "#%%\n"
    }
   },
   "outputs": [],
   "source": []
  },
  {
   "cell_type": "code",
   "execution_count": null,
   "metadata": {
    "pycharm": {
     "name": "#%%\n"
    }
   },
   "outputs": [],
   "source": []
  },
  {
   "cell_type": "markdown",
   "metadata": {
    "pycharm": {
     "name": "#%% md\n"
    }
   },
   "source": [
    "## LDA\n",
    "* 숨겨진 (latent) 레이어를 이용하여 컨텐츠의 주제를 파악해 볼 수 있다\n",
    "* 추출된 주제의 연과된 단어를 시각화를 통해 쉽게 파악할 수 있다"
   ]
  },
  {
   "cell_type": "markdown",
   "metadata": {
    "pycharm": {
     "name": "#%% md\n"
    }
   },
   "source": [
    "### Make Topics"
   ]
  },
  {
   "cell_type": "code",
   "execution_count": 365,
   "metadata": {
    "pycharm": {
     "name": "#%%\n"
    }
   },
   "outputs": [],
   "source": [
    "def make_dict_corpus(token_list):\n",
    "    cor_dict = corpora.Dictionary(token_list)\n",
    "    cor_dict.filter_extremes(no_below=5)\n",
    "    corpus = [cor_dict.doc2bow(text) for text in token_list]\n",
    "    return cor_dict, corpus"
   ]
  },
  {
   "cell_type": "code",
   "execution_count": 392,
   "metadata": {
    "pycharm": {
     "name": "#%%\n"
    }
   },
   "outputs": [],
   "source": [
    "# 최적의 토픽 개수 확인\n",
    "def compute_coherences(corpus, dictionary, sentences, start=2, limit=10, step=2, show=True):\n",
    "    coherence_values = []\n",
    "\n",
    "    for num_topics in range(start, limit, step):\n",
    "        model = LdaModel(corpus=corpus, id2word=dictionary, num_topics=num_topics, random_state=random_state)\n",
    "        c_model = CoherenceModel(model, texts=sentences, \n",
    "                       dictionary=dictionary, coherence='c_v')\n",
    "        coherence_values.append(c_model.get_coherence())\n",
    "    \n",
    "    if show:\n",
    "        x = range(start, limit, step)\n",
    "        plt.plot(x, coherence_values)\n",
    "        plt.xticks(np.arange(0, limit, step))\n",
    "        plt.xlabel(\"Num Topics\")\n",
    "        plt.ylabel(\"Coherence score\")\n",
    "        plt.legend((\"coherence_values\"), loc='best')\n",
    "        plt.show()\n",
    "        \n",
    "    return coherence_values"
   ]
  },
  {
   "cell_type": "code",
   "execution_count": 379,
   "metadata": {
    "pycharm": {
     "name": "#%%\n"
    }
   },
   "outputs": [],
   "source": [
    "def get_coherence_scores(model, sentences, dictionary):\n",
    "    #c_v : 응집성 (0~1)\n",
    "    coherence = CoherenceModel(model=model, \n",
    "                                 texts=sentences,\n",
    "                                 dictionary=dictionary,\n",
    "                                 coherence='c_v')\n",
    "    cv_score = coherence.get_coherence()\n",
    "    print(f'c_v : {cv_score}')\n",
    "\n",
    "    #u_mass : 일관성, 0에 가까울수록 좋음\n",
    "    coherence = CoherenceModel(model=model, \n",
    "                                 texts=sentences,\n",
    "                                 dictionary=dictionary,\n",
    "                                 coherence='u_mass')\n",
    "    umass_score = coherence.get_coherence()\n",
    "    print(f'u_mass : {umass_score}')\n",
    "    \n",
    "    return cv_score, umass_score"
   ]
  },
  {
   "cell_type": "markdown",
   "metadata": {
    "pycharm": {
     "name": "#%% md\n"
    }
   },
   "source": [
    "#### 동작구"
   ]
  },
  {
   "cell_type": "code",
   "execution_count": 368,
   "metadata": {
    "pycharm": {
     "name": "#%%\n"
    }
   },
   "outputs": [],
   "source": [
    "cor_dict1, corpus1 = make_dict_corpus(sentences_list1)"
   ]
  },
  {
   "cell_type": "code",
   "execution_count": 393,
   "metadata": {
    "pycharm": {
     "name": "#%%\n"
    }
   },
   "outputs": [
    {
     "data": {
      "image/png": "[encoded data removed]",
      "text/plain": [
       "<Figure size 432x288 with 1 Axes>"
      ]
     },
     "metadata": {
      "needs_background": "light"
     },
     "output_type": "display_data"
    }
   ],
   "source": [
    "coh_list = compute_coherences(corpus1, cor_dict1, sentences_list1, limit=14)\n",
    "\n"
   ]
  },
  {
   "cell_type": "code",
   "execution_count": 394,
   "metadata": {
    "pycharm": {
     "name": "#%%\n"
    }
   },
   "outputs": [],
   "source": [
    "# LDA 모델 학습\n",
    "best_n_topic1 = 4\n",
    "lda_model1 = LdaModel(corpus1, \n",
    "                    num_topics = best_n_topic1, \n",
    "                    id2word=cor_dict1,\n",
    "                    random_state=random_state,\n",
    "                    passes=30)\n"
   ]
  },
  {
   "cell_type": "code",
   "execution_count": 395,
   "metadata": {
    "pycharm": {
     "name": "#%%\n"
    }
   },
   "outputs": [
    {
     "name": "stdout",
     "output_type": "stream",
     "text": [
      "c_v : 0.357687043806437\n",
      "u_mass : -3.584661386255601\n"
     ]
    }
   ],
   "source": [
    "## score\n",
    "_, _ = get_coherence_scores(lda_model1, sentences_list1, cor_dict1 )\n"
   ]
  },
  {
   "cell_type": "markdown",
   "metadata": {
    "pycharm": {
     "name": "#%% md\n"
    }
   },
   "source": [
    "#### 영등포구"
   ]
  },
  {
   "cell_type": "code",
   "execution_count": 397,
   "metadata": {
    "pycharm": {
     "name": "#%%\n"
    }
   },
   "outputs": [
    {
     "data": {
      "image/png": "[encoded data removed]",
      "text/plain": [
       "<Figure size 432x288 with 1 Axes>"
      ]
     },
     "metadata": {
      "needs_background": "light"
     },
     "output_type": "display_data"
    }
   ],
   "source": [
    "cor_dict2, corpus2 = make_dict_corpus(sentences_list2)\n",
    "coh_list2 = compute_coherences(corpus2, cor_dict2, sentences_list2, limit=14)"
   ]
  },
  {
   "cell_type": "code",
   "execution_count": 398,
   "metadata": {
    "pycharm": {
     "name": "#%%\n"
    }
   },
   "outputs": [],
   "source": [
    "best_n_topic2 = 6\n",
    "lda_model2 = LdaModel(corpus2, \n",
    "                    num_topics = best_n_topic2, \n",
    "                    id2word=cor_dict2,\n",
    "                    random_state=random_state,\n",
    "                    passes=30)"
   ]
  },
  {
   "cell_type": "code",
   "execution_count": 399,
   "metadata": {
    "pycharm": {
     "name": "#%%\n"
    }
   },
   "outputs": [
    {
     "name": "stdout",
     "output_type": "stream",
     "text": [
      "c_v : 0.4093162782366003\n",
      "u_mass : -2.75857508574736\n"
     ]
    }
   ],
   "source": [
    "_, _ = get_coherence_scores(lda_model2, sentences_list2, cor_dict2 )"
   ]
  },
  {
   "cell_type": "markdown",
   "metadata": {
    "pycharm": {
     "name": "#%% md\n"
    }
   },
   "source": [
    "### Visualize Topics"
   ]
  },
  {
   "cell_type": "markdown",
   "metadata": {
    "pycharm": {
     "name": "#%% md\n"
    }
   },
   "source": [
    "#### 동작구"
   ]
  },
  {
   "cell_type": "code",
   "execution_count": 403,
   "metadata": {
    "pycharm": {
     "name": "#%%\n"
    }
   },
   "outputs": [
    {
     "data": {
      "text/html": [
       "\n",
       "<link rel=\"stylesheet\" type=\"text/css\" href=\"https://cdn.jsdelivr.net/gh/bmabey/pyLDAvis@3.4.0/pyLDAvis/js/ldavis.v1.0.0.css\">\n",
       "\n",
       "\n",
       "<div id=\"ldavis_el561601404556586144482578406377\" style=\"background-color:white;\"></div>\n",
       "<script type=\"text/javascript\">\n",
       "\n",
       "var ldavis_el561601404556586144482578406377_data = {\"mdsDat\": {\"x\": [-0.19512332449678363, 0.09969649168927146, 0.057172409646195424, 0.038254423161316824], \"y\": [-0.009024260627811188, 0.010587037152889226, -0.14571059578974926, 0.14414781926467118], \"topics\": [1, 2, 3, 4], \"cluster\": [1, 1, 1, 1], \"Freq\": [32.194240713241875, 26.681703833573966, 21.858990707532506, 19.265064745651653]}, \"tinfo\": {\"Term\": [\"\\uc7ac\\uc0dd\", \"\\ub9c8\\uc744\", \"\\uc5ed\\uc138\\uad8c\", \"\\ubd84\\uc591\", \"\\uc870\\ud569\", \"\\ud751\", \"\\uc784\\ub300\", \"\\uccad\\ub144\", \"\\uacb0\\uc815\", \"\\uc0c1\\ub2f4\", \"\\uc11d\", \"\\uc870\\uc131\", \"\\ud751\\uc11d\\ub3d9\", \"\\ud589\\uc815\", \"\\ubcc0\\uacbd\", \"\\uc815\\ube44\", \"\\uc548\\uc804\", \"\\uc870\\ud569\\uc6d0\", \"\\uc774\\uc804\", \"\\uc2e0\\uccad\", \"\\uad00\\ub9ac\", \"\\uc2a4\\ub9c8\\ud2b8\", \"\\ud65c\\uc131\", \"\\uacf5\\uae09\", \"\\uc9c0\\uad6c\", \"\\ub178\\ub7c9\\uc9c4\", \"\\uac74\\ucd95\", \"\\uc0c1\", \"\\uc2dc\\ud589\", \"\\uc804\\uc6a9\", \"\\uc7ac\\uc0dd\", \"\\ub9c8\\uc744\", \"\\uc2a4\\ub9c8\\ud2b8\", \"\\uc758\\uacac\", \"\\uc804\\ub7b5\", \"\\ud22c\\uc785\", \"\\ubd84\\uc57c\", \"\\uc0b4\\ub2e4\", \"\\ub9ac\\ubaa8\\ub378\\ub9c1\", \"\\uc18c\\ud1b5\", \"\\uac70\\ub9ac\", \"\\uace8\\ubaa9\", \"\\uae30\\uc5c5\", \"\\ud65c\\uc131\", \"\\ub9cc\\ub4e4\\ub2e4\", \"\\ucc38\\uc5ec\", \"\\uad6c\\ucd95\", \"\\uc0ac\\ub2f9\", \"\\uc5ed\\uc0ac\", \"\\uae30\\ubc18\", \"\\ud65c\\ub3d9\", \"\\uc8fc\\uac70\\uc9c0\", \"\\ubc15\", \"\\ud604\\uc7a5\", \"\\ucc3d\\uc5c5\", \"\\uc8fc\\uccb4\", \"\\uc870\\uc131\", \"\\uae38\", \"\\uacf5\\ubaa8\", \"\\ubb38\\ud654\", \"\\uacf5\\uac04\", \"\\uc9c0\\uc6d0\", \"\\uc548\\uc804\", \"\\uc120\\uc815\", \"\\ub300\\uc0c1\", \"\\uad50\\uc721\", \"\\ub3d9\", \"\\uc124\\uce58\", \"\\uc0dd\\ud65c\", \"\\uc2e4\\uc2dc\", \"\\uc77c\\ub300\", \"\\uc6b4\\uc601\", \"\\uac1c\\uc120\", \"\\uc0c1\\ub3c4\", \"\\uc13c\\ud130\", \"\\ud658\\uacbd\", \"\\uacfc\\uc7a5\", \"\\uc0c1\\ub2f4\", \"\\ud589\\uc815\", \"\\uc2ec\\uc0ac\", \"\\uad6c\\ubbfc\", \"\\uc774\\uc5b4\\uc9c0\\ub2e4\", \"\\uc2e0\\uccad\", \"\\ubd84\\uc591\", \"\\ud611\\uc57d\", \"\\uccb4\\uacb0\", \"\\uc774\\ucc3d\\uc6b0\", \"\\uacf5\\uc601\", \"\\ub9de\\ucda4\", \"\\ubcf5\\ud569\", \"\\ub2e8\\uc9c0\", \"\\ubc29\\uc2dd\", \"\\ud544\\uc694\", \"\\ud655\\uc778\", \"\\uae30\\ubd80\", \"\\ucc44\\ub0a9\", \"\\uad6c\\uccad\", \"\\ubc29\\ubb38\", \"\\uccad\\uc0ac\", \"\\ubb38\\uc758\", \"\\ub300\\ud559\", \"\\ubb34\\ub8cc\", \"\\uae30\\uc874\", \"\\uc804\\uc6a9\", \"\\uc11c\\ube44\\uc2a4\", \"\\ud648\\ud398\\uc774\\uc9c0\", \"\\ub3d9\\uc791\", \"\\uac74\\ucd95\", \"\\uc784\\ub300\", \"\\uccad\\ub144\", \"\\uc8fc\\ucc28\\uc7a5\", \"\\uae30\\uac04\", \"\\uacf5\\uae09\", \"\\uae40\\uae30\\ub355\", \"\\uc6b4\\uc601\", \"\\uacf5\\uacf5\", \"\\uc544\\ud30c\\ud2b8\", \"\\ubaa8\\uc9d1\", \"\\ud589\\ubcf5\", \"\\uc13c\\ud130\", \"\\uac1c\\ubc1c\", \"\\uaddc\\ubaa8\", \"\\ub178\\ub7c9\\uc9c4\", \"\\uc2dc\\uc7a5\", \"\\uc608\\uc815\", \"\\uc9c0\\uc0c1\", \"\\uacf5\\uac04\", \"\\uc5ed\\uc138\\uad8c\", \"\\ubc88\\uc9c0\", \"\\uc218\\uc815\", \"\\uac00\\uacb0\", \"\\ucc3d\\uc131\", \"solral\", \"\\ucf54\\ub85c\\ub098\", \"\\ub124\\uc774\\ubc84\", \"\\uc9c0\\uad6c\", \"\\uacb0\\uc815\", \"\\ud2b9\\ubcc4\", \"\\uc138\\ub300\", \"\\ucde8\\uc57d\", \"\\ubcc0\\uacbd\", \"\\ub2e8\\ub3c5\", \"\\uc704\\uc6d0\\ud68c\", \"\\ucd09\\uc9c4\", \"\\ub274\\uc2a4\", \"\\uc9c0\\ud558\\ucca0\", \"\\uacbd\\uad00\", \"\\uac1c\\ucd5c\", \"\\ub2e8\\uc704\", \"\\uc544\\uc6c3\", \"\\ub9c1\\ud06c\", \"\\ud398\\uc774\\uc9c0\", \"\\uc774\\ub3d9\", \"\\ubb34\\ub2e8\", \"\\uc804\\uc7ac\", \"\\ub0b4\\ub144\", \"\\ub4e4\\uc5b4\\uc11c\\ub2e4\", \"\\uc9c0\\ud558\", \"\\ub0b4\\uc6a9\", \"\\ub178\\ub7c9\\uc9c4\", \"\\uc548\", \"\\uac74\\ub9bd\", \"\\uc2e0\\ud63c\\ubd80\\ubd80\", \"\\ud658\\uacbd\", \"\\uc815\\ube44\", \"\\uc784\\ub300\", \"\\uacf5\\uacf5\", \"\\uc77c\\ub300\", \"\\uccad\\ub144\", \"\\uacf5\\uae09\", \"\\uc9c0\\uc0c1\", \"\\uc548\\uc804\", \"\\uc8fc\\uac70\", \"\\uc0ac\\uc9c4\", \"\\uac74\\ucd95\", \"\\uaddc\\ubaa8\", \"\\uc870\\uc131\", \"\\uc804\\uc6a9\", \"\\uc608\\uc815\", \"\\ud751\", \"\\uc774\\uc804\", \"\\uc870\\ud569\", \"\\ub274\\ud0c0\\uc6b4\", \"\\uc11d\", \"\\ud751\\uc11d\\ub3d9\", \"\\uc870\\ud569\\uc6d0\", \"\\ub9c8\\uce58\\ub2e4\", \"\\ud751\\uc11d\", \"\\uc0c1\", \"\\ucd5c\\uadfc\", \"\\ud1b5\\uacfc\", \"\\uad6c\\uac04\", \"\\uc5b4\\ub974\\uc2e0\", \"\\uad00\\ub9ac\", \"\\uc11c\\ub2e4\", \"m\", \"\\ud53c\\ud574\", \"\\ubc29\\uc548\", \"\\ubcf5\\uc9c0\", \"\\uc2dc\\ud589\", \"\\ub4e4\\uc5b4\\uac00\\ub2e4\", \"\\uc2dc\\uacf5\\uc0ac\", \"\\uc608\\ubc29\", \"\\uc2e0\\uace0\", \"\\ub9e4\\uc785\", \"\\ub2e8\\uacc4\", \"\\uc704\\uce58\", \"\\uc815\\ubd80\", \"\\ubd80\\uc9c0\", \"\\ud65c\\uc6a9\", \"\\uc801\\uc6a9\", \"\\uc9c0\\uc815\", \"\\uc815\\ube44\", \"\\uc0ac\\ud56d\", \"\\uc0c1\\ub3c4\", \"\\ub3d9\", \"\\uac00\\ub2a5\", \"\\uc544\\ud30c\\ud2b8\", \"\\uac1c\\ubc1c\", \"\\uc13c\\ud130\", \"\\uc9c4\\ud589\", \"\\uc608\\uc815\"], \"Freq\": [57.0, 54.0, 25.0, 45.0, 23.0, 21.0, 44.0, 68.0, 29.0, 23.0, 20.0, 67.0, 19.0, 24.0, 31.0, 44.0, 56.0, 17.0, 14.0, 27.0, 24.0, 22.0, 28.0, 29.0, 21.0, 36.0, 49.0, 16.0, 22.0, 25.0, 56.50364845523342, 52.508535426161615, 21.39225051662252, 13.737957672574083, 10.896412564473541, 16.16550284039123, 9.859187717877893, 8.946805443900995, 8.866176030383341, 10.636481553885478, 13.815065745783649, 16.954281673983804, 11.875234932006611, 25.404756050390187, 17.516930038146498, 12.442570509204717, 15.607011429974445, 25.374497780827838, 9.924717998126805, 9.896402849776667, 12.942161275910625, 6.060792512698473, 6.742301287442756, 8.943360153938377, 10.781903070904281, 4.948133398203167, 49.533038449016246, 11.289675180279625, 7.673691263819742, 17.076692030966733, 37.2272664639895, 33.33247849249262, 35.355688393287245, 26.39897547318755, 20.011537656475397, 19.6437274865657, 25.964595435737667, 14.85426371510394, 13.621424821189596, 14.053720102380202, 16.124773345280282, 15.012398198588699, 13.156412541836344, 14.268162540733982, 14.485328837332814, 13.30809879327685, 13.030942030585281, 22.875933188572468, 22.857114862180403, 9.604316017721587, 7.658863973822661, 5.77730137389906, 23.170270224587995, 37.88259091653911, 7.7506559350583935, 7.750529878176834, 6.829990826950403, 14.398486472759345, 10.465972049195361, 16.583533328007597, 16.308182308731162, 4.952525653920059, 7.742932927213862, 6.156623299546109, 3.998647737855324, 3.998631257941909, 17.110708989114922, 10.260092249480001, 6.2758719530161855, 6.187133112581526, 6.2023125584430705, 4.950860315301292, 6.538982733444682, 15.577262875984076, 15.022418307617029, 7.5057684694113, 7.349266537984954, 28.326591113737074, 25.519901107746794, 35.39715629496048, 15.448364510406368, 13.050651600571282, 16.181711405487338, 13.111040942234316, 15.586320467693925, 15.69261070503672, 13.548962548771803, 10.3411040343721, 8.835909118774964, 13.931110345887573, 11.561202808560134, 11.88258078039789, 11.55337571705193, 8.885128548598166, 9.257394180090767, 9.061036300873752, 9.361271989406655, 24.343805109404652, 11.281588844265368, 7.547842080882999, 6.669301392478627, 5.795930468658258, 4.8682900441525865, 11.664079417230559, 4.597939258831525, 17.357756745992155, 23.413472977543872, 8.69552318637677, 12.845924646454657, 6.714995990869874, 22.582903611492142, 7.29598221657425, 14.518681018680727, 12.668184795555797, 7.6398073276732035, 4.881398024180016, 4.11369958972642, 5.74087837371906, 7.496695851333254, 3.955462537156048, 3.95517380156419, 3.954701023679572, 3.953620456189779, 3.337122831901516, 3.3369096555006363, 4.826798336936019, 7.013393210941349, 12.335682667420908, 8.526229858206102, 19.99651866272756, 11.843474464450916, 11.65189141180426, 8.11084853521184, 14.714567392273144, 19.237224115721983, 18.895186844038406, 15.419800404015614, 16.839645241688594, 24.379724859227558, 13.218466987378793, 11.589134174286595, 17.900543655560217, 10.639750704341859, 11.22082883276128, 13.387740419085377, 11.249529955925063, 12.28574727982816, 9.212181301351666, 8.68032607762072, 21.11276230513598, 13.840425366531216, 22.02062965343575, 9.240538806200039, 18.282593313909537, 17.188082253373313, 15.39549264632178, 4.650705888922402, 10.683471225055412, 12.911887928518215, 5.595712430086975, 8.393127754471635, 11.065613203593086, 11.47234485660257, 17.139370515734505, 4.162464157852317, 9.289607932478955, 6.26338121142589, 7.967537170534895, 7.29256279757842, 13.43441433594326, 3.863307320535882, 5.391736621335504, 9.31479214132403, 11.687483632726234, 4.316524129855081, 4.302413123712078, 5.678922609248656, 3.6545961123029653, 11.296033684162166, 12.152989851650123, 8.547388548829414, 7.449075641380999, 17.19756975273995, 8.08590462214713, 12.328335740754156, 15.111119841419207, 9.96483615157233, 10.898911443466647, 11.197698366840164, 12.155703667258427, 9.723865190938342, 8.392959915414014], \"Total\": [57.0, 54.0, 25.0, 45.0, 23.0, 21.0, 44.0, 68.0, 29.0, 23.0, 20.0, 67.0, 19.0, 24.0, 31.0, 44.0, 56.0, 17.0, 14.0, 27.0, 24.0, 22.0, 28.0, 29.0, 21.0, 36.0, 49.0, 16.0, 22.0, 25.0, 57.203436057946085, 54.246748232390274, 22.27124287250344, 14.513548046525212, 11.607716465475319, 17.394649173697168, 10.635178209536061, 9.667107543659984, 9.665164736517303, 11.60070619881954, 15.444174863059928, 19.281402602903214, 13.506193110567981, 28.94026408073467, 20.2260058576707, 14.434490434088373, 18.341669431111967, 30.82009748898155, 12.454987923018493, 12.51393817442922, 16.369825671866035, 7.701019866813617, 8.66322421892911, 11.530865664876114, 14.435391516121776, 6.687679742409392, 67.00650568244825, 15.334925286179052, 10.558698595980548, 23.815513683461543, 52.77617909227695, 48.905901882533016, 56.22314772524846, 41.083077754940966, 32.391676263806, 32.37406206300657, 49.14851028247398, 25.5703606254851, 22.84869573525321, 27.515641418661755, 40.48884558881068, 33.3358023909853, 23.79905747023582, 34.78987501508408, 46.99876043839323, 30.22786547023445, 28.394756499893518, 23.582838791791566, 24.491402996410095, 10.37379368475921, 8.489322473315436, 6.596671976583689, 27.321945473488274, 45.06246142094308, 9.394181442164834, 9.394181957342425, 8.47023907225959, 17.955945951817256, 13.157890710504098, 20.849468343412575, 20.631147846105392, 6.563907684535424, 10.338907252092175, 8.434860099088912, 5.6389011428931655, 5.638901040247902, 24.47389684968285, 15.201691755793922, 9.387496359416616, 9.411383457076958, 9.457510658338528, 7.576465934827167, 10.25897332563946, 25.312391978254166, 24.55709902785658, 12.372779753036792, 12.24616793640556, 49.58911355601606, 44.96298485739411, 68.6864209766087, 27.209997016373485, 22.488763619239446, 29.96534376128617, 25.605822967891193, 33.3358023909853, 34.64652062870463, 29.697902002194446, 21.375302122229172, 16.207622313658998, 46.99876043839323, 31.67243957942882, 35.53730433857384, 36.57426116587692, 17.75520716002952, 34.668779349602886, 26.16035162483834, 52.77617909227695, 25.052267956464235, 12.066860783193489, 8.355262786967987, 7.428746330411387, 6.502375955727386, 5.574878806964526, 13.957604361833715, 5.579413667712408, 21.35365608764629, 29.94415696597615, 11.143720091010774, 16.796134986243498, 9.283168749943629, 31.452249812394086, 10.313240300645996, 20.543079307908442, 18.455605172038343, 11.187889779910844, 7.514081202966898, 6.579412059272677, 9.228306345395223, 12.237311265904234, 6.534071823868916, 6.534076152479005, 6.534083039901924, 6.534097349693732, 5.6011965019567995, 5.6011981755333995, 8.302981147785026, 12.084837470225605, 21.41495938147761, 14.855214478752458, 36.57426116587692, 21.446298182826016, 21.48193809587279, 14.95990435309985, 30.22786547023445, 44.51291161571008, 44.96298485739411, 34.64652062870463, 40.48884558881068, 68.6864209766087, 29.96534376128617, 26.16035162483834, 56.22314772524846, 22.5283627637387, 25.391204050597203, 49.58911355601606, 35.53730433857384, 67.00650568244825, 25.312391978254166, 34.668779349602886, 21.842024311475033, 14.570993641415107, 23.72087542173747, 10.027742889651378, 20.0628279014267, 19.160935880974375, 17.343998727170014, 5.486281097156812, 12.807116272108555, 16.487268331909217, 7.336915014244736, 11.030808109089875, 14.758364071923278, 15.644641688301654, 24.858814168768504, 6.491667890330596, 14.739396175611791, 10.167969773632397, 13.026696169776155, 11.966681123500994, 22.112653124065734, 6.459833639018492, 9.231987164639376, 16.738008427490044, 21.284335990908115, 8.329681352117506, 8.370104531689558, 11.088216158127182, 7.394179278227824, 23.115756601857974, 25.302067887282547, 17.62562132478009, 15.659179987222378, 44.51291161571008, 17.629433953112382, 34.78987501508408, 49.14851028247398, 25.33191594724009, 29.697902002194446, 31.67243957942882, 46.99876043839323, 32.867737086338266, 34.668779349602886], \"Category\": [\"Default\", \"Default\", \"Default\", \"Default\", \"Default\", \"Default\", \"Default\", \"Default\", \"Default\", \"Default\", \"Default\", \"Default\", \"Default\", \"Default\", \"Default\", \"Default\", \"Default\", \"Default\", \"Default\", \"Default\", \"Default\", \"Default\", \"Default\", \"Default\", \"Default\", \"Default\", \"Default\", \"Default\", \"Default\", \"Default\", \"Topic1\", \"Topic1\", \"Topic1\", \"Topic1\", \"Topic1\", \"Topic1\", \"Topic1\", \"Topic1\", \"Topic1\", \"Topic1\", \"Topic1\", \"Topic1\", \"Topic1\", \"Topic1\", \"Topic1\", \"Topic1\", \"Topic1\", \"Topic1\", \"Topic1\", \"Topic1\", \"Topic1\", \"Topic1\", \"Topic1\", \"Topic1\", \"Topic1\", \"Topic1\", \"Topic1\", \"Topic1\", \"Topic1\", \"Topic1\", \"Topic1\", \"Topic1\", \"Topic1\", \"Topic1\", \"Topic1\", \"Topic1\", \"Topic1\", \"Topic1\", \"Topic1\", \"Topic1\", \"Topic1\", \"Topic1\", \"Topic1\", \"Topic1\", \"Topic1\", \"Topic1\", \"Topic1\", \"Topic2\", \"Topic2\", \"Topic2\", \"Topic2\", \"Topic2\", \"Topic2\", \"Topic2\", \"Topic2\", \"Topic2\", \"Topic2\", \"Topic2\", \"Topic2\", \"Topic2\", \"Topic2\", \"Topic2\", \"Topic2\", \"Topic2\", \"Topic2\", \"Topic2\", \"Topic2\", \"Topic2\", \"Topic2\", \"Topic2\", \"Topic2\", \"Topic2\", \"Topic2\", \"Topic2\", \"Topic2\", \"Topic2\", \"Topic2\", \"Topic2\", \"Topic2\", \"Topic2\", \"Topic2\", \"Topic2\", \"Topic2\", \"Topic2\", \"Topic2\", \"Topic2\", \"Topic2\", \"Topic2\", \"Topic2\", \"Topic2\", \"Topic2\", \"Topic2\", \"Topic2\", \"Topic2\", \"Topic2\", \"Topic2\", \"Topic2\", \"Topic3\", \"Topic3\", \"Topic3\", \"Topic3\", \"Topic3\", \"Topic3\", \"Topic3\", \"Topic3\", \"Topic3\", \"Topic3\", \"Topic3\", \"Topic3\", \"Topic3\", \"Topic3\", \"Topic3\", \"Topic3\", \"Topic3\", \"Topic3\", \"Topic3\", \"Topic3\", \"Topic3\", \"Topic3\", \"Topic3\", \"Topic3\", \"Topic3\", \"Topic3\", \"Topic3\", \"Topic3\", \"Topic3\", \"Topic3\", \"Topic3\", \"Topic3\", \"Topic3\", \"Topic3\", \"Topic3\", \"Topic3\", \"Topic3\", \"Topic3\", \"Topic3\", \"Topic3\", \"Topic3\", \"Topic3\", \"Topic3\", \"Topic3\", \"Topic3\", \"Topic3\", \"Topic3\", \"Topic3\", \"Topic3\", \"Topic3\", \"Topic3\", \"Topic3\", \"Topic4\", \"Topic4\", \"Topic4\", \"Topic4\", \"Topic4\", \"Topic4\", \"Topic4\", \"Topic4\", \"Topic4\", \"Topic4\", \"Topic4\", \"Topic4\", \"Topic4\", \"Topic4\", \"Topic4\", \"Topic4\", \"Topic4\", \"Topic4\", \"Topic4\", \"Topic4\", \"Topic4\", \"Topic4\", \"Topic4\", \"Topic4\", \"Topic4\", \"Topic4\", \"Topic4\", \"Topic4\", \"Topic4\", \"Topic4\", \"Topic4\", \"Topic4\", \"Topic4\", \"Topic4\", \"Topic4\", \"Topic4\", \"Topic4\", \"Topic4\", \"Topic4\", \"Topic4\", \"Topic4\", \"Topic4\", \"Topic4\"], \"logprob\": [30.0, 29.0, 28.0, 27.0, 26.0, 25.0, 24.0, 23.0, 22.0, 21.0, 20.0, 19.0, 18.0, 17.0, 16.0, 15.0, 14.0, 13.0, 12.0, 11.0, 10.0, 9.0, 8.0, 7.0, 6.0, 5.0, 4.0, 3.0, 2.0, 1.0, -3.2778, -3.3511, -4.2491, -4.6919, -4.9237, -4.5292, -5.0237, -5.1208, -5.1299, -4.9478, -4.6863, -4.4816, -4.8376, -4.0772, -4.4489, -4.791, -4.5644, -4.0784, -5.0171, -5.0199, -4.7516, -5.5103, -5.4037, -5.1212, -4.9342, -5.7131, -3.4095, -4.8882, -5.2743, -4.4744, -3.6951, -3.8056, -3.7466, -4.0388, -4.3158, -4.3343, -4.0554, -4.6138, -4.7005, -4.6692, -4.5317, -4.6032, -4.7352, -4.6541, -4.639, -4.7237, -4.7448, -3.9942, -3.995, -4.8621, -5.0884, -5.3704, -3.9814, -3.4898, -5.0765, -5.0765, -5.203, -4.4572, -4.7762, -4.3159, -4.3326, -5.5244, -5.0775, -5.3068, -5.7383, -5.7383, -4.2846, -4.796, -5.2876, -5.3018, -5.2994, -5.5247, -5.2465, -4.3785, -4.4147, -5.1086, -5.1297, -3.7805, -3.8848, -3.5577, -4.3868, -4.5555, -4.3404, -4.5508, -4.3779, -4.3711, -4.518, -4.7882, -4.9455, -4.4902, -4.6766, -4.6492, -4.6773, -4.9399, -4.8989, -4.9203, -4.8877, -3.7326, -4.5018, -4.9037, -5.0274, -5.1678, -5.3422, -4.4684, -5.3993, -4.0709, -3.7716, -4.7621, -4.3719, -5.0206, -3.8077, -4.9376, -4.2495, -4.3858, -4.8916, -5.3395, -5.5106, -5.1773, -4.9105, -5.5498, -5.5499, -5.55, -5.5503, -5.7198, -5.7199, -5.3507, -4.9771, -4.4124, -4.7818, -3.9294, -4.4531, -4.4695, -4.8317, -4.2361, -3.9681, -3.986, -4.1893, -4.1012, -3.7312, -4.3433, -4.4749, -4.0401, -4.5603, -4.5072, -4.3306, -4.5046, -4.4165, -4.7044, -4.7639, -3.7487, -4.171, -3.7066, -4.575, -3.8927, -3.9544, -4.0645, -5.2616, -4.4299, -4.2405, -5.0766, -4.6712, -4.3948, -4.3587, -3.9572, -5.3725, -4.5697, -4.9639, -4.7232, -4.8118, -4.2008, -5.4471, -5.1137, -4.567, -4.3401, -5.3362, -5.3394, -5.0618, -5.5026, -4.3742, -4.301, -4.653, -4.7905, -3.9538, -4.7085, -4.2867, -4.0832, -4.4995, -4.4099, -4.3829, -4.3008, -4.524, -4.6712], \"loglift\": [30.0, 29.0, 28.0, 27.0, 26.0, 25.0, 24.0, 23.0, 22.0, 21.0, 20.0, 19.0, 18.0, 17.0, 16.0, 15.0, 14.0, 13.0, 12.0, 11.0, 10.0, 9.0, 8.0, 7.0, 6.0, 5.0, 4.0, 3.0, 2.0, 1.0, 1.1211, 1.1008, 1.0931, 1.0785, 1.0701, 1.0601, 1.0576, 1.0559, 1.0471, 1.0466, 1.0219, 1.0048, 1.0047, 1.0031, 0.9896, 0.9849, 0.9719, 0.939, 0.9063, 0.8987, 0.8984, 0.8939, 0.8827, 0.8793, 0.8416, 0.8321, 0.8312, 0.8271, 0.8142, 0.8008, 0.7844, 0.75, 0.6695, 0.6911, 0.6518, 0.6338, 0.4953, 0.5902, 0.6161, 0.4615, 0.2127, 0.3356, 0.5406, 0.2421, -0.0436, 0.313, 0.3545, 1.2908, 1.2521, 1.2441, 1.2182, 1.1886, 1.1564, 1.1476, 1.1289, 1.1289, 1.106, 1.1004, 1.0923, 1.0923, 1.0861, 1.0395, 1.0321, 1.0063, 0.9775, 0.9775, 0.9633, 0.928, 0.9185, 0.9017, 0.8993, 0.8957, 0.8708, 0.8357, 0.8297, 0.8214, 0.8106, 0.7612, 0.7548, 0.6583, 0.7551, 0.777, 0.705, 0.6518, 0.561, 0.5292, 0.5364, 0.5951, 0.7145, 0.1052, 0.3134, 0.2257, 0.1688, 0.6289, 0.0008, 0.2609, -0.4083, 1.4919, 1.4533, 1.4189, 1.4127, 1.4055, 1.385, 1.341, 1.3271, 1.3134, 1.2745, 1.2725, 1.2524, 1.1967, 1.1893, 1.1745, 1.1735, 1.1443, 1.1391, 1.0892, 1.0509, 1.0459, 1.0305, 1.0186, 1.0186, 1.0184, 1.0182, 1.0027, 1.0026, 0.9781, 0.9764, 0.969, 0.9654, 0.9168, 0.9268, 0.9088, 0.9084, 0.8006, 0.6816, 0.6536, 0.711, 0.6433, 0.4848, 0.7021, 0.7064, 0.3761, 0.7704, 0.7039, 0.2111, 0.3703, -0.1758, 0.5098, 0.1358, 1.6129, 1.5954, 1.5725, 1.5651, 1.554, 1.5382, 1.5277, 1.4816, 1.4656, 1.4024, 1.376, 1.3736, 1.3589, 1.3367, 1.275, 1.2025, 1.1852, 1.1624, 1.1553, 1.1516, 1.1485, 1.1328, 1.1091, 1.0608, 1.0474, 0.9895, 0.9814, 0.9778, 0.9422, 0.9308, 0.9136, 0.9231, 0.9039, 0.6959, 0.8674, 0.6095, 0.4675, 0.7139, 0.6445, 0.6071, 0.2946, 0.429, 0.2284]}, \"token.table\": {\"Topic\": [1, 3, 4, 3, 3, 1, 2, 4, 1, 2, 3, 4, 1, 2, 3, 4, 3, 4, 1, 3, 1, 2, 3, 4, 1, 2, 3, 4, 1, 3, 1, 3, 1, 3, 4, 1, 2, 3, 4, 1, 2, 3, 4, 2, 3, 1, 2, 3, 1, 2, 3, 1, 2, 4, 1, 3, 4, 1, 2, 3, 4, 1, 4, 2, 1, 2, 4, 1, 2, 1, 2, 3, 4, 1, 2, 4, 1, 2, 3, 2, 3, 1, 3, 2, 4, 1, 3, 1, 2, 4, 3, 4, 2, 3, 4, 2, 3, 1, 2, 3, 2, 3, 4, 1, 2, 4, 1, 3, 1, 3, 2, 3, 4, 1, 2, 3, 4, 1, 2, 3, 1, 2, 3, 4, 1, 2, 4, 2, 4, 2, 3, 4, 1, 2, 3, 1, 3, 4, 1, 3, 4, 1, 2, 4, 2, 4, 2, 3, 4, 2, 3, 1, 2, 3, 1, 2, 4, 1, 4, 1, 2, 1, 2, 2, 4, 1, 4, 3, 2, 3, 4, 2, 3, 4, 1, 2, 2, 3, 4, 1, 2, 3, 4, 1, 2, 3, 4, 1, 2, 3, 4, 1, 2, 4, 1, 1, 3, 4, 2, 1, 2, 3, 4, 1, 3, 4, 1, 4, 1, 2, 3, 4, 2, 4, 1, 2, 3, 4, 1, 3, 4, 1, 2, 3, 1, 2, 3, 4, 1, 3, 1, 2, 4, 1, 2, 3, 4, 2, 3, 4, 1, 2, 4, 1, 2, 4, 2, 3, 1, 2, 3, 4, 2, 2, 3, 2, 3, 4, 1, 2, 3, 4, 1, 3, 4, 1, 2, 3, 4, 1, 4, 3, 1, 2, 3, 4, 1, 2, 3, 4, 1, 2, 4, 1, 3, 4, 2, 3, 4, 1, 2, 3, 2, 4, 2, 3, 1, 2, 3, 4, 2, 3, 1, 1, 3, 4, 1, 2, 3, 2, 3, 2, 3, 4, 1, 3, 4, 1, 3, 4, 1, 4, 2, 4, 1, 2, 3, 4, 1, 2, 1, 2, 3, 4, 1, 4, 2, 3, 4, 1, 2, 3, 4, 1, 2, 3, 1, 2, 3, 4, 2, 3, 4, 1, 3, 1, 2, 3, 4, 1, 4, 3, 1, 2, 2, 3, 1, 2, 3, 2, 3, 2, 4, 3, 4, 2, 4, 2, 3, 4, 1, 3, 4, 1, 2, 4, 1, 4, 2, 3, 4, 2, 3, 1, 2, 4, 2, 3, 1, 2, 2, 4, 1, 2, 4, 2, 4, 1, 2, 2, 4, 1, 3, 4, 1, 2, 4, 1, 3, 1, 3, 4, 4, 2, 4, 2, 4], \"Freq\": [0.1356907688870766, 0.20353615333061487, 0.6106084599918447, 0.8968804835279383, 0.9422855066868807, 0.3552830357855561, 0.2368553571903707, 0.39475892865061785, 0.1262927659856676, 0.3788782979570028, 0.15786595748208448, 0.3473051064605859, 0.5462401196458468, 0.21009235370994112, 0.1680738829679529, 0.08403694148397645, 0.6501734744635893, 0.32508673723179465, 0.9064906428562803, 0.06474933163259146, 0.04655073464680194, 0.3258551425276136, 0.5586088157616234, 0.04655073464680194, 0.04033143277991433, 0.5646400589188005, 0.26215431306944315, 0.12099429833974298, 0.2003729811735044, 0.7680964278317669, 0.3039785290816837, 0.6079570581633674, 0.8816785972531013, 0.05186344689724125, 0.05186344689724125, 0.7010738677255707, 0.17053148133865234, 0.09473971185480685, 0.01894794237096137, 0.05772585424762684, 0.46180683398101474, 0.4329439068572013, 0.02886292712381342, 0.5339501568031819, 0.4338345024025853, 0.7576691319747885, 0.09470864149684856, 0.09470864149684856, 0.11138371686831611, 0.7796860180782127, 0.055691858434158054, 0.45783100834299284, 0.2817421589803033, 0.2465243891077654, 0.16090872126255404, 0.16090872126255404, 0.6838620653658546, 0.6177785154385599, 0.12355570308771198, 0.12355570308771198, 0.15444462885963997, 0.20327456250434175, 0.7453400625159198, 0.9423602443123668, 0.12257958013085588, 0.6946176207415167, 0.1634394401744745, 0.8723306272688612, 0.10904132840860765, 0.14069722206174112, 0.3376733329481787, 0.30953388853583047, 0.19697611088643757, 0.13339995256268597, 0.5780664611049725, 0.26679990512537194, 0.7991089504049044, 0.15982179008098088, 0.07991089504049044, 0.7093580643883588, 0.1773395160970897, 0.8884812990427736, 0.07404010825356447, 0.6823294863732067, 0.2924269227313743, 0.7173168303541719, 0.2608424837651534, 0.35148255189007926, 0.5076970193967811, 0.11716085063002643, 0.6021933461012184, 0.3613160076607311, 0.20194928887031055, 0.6058478666109317, 0.20194928887031055, 0.17923030260095518, 0.8961515130047759, 0.13670816143963296, 0.3280995874551191, 0.5468326457585319, 0.2681470821590367, 0.7150588857574312, 0.8975100477783482, 0.23894564188869066, 0.23894564188869066, 0.4778912837773813, 0.2908882089959726, 0.6787391543239362, 0.3268691882623641, 0.5720210794591372, 0.7755264088721254, 0.04847040055450784, 0.1454112016635235, 0.6174425749725005, 0.15436064374312514, 0.06174425749725005, 0.15436064374312514, 0.21147213809763288, 0.6344164142928986, 0.10573606904881644, 0.5290089129979474, 0.10173248326883604, 0.061039489961301624, 0.3051974498065081, 0.16331639500503461, 0.5716073825176212, 0.16331639500503461, 0.3096054963272832, 0.6192109926545664, 0.2482449604631708, 0.5792382410807319, 0.16549664030878053, 0.9311791620059872, 0.3060876477910664, 0.6121752955821328, 0.9770170881570768, 0.018434284682208996, 0.9113641666284981, 0.8899433791656651, 0.04944129884253695, 0.04944129884253695, 0.07600002325613545, 0.7600002325613544, 0.1520000465122709, 0.4802104463435629, 0.4802104463435629, 0.4678296448311032, 0.18713185793244128, 0.32748075138177224, 0.3570665659205658, 0.5355998488808487, 0.2639753174110488, 0.659938293527622, 0.1319876587055244, 0.10625430411594193, 0.6375258246956516, 0.21250860823188386, 0.7138204208379301, 0.25193661911926946, 0.8080132550078789, 0.11543046500112555, 0.26312860859551723, 0.657821521488793, 0.7617413650987211, 0.15234827301974424, 0.3838271757347602, 0.6141234811756163, 0.9115875452313668, 0.06358845589519256, 0.7312672427947146, 0.1907653676855777, 0.16713071731077234, 0.16713071731077234, 0.5849575105877032, 0.19185141482342916, 0.8153685129995739, 0.38934481596317755, 0.1297816053210592, 0.47586588617721703, 0.9402757342639988, 0.8432739535692395, 0.02219141983076946, 0.13314851898461677, 0.8111590175513791, 0.06489272140411033, 0.0973390821061655, 0.032446360702055164, 0.19691858605982096, 0.31506973769571356, 0.43322088933160613, 0.039383717211964195, 0.05672331866466168, 0.5105098679819552, 0.45378654931729345, 0.9309920221072232, 0.06065286133935327, 0.12130572267870654, 0.7884871974115925, 0.9752854693645095, 0.40241593262206105, 0.17246397112374046, 0.057487990374580154, 0.3449279422474809, 0.612726440152968, 0.35012939437312457, 0.04376617429664057, 0.3080872333255094, 0.6161744666510188, 0.20360711150483216, 0.6108213345144965, 0.12216426690289929, 0.08144284460193287, 0.049843422119415594, 0.8971815981494807, 0.6328639775989773, 0.14604553329207168, 0.14604553329207168, 0.07302276664603584, 0.5866166777894409, 0.15643111407718424, 0.23464667111577636, 0.11907501348602256, 0.11907501348602256, 0.7739875876591467, 0.29788019661393916, 0.29788019661393916, 0.12766294140597392, 0.25532588281194785, 0.9482181352993264, 0.9574803574673793, 0.9429199852122783, 0.3249571242354719, 0.5415952070591199, 0.11264301125713673, 0.5068935506571153, 0.1689645168857051, 0.28160752814284185, 0.31656083784816086, 0.09044595367090309, 0.5878986988608701, 0.04698290801400444, 0.3758632641120355, 0.5637948961680532, 0.07320122946371777, 0.8418141388327542, 0.07320122946371777, 0.40107208297469743, 0.5347627772995965, 0.5088015135458507, 0.21805779151965032, 0.10902889575982516, 0.18171482626637525, 0.9639675034882973, 0.3060878505641788, 0.6121757011283576, 0.471413771887506, 0.168362061388395, 0.370396535054469, 0.13988428093396418, 0.13988428093396418, 0.5595371237358567, 0.1865123745786189, 0.622519396655594, 0.320152832565734, 0.053358805427622336, 0.12783929730365817, 0.06391964865182909, 0.06391964865182909, 0.70311613517012, 0.8028911839824955, 0.1605782367964991, 0.957997097975606, 0.298721321694888, 0.0597442643389776, 0.0597442643389776, 0.5376983790507984, 0.23075516790848988, 0.2595995638970511, 0.2595995638970511, 0.23075516790848988, 0.4499666701904951, 0.4799644482031947, 0.05999555602539934, 0.1947127760179617, 0.7301729100673563, 0.09735638800898085, 0.2705574961037471, 0.1803716640691647, 0.5411149922074941, 0.9646159543566493, 0.30608665481449315, 0.6121733096289863, 0.9095495457858591, 0.9608129922044456, 0.8264229545686983, 0.11806042208124261, 0.3951705653080336, 0.0246981603317521, 0.41986872563978567, 0.1481889619905126, 0.5782534251776732, 0.4225698107067612, 0.9964436391943308, 0.2269423543314384, 0.283677942914298, 0.5106202972457363, 0.9476454764136563, 0.6321014629413757, 0.3555570729045238, 0.35706645923299096, 0.5355996888494865, 0.2704830278985802, 0.1352415139492901, 0.5409660557971604, 0.1797231344708652, 0.4268424443683048, 0.3819116607505885, 0.7461962012607538, 0.1790870883025809, 0.07461962012607538, 0.04215696015517262, 0.9274531234137976, 0.057656830799547, 0.864852461993205, 0.17755395906702717, 0.31071942836729755, 0.48827338743432475, 0.04438848976675679, 0.7791175849131483, 0.12985293081885804, 0.11025359533096474, 0.5512679766548236, 0.18375599221827454, 0.14700479377461964, 0.7476434567123327, 0.14952869134246652, 0.09366077601844763, 0.796116596156805, 0.04683038800922382, 0.0764515717786098, 0.3440320730037441, 0.4587094306716588, 0.1146773576679147, 0.6747651864035271, 0.18402686901914378, 0.14313200923711183, 0.063860304359231, 0.063860304359231, 0.38316182615538597, 0.447022130514617, 0.32687430666128153, 0.5603559542764827, 0.09339265904608045, 0.2661669399061471, 0.6654173497653678, 0.33467469850768145, 0.24339978073285926, 0.12169989036642963, 0.3042497259160741, 0.831342128410775, 0.06927851070089792, 0.9227396325361831, 0.7620160483846211, 0.2078225586503512, 0.7093580773008474, 0.17733951932521186, 0.13103026583762412, 0.5095621449240938, 0.34941404223366435, 0.639148050798591, 0.3195740253992955, 0.8515909140707305, 0.10644886425884131, 0.7043930490936161, 0.27092040349754465, 0.13629706737211542, 0.8177824042326926, 0.10772183797758415, 0.7540528658430891, 0.10772183797758415, 0.0716455327201023, 0.8597463926412277, 0.0716455327201023, 0.09065518954825763, 0.09065518954825763, 0.725241516386061, 0.9198230927355495, 0.057488943295971845, 0.08973664017338905, 0.8076297615605014, 0.08973664017338905, 0.30608732515129156, 0.6121746503025831, 0.09834805002992852, 0.19669610005985705, 0.5900883001795711, 0.7737761646310469, 0.19344404115776173, 0.4318955528782738, 0.5552942822720663, 0.9391050403838154, 0.040830653929731106, 0.7805138193062711, 0.17344751540139355, 0.08672375770069678, 0.8515909607720379, 0.10644887009650474, 0.3232903260092571, 0.6465806520185142, 0.7113336711592985, 0.23711122371976617, 0.4300667545580145, 0.4962308706438629, 0.06616411608584838, 0.7941440709623696, 0.18326401637593145, 0.06108800545864381, 0.8638483716063367, 0.10366180459276039, 0.4347470747847007, 0.0395224613440637, 0.47426953612876444, 0.9614493464768894, 0.1561631797124866, 0.8588974884186764, 0.05218951757951125, 0.8872217988516913], \"Term\": [\"m\", \"m\", \"m\", \"solral\", \"\\uac00\\uacb0\", \"\\uac00\\ub2a5\", \"\\uac00\\ub2a5\", \"\\uac00\\ub2a5\", \"\\uac1c\\ubc1c\", \"\\uac1c\\ubc1c\", \"\\uac1c\\ubc1c\", \"\\uac1c\\ubc1c\", \"\\uac1c\\uc120\", \"\\uac1c\\uc120\", \"\\uac1c\\uc120\", \"\\uac1c\\uc120\", \"\\uac1c\\ucd5c\", \"\\uac1c\\ucd5c\", \"\\uac70\\ub9ac\", \"\\uac70\\ub9ac\", \"\\uac74\\ub9bd\", \"\\uac74\\ub9bd\", \"\\uac74\\ub9bd\", \"\\uac74\\ub9bd\", \"\\uac74\\ucd95\", \"\\uac74\\ucd95\", \"\\uac74\\ucd95\", \"\\uac74\\ucd95\", \"\\uacb0\\uc815\", \"\\uacb0\\uc815\", \"\\uacbd\\uad00\", \"\\uacbd\\uad00\", \"\\uace8\\ubaa9\", \"\\uace8\\ubaa9\", \"\\uace8\\ubaa9\", \"\\uacf5\\uac04\", \"\\uacf5\\uac04\", \"\\uacf5\\uac04\", \"\\uacf5\\uac04\", \"\\uacf5\\uacf5\", \"\\uacf5\\uacf5\", \"\\uacf5\\uacf5\", \"\\uacf5\\uacf5\", \"\\uacf5\\uae09\", \"\\uacf5\\uae09\", \"\\uacf5\\ubaa8\", \"\\uacf5\\ubaa8\", \"\\uacf5\\ubaa8\", \"\\uacf5\\uc601\", \"\\uacf5\\uc601\", \"\\uacf5\\uc601\", \"\\uacfc\\uc7a5\", \"\\uacfc\\uc7a5\", \"\\uacfc\\uc7a5\", \"\\uad00\\ub9ac\", \"\\uad00\\ub9ac\", \"\\uad00\\ub9ac\", \"\\uad50\\uc721\", \"\\uad50\\uc721\", \"\\uad50\\uc721\", \"\\uad50\\uc721\", \"\\uad6c\\uac04\", \"\\uad6c\\uac04\", \"\\uad6c\\ubbfc\", \"\\uad6c\\uccad\", \"\\uad6c\\uccad\", \"\\uad6c\\uccad\", \"\\uad6c\\ucd95\", \"\\uad6c\\ucd95\", \"\\uaddc\\ubaa8\", \"\\uaddc\\ubaa8\", \"\\uaddc\\ubaa8\", \"\\uaddc\\ubaa8\", \"\\uae30\\uac04\", \"\\uae30\\uac04\", \"\\uae30\\uac04\", \"\\uae30\\ubc18\", \"\\uae30\\ubc18\", \"\\uae30\\ubc18\", \"\\uae30\\ubd80\", \"\\uae30\\ubd80\", \"\\uae30\\uc5c5\", \"\\uae30\\uc5c5\", \"\\uae30\\uc874\", \"\\uae30\\uc874\", \"\\uae38\", \"\\uae38\", \"\\uae40\\uae30\\ub355\", \"\\uae40\\uae30\\ub355\", \"\\uae40\\uae30\\ub355\", \"\\ub0b4\\ub144\", \"\\ub0b4\\ub144\", \"\\ub0b4\\uc6a9\", \"\\ub0b4\\uc6a9\", \"\\ub0b4\\uc6a9\", \"\\ub124\\uc774\\ubc84\", \"\\ub124\\uc774\\ubc84\", \"\\ub178\\ub7c9\\uc9c4\", \"\\ub178\\ub7c9\\uc9c4\", \"\\ub178\\ub7c9\\uc9c4\", \"\\ub274\\uc2a4\", \"\\ub274\\uc2a4\", \"\\ub274\\ud0c0\\uc6b4\", \"\\ub2e8\\uacc4\", \"\\ub2e8\\uacc4\", \"\\ub2e8\\uacc4\", \"\\ub2e8\\ub3c5\", \"\\ub2e8\\ub3c5\", \"\\ub2e8\\uc704\", \"\\ub2e8\\uc704\", \"\\ub2e8\\uc9c0\", \"\\ub2e8\\uc9c0\", \"\\ub2e8\\uc9c0\", \"\\ub300\\uc0c1\", \"\\ub300\\uc0c1\", \"\\ub300\\uc0c1\", \"\\ub300\\uc0c1\", \"\\ub300\\ud559\", \"\\ub300\\ud559\", \"\\ub300\\ud559\", \"\\ub3d9\", \"\\ub3d9\", \"\\ub3d9\", \"\\ub3d9\", \"\\ub3d9\\uc791\", \"\\ub3d9\\uc791\", \"\\ub3d9\\uc791\", \"\\ub4e4\\uc5b4\\uac00\\ub2e4\", \"\\ub4e4\\uc5b4\\uac00\\ub2e4\", \"\\ub4e4\\uc5b4\\uc11c\\ub2e4\", \"\\ub4e4\\uc5b4\\uc11c\\ub2e4\", \"\\ub4e4\\uc5b4\\uc11c\\ub2e4\", \"\\ub9ac\\ubaa8\\ub378\\ub9c1\", \"\\ub9c1\\ud06c\", \"\\ub9c1\\ud06c\", \"\\ub9c8\\uc744\", \"\\ub9c8\\uc744\", \"\\ub9c8\\uce58\\ub2e4\", \"\\ub9cc\\ub4e4\\ub2e4\", \"\\ub9cc\\ub4e4\\ub2e4\", \"\\ub9cc\\ub4e4\\ub2e4\", \"\\ub9de\\ucda4\", \"\\ub9de\\ucda4\", \"\\ub9de\\ucda4\", \"\\ub9e4\\uc785\", \"\\ub9e4\\uc785\", \"\\ubaa8\\uc9d1\", \"\\ubaa8\\uc9d1\", \"\\ubaa8\\uc9d1\", \"\\ubb34\\ub2e8\", \"\\ubb34\\ub2e8\", \"\\ubb34\\ub8cc\", \"\\ubb34\\ub8cc\", \"\\ubb34\\ub8cc\", \"\\ubb38\\uc758\", \"\\ubb38\\uc758\", \"\\ubb38\\uc758\", \"\\ubb38\\ud654\", \"\\ubb38\\ud654\", \"\\ubc15\", \"\\ubc15\", \"\\ubc29\\ubb38\", \"\\ubc29\\ubb38\", \"\\ubc29\\uc2dd\", \"\\ubc29\\uc2dd\", \"\\ubc29\\uc548\", \"\\ubc29\\uc548\", \"\\ubc88\\uc9c0\", \"\\ubcc0\\uacbd\", \"\\ubcc0\\uacbd\", \"\\ubcc0\\uacbd\", \"\\ubcf5\\uc9c0\", \"\\ubcf5\\uc9c0\", \"\\ubcf5\\uc9c0\", \"\\ubcf5\\ud569\", \"\\ubcf5\\ud569\", \"\\ubd80\\uc9c0\", \"\\ubd80\\uc9c0\", \"\\ubd80\\uc9c0\", \"\\ubd84\\uc57c\", \"\\ubd84\\uc591\", \"\\ubd84\\uc591\", \"\\ubd84\\uc591\", \"\\uc0ac\\ub2f9\", \"\\uc0ac\\ub2f9\", \"\\uc0ac\\ub2f9\", \"\\uc0ac\\ub2f9\", \"\\uc0ac\\uc9c4\", \"\\uc0ac\\uc9c4\", \"\\uc0ac\\uc9c4\", \"\\uc0ac\\uc9c4\", \"\\uc0ac\\ud56d\", \"\\uc0ac\\ud56d\", \"\\uc0ac\\ud56d\", \"\\uc0b4\\ub2e4\", \"\\uc0c1\", \"\\uc0c1\", \"\\uc0c1\", \"\\uc0c1\\ub2f4\", \"\\uc0c1\\ub3c4\", \"\\uc0c1\\ub3c4\", \"\\uc0c1\\ub3c4\", \"\\uc0c1\\ub3c4\", \"\\uc0dd\\ud65c\", \"\\uc0dd\\ud65c\", \"\\uc0dd\\ud65c\", \"\\uc11c\\ub2e4\", \"\\uc11c\\ub2e4\", \"\\uc11c\\ube44\\uc2a4\", \"\\uc11c\\ube44\\uc2a4\", \"\\uc11c\\ube44\\uc2a4\", \"\\uc11c\\ube44\\uc2a4\", \"\\uc11d\", \"\\uc11d\", \"\\uc120\\uc815\", \"\\uc120\\uc815\", \"\\uc120\\uc815\", \"\\uc120\\uc815\", \"\\uc124\\uce58\", \"\\uc124\\uce58\", \"\\uc124\\uce58\", \"\\uc138\\ub300\", \"\\uc138\\ub300\", \"\\uc138\\ub300\", \"\\uc13c\\ud130\", \"\\uc13c\\ud130\", \"\\uc13c\\ud130\", \"\\uc13c\\ud130\", \"\\uc18c\\ud1b5\", \"\\uc218\\uc815\", \"\\uc2a4\\ub9c8\\ud2b8\", \"\\uc2dc\\uacf5\\uc0ac\", \"\\uc2dc\\uacf5\\uc0ac\", \"\\uc2dc\\uc7a5\", \"\\uc2dc\\uc7a5\", \"\\uc2dc\\uc7a5\", \"\\uc2dc\\uc7a5\", \"\\uc2dc\\ud589\", \"\\uc2dc\\ud589\", \"\\uc2dc\\ud589\", \"\\uc2e0\\uace0\", \"\\uc2e0\\uace0\", \"\\uc2e0\\uace0\", \"\\uc2e0\\uccad\", \"\\uc2e0\\uccad\", \"\\uc2e0\\uccad\", \"\\uc2e0\\ud63c\\ubd80\\ubd80\", \"\\uc2e0\\ud63c\\ubd80\\ubd80\", \"\\uc2e4\\uc2dc\", \"\\uc2e4\\uc2dc\", \"\\uc2e4\\uc2dc\", \"\\uc2e4\\uc2dc\", \"\\uc2ec\\uc0ac\", \"\\uc544\\uc6c3\", \"\\uc544\\uc6c3\", \"\\uc544\\ud30c\\ud2b8\", \"\\uc544\\ud30c\\ud2b8\", \"\\uc544\\ud30c\\ud2b8\", \"\\uc548\", \"\\uc548\", \"\\uc548\", \"\\uc548\", \"\\uc548\\uc804\", \"\\uc548\\uc804\", \"\\uc548\\uc804\", \"\\uc5b4\\ub974\\uc2e0\", \"\\uc5b4\\ub974\\uc2e0\", \"\\uc5b4\\ub974\\uc2e0\", \"\\uc5b4\\ub974\\uc2e0\", \"\\uc5ed\\uc0ac\", \"\\uc5ed\\uc0ac\", \"\\uc5ed\\uc138\\uad8c\", \"\\uc608\\ubc29\", \"\\uc608\\ubc29\", \"\\uc608\\ubc29\", \"\\uc608\\ubc29\", \"\\uc608\\uc815\", \"\\uc608\\uc815\", \"\\uc608\\uc815\", \"\\uc608\\uc815\", \"\\uc6b4\\uc601\", \"\\uc6b4\\uc601\", \"\\uc6b4\\uc601\", \"\\uc704\\uc6d0\\ud68c\", \"\\uc704\\uc6d0\\ud68c\", \"\\uc704\\uc6d0\\ud68c\", \"\\uc704\\uce58\", \"\\uc704\\uce58\", \"\\uc704\\uce58\", \"\\uc758\\uacac\", \"\\uc774\\ub3d9\", \"\\uc774\\ub3d9\", \"\\uc774\\uc5b4\\uc9c0\\ub2e4\", \"\\uc774\\uc804\", \"\\uc774\\ucc3d\\uc6b0\", \"\\uc774\\ucc3d\\uc6b0\", \"\\uc77c\\ub300\", \"\\uc77c\\ub300\", \"\\uc77c\\ub300\", \"\\uc77c\\ub300\", \"\\uc784\\ub300\", \"\\uc784\\ub300\", \"\\uc7ac\\uc0dd\", \"\\uc801\\uc6a9\", \"\\uc801\\uc6a9\", \"\\uc801\\uc6a9\", \"\\uc804\\ub7b5\", \"\\uc804\\uc6a9\", \"\\uc804\\uc6a9\", \"\\uc804\\uc7ac\", \"\\uc804\\uc7ac\", \"\\uc815\\ubd80\", \"\\uc815\\ubd80\", \"\\uc815\\ubd80\", \"\\uc815\\ube44\", \"\\uc815\\ube44\", \"\\uc815\\ube44\", \"\\uc870\\uc131\", \"\\uc870\\uc131\", \"\\uc870\\uc131\", \"\\uc870\\ud569\", \"\\uc870\\ud569\", \"\\uc870\\ud569\\uc6d0\", \"\\uc870\\ud569\\uc6d0\", \"\\uc8fc\\uac70\", \"\\uc8fc\\uac70\", \"\\uc8fc\\uac70\", \"\\uc8fc\\uac70\", \"\\uc8fc\\uac70\\uc9c0\", \"\\uc8fc\\uac70\\uc9c0\", \"\\uc8fc\\ucc28\\uc7a5\", \"\\uc8fc\\ucc28\\uc7a5\", \"\\uc8fc\\ucc28\\uc7a5\", \"\\uc8fc\\ucc28\\uc7a5\", \"\\uc8fc\\uccb4\", \"\\uc8fc\\uccb4\", \"\\uc9c0\\uad6c\", \"\\uc9c0\\uad6c\", \"\\uc9c0\\uad6c\", \"\\uc9c0\\uc0c1\", \"\\uc9c0\\uc0c1\", \"\\uc9c0\\uc0c1\", \"\\uc9c0\\uc0c1\", \"\\uc9c0\\uc6d0\", \"\\uc9c0\\uc6d0\", \"\\uc9c0\\uc6d0\", \"\\uc9c0\\uc815\", \"\\uc9c0\\uc815\", \"\\uc9c0\\uc815\", \"\\uc9c0\\uc815\", \"\\uc9c0\\ud558\", \"\\uc9c0\\ud558\", \"\\uc9c0\\ud558\", \"\\uc9c0\\ud558\\ucca0\", \"\\uc9c0\\ud558\\ucca0\", \"\\uc9c4\\ud589\", \"\\uc9c4\\ud589\", \"\\uc9c4\\ud589\", \"\\uc9c4\\ud589\", \"\\ucc38\\uc5ec\", \"\\ucc38\\uc5ec\", \"\\ucc3d\\uc131\", \"\\ucc3d\\uc5c5\", \"\\ucc3d\\uc5c5\", \"\\ucc44\\ub0a9\", \"\\ucc44\\ub0a9\", \"\\uccad\\ub144\", \"\\uccad\\ub144\", \"\\uccad\\ub144\", \"\\uccad\\uc0ac\", \"\\uccad\\uc0ac\", \"\\uccb4\\uacb0\", \"\\uccb4\\uacb0\", \"\\ucd09\\uc9c4\", \"\\ucd09\\uc9c4\", \"\\ucd5c\\uadfc\", \"\\ucd5c\\uadfc\", \"\\ucde8\\uc57d\", \"\\ucde8\\uc57d\", \"\\ucde8\\uc57d\", \"\\ucf54\\ub85c\\ub098\", \"\\ucf54\\ub85c\\ub098\", \"\\ucf54\\ub85c\\ub098\", \"\\ud1b5\\uacfc\", \"\\ud1b5\\uacfc\", \"\\ud1b5\\uacfc\", \"\\ud22c\\uc785\", \"\\ud22c\\uc785\", \"\\ud2b9\\ubcc4\", \"\\ud2b9\\ubcc4\", \"\\ud2b9\\ubcc4\", \"\\ud398\\uc774\\uc9c0\", \"\\ud398\\uc774\\uc9c0\", \"\\ud53c\\ud574\", \"\\ud53c\\ud574\", \"\\ud53c\\ud574\", \"\\ud544\\uc694\", \"\\ud544\\uc694\", \"\\ud589\\ubcf5\", \"\\ud589\\ubcf5\", \"\\ud589\\uc815\", \"\\ud589\\uc815\", \"\\ud604\\uc7a5\", \"\\ud604\\uc7a5\", \"\\ud604\\uc7a5\", \"\\ud611\\uc57d\", \"\\ud611\\uc57d\", \"\\ud648\\ud398\\uc774\\uc9c0\", \"\\ud648\\ud398\\uc774\\uc9c0\", \"\\ud655\\uc778\", \"\\ud655\\uc778\", \"\\ud658\\uacbd\", \"\\ud658\\uacbd\", \"\\ud658\\uacbd\", \"\\ud65c\\ub3d9\", \"\\ud65c\\ub3d9\", \"\\ud65c\\ub3d9\", \"\\ud65c\\uc131\", \"\\ud65c\\uc131\", \"\\ud65c\\uc6a9\", \"\\ud65c\\uc6a9\", \"\\ud65c\\uc6a9\", \"\\ud751\", \"\\ud751\\uc11d\", \"\\ud751\\uc11d\", \"\\ud751\\uc11d\\ub3d9\", \"\\ud751\\uc11d\\ub3d9\"]}, \"R\": 30, \"lambda.step\": 0.01, \"plot.opts\": {\"xlab\": \"PC1\", \"ylab\": \"PC2\"}, \"topic.order\": [1, 3, 4, 2]};\n",
       "\n",
       "function LDAvis_load_lib(url, callback){\n",
       "  var s = document.createElement('script');\n",
       "  s.src = url;\n",
       "  s.async = true;\n",
       "  s.onreadystatechange = s.onload = callback;\n",
       "  s.onerror = function(){console.warn(\"failed to load library \" + url);};\n",
       "  document.getElementsByTagName(\"head\")[0].appendChild(s);\n",
       "}\n",
       "\n",
       "if(typeof(LDAvis) !== \"undefined\"){\n",
       "   // already loaded: just create the visualization\n",
       "   !function(LDAvis){\n",
       "       new LDAvis(\"#\" + \"ldavis_el561601404556586144482578406377\", ldavis_el561601404556586144482578406377_data);\n",
       "   }(LDAvis);\n",
       "}else if(typeof define === \"function\" && define.amd){\n",
       "   // require.js is available: use it to load d3/LDAvis\n",
       "   require.config({paths: {d3: \"https://d3js.org/d3.v5\"}});\n",
       "   require([\"d3\"], function(d3){\n",
       "      window.d3 = d3;\n",
       "      LDAvis_load_lib(\"https://cdn.jsdelivr.net/gh/bmabey/pyLDAvis@3.4.0/pyLDAvis/js/ldavis.v3.0.0.js\", function(){\n",
       "        new LDAvis(\"#\" + \"ldavis_el561601404556586144482578406377\", ldavis_el561601404556586144482578406377_data);\n",
       "      });\n",
       "    });\n",
       "}else{\n",
       "    // require.js not available: dynamically load d3 & LDAvis\n",
       "    LDAvis_load_lib(\"https://d3js.org/d3.v5.js\", function(){\n",
       "         LDAvis_load_lib(\"https://cdn.jsdelivr.net/gh/bmabey/pyLDAvis@3.4.0/pyLDAvis/js/ldavis.v3.0.0.js\", function(){\n",
       "                 new LDAvis(\"#\" + \"ldavis_el561601404556586144482578406377\", ldavis_el561601404556586144482578406377_data);\n",
       "            })\n",
       "         });\n",
       "}\n",
       "</script>"
      ],
      "text/plain": [
       "<IPython.core.display.HTML object>"
      ]
     },
     "execution_count": 403,
     "metadata": {},
     "output_type": "execute_result"
    }
   ],
   "source": [
    "ldavis1= pyLDAvis.gensim.prepare(topic_model = lda_model1,\n",
    "                               corpus = corpus1, \n",
    "                               dictionary = cor_dict1)\n",
    "pyLDAvis.display(ldavis1)"
   ]
  },
  {
   "cell_type": "code",
   "execution_count": 407,
   "metadata": {
    "pycharm": {
     "name": "#%%\n"
    }
   },
   "outputs": [],
   "source": [
    "pyLDAvis.save_html(ldavis1, '../outputs/lda_visualize_dongjak.html')"
   ]
  },
  {
   "cell_type": "markdown",
   "metadata": {
    "pycharm": {
     "name": "#%% md\n"
    }
   },
   "source": [
    "#### 영등포구"
   ]
  },
  {
   "cell_type": "code",
   "execution_count": 404,
   "metadata": {
    "pycharm": {
     "name": "#%%\n"
    }
   },
   "outputs": [
    {
     "data": {
      "text/html": [
       "\n",
       "<link rel=\"stylesheet\" type=\"text/css\" href=\"https://cdn.jsdelivr.net/gh/bmabey/pyLDAvis@3.4.0/pyLDAvis/js/ldavis.v1.0.0.css\">\n",
       "\n",
       "\n",
       "<div id=\"ldavis_el561601404556874386244049948768\" style=\"background-color:white;\"></div>\n",
       "<script type=\"text/javascript\">\n",
       "\n",
       "var ldavis_el561601404556874386244049948768_data = {\"mdsDat\": {\"x\": [-0.0521894768428464, 0.12061104106934517, 0.11308958794355987, -0.2134191082424618, 0.0021190123199277505, 0.029788943752475573], \"y\": [-0.14659863542371873, -0.10403176299563427, 0.010058729818912666, -0.0047999540422132055, 0.16533571280125564, 0.08003590984139763], \"topics\": [1, 2, 3, 4, 5, 6], \"cluster\": [1, 1, 1, 1, 1, 1], \"Freq\": [23.313240199213748, 21.750434578755762, 21.43401684994868, 18.866335310453255, 7.7338640798009965, 6.902108981827556]}, \"tinfo\": {\"Term\": [\"\\uc815\\ube44\", \"\\uc7ac\\uc0dd\", \"\\ubb38\\ud654\", \"\\uc8fc\\uac70\", \"\\uc2dc\\uc7a5\", \"\\uc5ec\\uc758\\ub3c4\", \"\\uacf5\\uc6d0\", \"\\uc7a5\", \"\\uc5ec\\uc131\", \"\\uc870\\uc131\", \"\\uc870\\uae38\\ud615\", \"\\ucabd\\ubc29\\ucd0c\", \"\\uac74\\ucd95\", \"\\uac1c\\ubc1c\", \"\\uccad\\uc18c\\ub144\", \"\\uc885\\uc77c\", \"\\ub274\\uc2a4\", \"\\ud65c\\uc131\", \"\\uc548\\uc804\", \"\\ud658\\uacbd\", \"\\uc608\\uc220\", \"\\uc124\\uce58\", \"\\uacf5\\uac04\", \"\\ubc15\", \"\\uc9c0\\uad6c\", \"\\uc77c\\ub300\", \"\\uc5ed\\uc0ac\", \"\\ubcf5\\uc9c0\", \"\\uc5b4\\ub9b0\\uc774\", \"\\ub179\\uc9c0\", \"\\uc608\\uc220\", \"\\uc608\\uc220\\uac00\", \"\\ucca0\\ub3c4\", \"\\uc774\\uc57c\\uae30\", \"\\uacbd\\uc778\\ub85c\", \"\\uac70\\ubc84\\ub10c\\uc2a4\", \"\\ucc3d\\uc870\", \"\\uae30\\uacc4\", \"\\ub798\", \"\\uc77c\\uc0c1\", \"\\uacac\\uc778\", \"\\uae08\\uc18d\", \"\\uc5ed\\uc0ac\", \"daer\", \"\\uad6c\\uc0c1\", \"\\uacf5\\uc5f0\", \"\\ud601\\uc2e0\", \"\\ub9fa\\ub2e4\", \"\\ucc3d\\uc791\\ucd0c\", \"\\uc7ac\\uc0dd\", \"\\ud658\\uc2b9\", \"\\uad8c\\uc5ed\", \"\\uc11c\\ub0a8\", \"\\uc911\\uad6d\", \"\\uac70\\uc810\", \"\\uc804\\ub7b5\", \"\\ud65c\\uc131\", \"\\uac70\\ub9ac\", \"\\uc81c\\uc2dc\", \"\\uc544\\uc774\\ub514\\uc5b4\", \"\\ubb38\\ud654\", \"\\ud611\\uc57d\", \"\\uad6c\\ucd95\", \"\\uc0b0\\uc5c5\", \"\\ubb38\\ub798\\ub3d9\", \"\\uc601\\ub4f1\\ud3ec\\uc5ed\", \"\\ub3c4\\uc2ec\", \"\\uc131\\uacf5\", \"\\ubc1c\\uc804\", \"\\uacf5\\uc7a5\", \"\\ubbf8\\ub798\", \"\\uacf5\\uac04\", \"\\uacbd\\uc81c\", \"\\uc77c\\ub300\", \"\\uc81c\\ubd84\", \"\\ub9cc\\ub4e4\\ub2e4\", \"\\uc9c0\\uc6d0\", \"\\uc120\\uc815\", \"\\ucc38\\uc5ec\", \"\\uc8fc\\ubcc0\", \"\\uacf5\\ubaa8\", \"\\uc870\\uc131\", \"\\uae30\\ubc18\", \"\\uac1c\\uc120\", \"\\ud65c\\uc6a9\", \"\\ubcf4\\ud589\\uc790\", \"\\ucabd\\ubc29\\ucd0c\", \"\\ud574\\uc81c\", \"\\uc2e0\\ud63c\\ubd80\\ubd80\", \"\\ubcf4\\uc548\\ub4f1\", \"\\uad50\\ud68c\", \"\\ucabd\\ubc29\", \"\\uc784\", \"\\ub3d9\\uc758\", \"\\uad50\\uccb4\", \"\\ud3b8\\uc785\", \"\\uac00\\ub85c\", \"\\ub3c4\\ub9bc\\ub3d9\", \"\\uac1c\\ub7c9\", \"\\uc785\\uc8fc\", \"\\uc774\\uba74\", \"\\uc0ac\\uace0\", \"\\uacf5\\uae09\", \"\\ud1a0\\uc9c0\", \"\\ub3c4\\uc785\", \"\\ubcf4\\uc218\", \"\\uc778\\uad6c\", \"\\ucd09\\uc9c4\", \"\\uad6d\\ud1a0\\ubd80\", \"\\uc804\\uba74\", \"\\uc644\\ud654\", \"\\uc0c1\\ud5a5\", \"\\uc911\\ub85c\", \"\\ub9c8\\uc744\", \"\\ud0c4\\ub825\", \"\\uc815\\ube44\", \"\\ub2e8\\uc704\", \"\\ud658\\uacbd\", \"\\uc9c0\\uad6c\", \"\\uc784\\ub300\", \"\\uac1c\\uc120\", \"\\uc8fc\\uac70\", \"\\uc77c\\ub300\", \"\\uac1c\\ubc1c\", \"\\uc801\\uc6a9\", \"\\uc218\\ub9bd\", \"\\ubc29\\uc2dd\", \"\\uacf5\\uacf5\", \"\\uc5ed\\uc138\\uad8c\", \"\\uc9c0\\uc815\", \"\\ucca0\\uac70\", \"\\ub178\\ud6c4\", \"\\uccad\\ub144\", \"\\uc704\\uc6d0\\ud68c\", \"\\uad00\\ub9ac\", \"\\uc81c\\uacf5\", \"\\uc9c0\\uc6d0\", \"\\ub3c4\\uc2ec\", \"\\uac74\\ubb3c\", \"\\uc704\\uce58\", \"\\ubd80\\uc9c0\", \"\\ub3c4\\ub85c\", \"\\uc548\", \"\\ub274\\ud0c0\\uc6b4\", \"\\uc601\\uc9c4\", \"\\uc2e4\\uac70\\ub798\", \"\\uc548\\uc804\\uc0ac\\uace0\", \"\\uae34\\uae09\", \"\\ub4f1\\uae09\", \"E\", \"\\uc218\\uc815\", \"\\uaddc\\uc81c\", \"\\ub9e4\\ubb3c\", \"\\uac70\\ub798\", \"\\uc870\\uce58\", \"\\uc778\\uac00\", \"\\ud3d0\\uc9c0\", \"\\uc2dc\\uc7a5\", \"IFC\", \"\\uc8fc\\uc0c1\", \"\\uc778\\uc811\", \"\\uc7ac\\ub09c\", \"\\uc9c0\\uc801\", \"\\ud310\\ub9e4\", \"\\uc778\\uc815\", \"\\uc870\\ud569\", \"\\uc0ac\\ubb34\\uc18c\", \"\\ud638\\uc7ac\", \"\\ub9e4\\ub825\", \"\\uc704\\uae30\", \"\\uc9d1\\uac12\", \"\\uc5c5\\uacc4\", \"\\uc704\\ud5d8\", \"\\uac74\\ucd95\\ubb3c\", \"\\uc2dc\\ud589\", \"\\uc804\\ud1b5\", \"\\uc870\\uc0ac\", \"\\uc810\\uac80\", \"\\uc544\\ud30c\\ud2b8\", \"\\uac74\\ucd95\", \"\\ub2e8\\uc9c0\", \"\\ud55c\\uac15\", \"\\ubcf5\\ud569\", \"\\uac1c\\ubc1c\", \"\\uc9c0\\uc0c1\", \"\\uad00\\uacc4\\uc790\", \"\\uc9c0\\ub09c\\ud574\", \"\\uc2dc\\ubbfc\", \"\\uc9c0\\ub098\\ub2e4\", \"\\uaddc\\ubaa8\", \"\\ubcc0\\uacbd\", \"\\uc815\\ube44\", \"\\uc548\", \"\\uc5c5\\ubb34\", \"\\uc9c0\\ud558\", \"\\uc778\\uadfc\", \"\\uc704\\uc6d0\\ud68c\", \"\\uc9c0\\uad6c\", \"\\uc120\\uc815\", \"\\ub300\\uc0c1\", \"\\uc7ac\\uc0dd\", \"\\uc784\\ub300\", \"\\uc77c\\ub300\", \"\\uc8fc\\uac70\", \"\\ubcf5\\uc9c0\", \"\\uc5ec\\uc758\\ub3c4\", \"\\uc8fc\\ubcc0\", \"\\uc5ec\\uc131\", \"\\ub179\\uc9c0\", \"\\ud654\\uc7a5\\uc2e4\", \"\\uac00\\uc871\", \"\\uc625\\uc0c1\", \"\\ub180\\uc774\", \"\\uc5b4\\ub9b0\\uc774\", \"\\uc548\\uc2ec\", \"\\uc885\\uc77c\", \"drea\", \"\\uacf5\\uc6d0\", \"\\uce5c\\ud654\", \"\\ub178\\uc778\", \"\\uc9c0\\uae09\", \"\\uc544\\uc774\", \"\\ud734\\uac8c\", \"\\uc2dd\\uc7ac\", \"\\ucf8c\\uc801\\ud558\\ub2e4\", \"\\uc124\\uce58\", \"\\uacf5\\ubb34\\uc6d0\", \"\\uc548\\uc804\", \"\\ud504\\ub85c\\uadf8\\ub7a8\", \"\\uc870\\uae38\\ud615\", \"\\ubc15\", \"\\uad6c\\uccad\\uc7a5\", \"\\ud734\\uc2dd\", \"\\ub4e4\\uc774\\ub2e4\", \"\\ud559\\uc0dd\", \"\\uc2dc\\ube44\", \"\\ub2e4\\ubb38\\ud654\", \"\\uc804\\ud558\\ub2e4\", \"\\uad50\\uc721\", \"\\uc13c\\ud130\", \"\\uc870\\uc131\", \"\\ud65c\\ub3d9\", \"\\uad6c\\ubbfc\", \".\\uad6c\", \"\\uacf5\\uac04\", \"\\uc644\\ub8cc\", \"\\uc544\\uc2dc\\uc544\", \"\\uc6b4\\uc601\", \"\\ub3c4\\ub85c\", \"\\uc9c0\\uc6d0\", \"\\ub9cc\\ub4e4\\ub2e4\", \"\\uacf5\\uc0ac\", \"\\uc124\\uacc4\", \"\\uacbd\\uc81c\", \"\\ub3d9\", \"\\uad00\\ub9ac\", \"\\ubcf5\\uc9c0\", \"\\ub300\\uc0c1\", \"\\uccad\\uc18c\\ub144\", \"\\ud55c\\uad6d\\uacbd\\uc81cTV\", \"\\ud3ed\\ub825\", \"\\ub3c4\\uc11c\\uad00\", \"km\", \"\\uc7a5\\uad00\", \"\\uc804\\ucca0\", \"\\uc5ec\\uc758\\ub3c4\\ub3d9\", \"\\uc0ac\\uc5c5\\uc790\", \"\\uc548\\uc0b0\", \"\\ub118\\ub2e4\", \"\\ud589\\uc815\", \"\\uc591\\ud3c9\", \"\\ub178\\uc120\", \"\\uc6b4\\ud589\", \"\\uc0c1\\ubc18\\uae30\", \"\\uc7ac\\ud14c\\ud06c\", \"\\uc5f0\\uc7a5\", \"\\uc0c1\\ub2f4\", \"\\uac78\\ub9ac\\ub2e4\", \"\\ub300\\ud55c\\ubbfc\\uad6d\", \"\\ud6a8\\uc728\", \"\\uc11c\\uc6b8\\uc5ed\", \"\\uc2e0\\uc548\\uc0b0\\uc120\", \"\\uc791\\ub2e4\", \"\\ubcd1\", \"\\ub300\\uc751\", \"\\uc0c1\\uc815\", \"\\uacf5\\uc2dd\", \"\\ub2e8\\ucd95\", \"\\ud559\\uad50\", \"\\uc5ec\\uc758\\ub3c4\", \"\\uc608\\uc0c1\", \"\\uccad\\uc0ac\", \"\\uc6a9\\uc0b0\", \"\\uc2e4\", \"\\ub274\\uc2a4\", \"\\uac74\\ucd95\", \"\\uac74\\ub9bd\", \"\\ub2e8\\uacc4\", \"\\uc124\\uacc4\", \"\\uc608\\ubc29\", \"\\ubbfc\\uac04\", \"\\ub3d9\", \"\\uad6d\\uc81c\", \"\\uc2e4\\uc2dc\", \"\\uad6d\\ud1a0\", \"\\uc120\\uc815\", \"\\uacf5\\ubaa8\", \"\\uc11c\\ube44\\uc2a4\", \"\\uacf5\\uacf5\", \"\\ubcf5\\ud569\", \"\\ubb38\\ud654\", \"\\ucc29\\uacf5\", \"\\ud574\\ub2f9\", \"\\ub274\\uc2a41\", \"\\uc7a5\", \"\\uc99d\\uac00\", \"\\ucf54\\ub9ac\\uc544\", \"\\uba54\\uc778\", \"\\ub204\\ub9ac\\ub2e4\", \"\\uc720\\uc218\\uc9c0\", \"\\uba3c\\uc9c0\", \"\\ubb34\\uc0c1\", \"\\uc6a9\\uc5ed\", \"\\uae30\\uad6c\", \"\\uc774\\ud63c\", \"\\uc870\\uc815\", \"\\uc2e0\\uae38\\ub3d9\", \"\\ubc14\\ub2e5\", \"\\ud3ed\", \"\\ub300\\ube44\", \"\\ub300\\ub9bc\\ub3d9\", \"\\uc804\\uacbd\", \"\\uae30\\uc0ac\", \"\\uac00\\uaca9\", \"\\uad6c\\ub3c5\", \"\\uc2e4\\ub0b4\", \"\\ud3ec\\uc7a5\", \"\\ubb38\\uc758\", \"\\ucf54\\ub85c\\ub098\", \"\\uc911\\uac1c\", \"\\ub3d9\\ub124\", \"\\uc190\", \"\\ubc14\\ub77c\\ub2e4\", \"\\uc0c1\\uc2b9\", \"\\ub124\\uc774\\ubc84\", \"\\uc6b0\\uc218\", \"\\uc758\\uacac\", \"\\uc8fc\\uac70\", \"\\uc77c\\uc790\\ub9ac\", \"\\ubcf5\\uc9c0\", \"\\ub274\\uc2a4\", \"\\uc0dd\\ud65c\", \"\\uac74\\ub9bd\", \"\\ud655\\ub300\", \"\\ud574\\ub2f9\", \"\\uc81c\\uacf5\", \"\\uc544\\uc6c3\", \"\\ud398\\uc774\\uc9c0\", \"\\uc774\\ub3d9\", \"\\uc120\\uc815\", \"\\ud06c\\ub2e4\", \"m\", \"\\uc2e0\\uae38\", \"\\ub9c1\\ud06c\", \"\\uc544\\ud30c\\ud2b8\", \"\\uc815\\ube44\", \"\\ud658\\uacbd\"], \"Freq\": [319.0, 231.0, 182.0, 120.0, 117.0, 90.0, 94.0, 45.0, 62.0, 183.0, 100.0, 78.0, 97.0, 197.0, 34.0, 64.0, 71.0, 119.0, 87.0, 156.0, 55.0, 84.0, 190.0, 80.0, 85.0, 174.0, 62.0, 73.0, 46.0, 39.0, 54.930790357730395, 19.989421517315975, 42.565837758770144, 15.266064130686798, 43.98826266130951, 12.433389642144574, 12.21401591979285, 8.651064877978218, 7.711740115622739, 7.711500515567787, 7.710988952417283, 7.705789290561222, 56.05364478777119, 6.748540513668294, 14.197722687556247, 33.51601650213255, 14.992529440462908, 12.342935511446129, 13.011681975724967, 196.6777150231266, 5.636448781830538, 10.462395303837082, 19.307705990347017, 16.162506728704795, 18.649237346434894, 10.632602186476273, 95.57873755340569, 46.34884328233434, 6.761466425637617, 12.810675698344147, 140.95412782764248, 24.10382003442137, 25.005013753908198, 64.51217171732503, 47.21928416443619, 51.04452743038912, 69.52913342152993, 17.97871829596752, 19.702064969893577, 30.079200127161855, 18.480485097304683, 78.63663810751109, 53.891598362043624, 64.72015819156745, 21.578131129083125, 31.756627620888004, 49.463398718938855, 43.83087154274708, 28.246123441339137, 30.71584813289401, 27.010561599666673, 38.757927456034274, 21.661541472384073, 25.792437191377406, 22.341780790483657, 16.584512776947157, 73.55233363267446, 21.327054504167005, 10.649245158741842, 7.8845884898747345, 6.924669937346101, 31.059757102345767, 5.93450112502731, 11.733293229152112, 26.70260305979243, 4.948673302061494, 8.172103947841745, 8.849340134149132, 8.831334165865261, 15.948160287924939, 8.703117920362123, 11.00329084730868, 41.67867201479443, 17.90721514621428, 14.534102737963154, 20.15117451231556, 9.772605798661933, 20.081305507354315, 18.65537605338047, 8.086468066969422, 7.261257909487559, 7.185184388566413, 14.18632777934879, 21.175658593856443, 4.916365641094162, 227.69438082323632, 24.80764122746435, 103.56569352992183, 56.135650813058284, 46.198937076935984, 67.83758509532862, 67.46695200705477, 79.25002544553392, 86.89729451064206, 14.470711050611207, 23.88485760081747, 18.25951596364888, 49.9069079478426, 26.88919091258673, 42.617618212172, 22.860538789402042, 32.96857831788693, 26.299477441083976, 27.77707711658883, 35.386660355397005, 34.35263722123033, 43.76034247423925, 38.286045018652686, 26.493862653643475, 23.88145049361572, 25.587955649423165, 24.221635739545594, 22.69747650331236, 19.35828306709065, 18.39916199831937, 14.559520631695051, 10.702239642502505, 8.729291289135187, 7.839927431616864, 6.87987928040947, 18.74009656420037, 9.322343209086895, 11.69195756370081, 12.59308273561558, 11.59660588233236, 22.315692742483034, 4.9576652001549775, 100.81082717374353, 4.916593777816313, 21.170954736232456, 8.919888162673344, 9.759077337378118, 8.703523513068799, 22.97241371915369, 12.25210536525273, 22.291972795468944, 8.943390955242942, 11.129176764509387, 5.916491857612086, 12.646865001039481, 11.070697490211524, 10.261288750743415, 22.30720492693618, 35.35684026593843, 21.878479412797468, 18.667255864236758, 21.785812929656142, 17.83833141308139, 65.16258652352757, 55.156594142640856, 36.27171611664381, 28.85411284110593, 52.82651024901909, 87.74054337030269, 31.410931031062766, 30.803253550471954, 25.156966550540574, 28.317373871065897, 37.48703349340234, 42.5159002950697, 20.087055470840117, 71.18478874711522, 28.513364109316854, 24.639232770440877, 28.148897518537183, 23.935099044047597, 25.43806045079861, 28.441174872686723, 28.30782116353161, 24.37652391714227, 30.12435776418073, 24.495706210770564, 27.17999197162259, 25.57418496714454, 23.630295636892992, 23.863674024020213, 23.530529873835476, 61.3179328870856, 38.21556434694222, 20.0886931327853, 16.794577863291117, 22.203761942287358, 18.178322926876795, 42.73384258451381, 18.098995946186843, 57.53068249524293, 29.093126977640285, 82.59995288021427, 24.231231431076164, 6.825285644291563, 14.942707675809963, 14.080319444687795, 6.511974211951803, 4.7215703963300335, 7.029216469603683, 64.99524441300659, 7.5726334880924355, 66.59675914933615, 22.447614940872306, 75.67294051914769, 59.56428134505766, 41.610337141074446, 5.669250018597742, 11.287874455744321, 12.56757108881704, 5.48015785253092, 9.6966711976864, 31.89430929261592, 30.867028384670817, 65.53298143441869, 110.23028901065149, 24.062097824547884, 34.441487946054224, 20.528976070719235, 81.2423040076952, 26.947176113170126, 30.719026830039414, 32.946868530861046, 30.742219155912323, 48.09156208556463, 30.666086426935433, 29.00167727871135, 26.387145493783667, 31.624521837228322, 26.890037970760833, 26.08250246662495, 25.17189445122791, 24.50172279808983, 31.43014734659522, 12.135730608293066, 17.56378426176686, 14.821184560107517, 5.230378707021212, 5.587626285097361, 6.632876671604371, 3.6087473220621753, 10.02890958171095, 9.408683440767515, 3.8168015489727405, 11.260480728473606, 10.731388685598564, 7.305878061471797, 4.611796118527173, 5.131188828725839, 3.557544052136883, 5.362779796546481, 11.008230272460853, 5.829466194355247, 2.9138467164961135, 2.9301882537482316, 3.856063730405394, 16.330498365806484, 4.779916880378033, 2.8230895091509898, 4.543278854176232, 2.692225553655003, 4.466867038213562, 5.062061306532125, 15.175126574868642, 39.17526263412926, 6.8305745969016485, 8.862259321752964, 8.083897292033082, 6.253983398525999, 20.11242292565998, 24.444760882648378, 14.959328853997553, 13.453149212034312, 14.939121031949567, 10.371026155607668, 12.807990647892234, 16.30056710213031, 9.219557001244599, 10.606441029207316, 8.899561897446045, 18.251606629761493, 13.19154297590852, 9.181394037333682, 14.708380281382714, 13.609711238300196, 16.36126440193919, 9.781956314454419, 9.287940536253451, 18.71899175962157, 37.540069357429616, 8.088188719200447, 4.399127197754816, 6.199879749705846, 5.456763658893821, 14.658534740201107, 11.728724705554276, 5.906076696647104, 6.33706440259826, 3.6115070658981545, 3.5825117643527564, 4.081936141195544, 12.721040632595095, 5.551341722037554, 12.89457068938646, 6.205783230350242, 8.442546825825808, 5.145964229556145, 2.786400336233235, 16.70924120053841, 6.337512878861337, 6.438974750073102, 7.418549110119468, 4.753069774649171, 5.450924054178949, 4.603751048470984, 3.6339712217443116, 4.369330085199345, 4.8279942228457875, 13.022058976177187, 8.179047186111289, 6.342813236255388, 12.637602531560285, 26.575404315221757, 11.036273993473095, 17.518628568231218, 17.037388659956502, 17.013690017725025, 13.01333150706964, 9.246399176130838, 11.533904465263577, 12.11577384053163, 8.180243346938894, 8.177695033540003, 8.523725736090098, 12.299201304508136, 8.747776946487228, 8.881664929038015, 8.754781782632252, 7.955127761842439, 9.654883728299918, 9.9381277540193, 8.3990708510574], \"Total\": [319.0, 231.0, 182.0, 120.0, 117.0, 90.0, 94.0, 45.0, 62.0, 183.0, 100.0, 78.0, 97.0, 197.0, 34.0, 64.0, 71.0, 119.0, 87.0, 156.0, 55.0, 84.0, 190.0, 80.0, 85.0, 174.0, 62.0, 73.0, 46.0, 39.0, 55.72428679612947, 20.779981644146723, 44.4071430855193, 16.05762845319141, 46.30340519051003, 13.224473837756307, 13.228922808497462, 9.446346972003884, 8.502196010629405, 8.502163572107456, 8.502095807168784, 8.50187279923306, 62.454233128624615, 7.5556172923822515, 16.035935786454683, 37.99315182468769, 17.075565880198546, 14.103345763601077, 15.141961675362476, 231.00939089550948, 6.623414877551346, 12.299622318808407, 22.727147471981645, 19.65374933207121, 22.806770668600013, 13.183883768663147, 119.3265632940694, 57.875109295599586, 8.516474026438463, 16.20851537866241, 182.14560814400767, 30.77408208249122, 32.36259195196771, 97.97528349467753, 71.52108781307709, 78.93972018716751, 118.36168027371178, 23.66618640268641, 27.644722577094747, 48.53907042692633, 25.83824710026764, 190.01067358554548, 122.74777792477599, 174.00298427907512, 34.26701495318955, 68.79641507295794, 154.75219371796567, 133.8321242153814, 69.43306340791231, 87.48934405177033, 67.81609883725393, 183.58890834654355, 40.31054289640228, 119.54706437340795, 52.586757386607985, 17.374572393923092, 78.90709293086611, 23.165478198432144, 11.575417157857057, 8.676962723480294, 7.71128695380324, 34.664343098528725, 6.743289099700831, 13.48593124545107, 30.82457052242877, 5.7779542851726475, 9.59755242416355, 10.527867773597979, 10.586678189861182, 19.210246876556912, 10.520727310491875, 13.470368793282825, 51.14036100703768, 22.079138404899904, 18.253106216167872, 25.811344747585675, 12.539030878484876, 25.767816687140883, 24.001395605777407, 10.59799458166101, 9.542011764181101, 9.512103179206228, 19.208685614401052, 29.006382245863406, 6.735890993946698, 319.2298670113372, 34.59032244712827, 156.10062075992815, 85.76476294871672, 74.98162766460489, 119.54706437340795, 120.11182141312334, 174.00298427907512, 197.63766387351856, 20.165500199048328, 39.30875517157604, 27.647583900790657, 106.9307386687289, 46.99142525390686, 91.77110772406796, 39.59498632380406, 74.17776705562233, 51.30308319697708, 60.44281695383304, 95.90823494997774, 92.0021134876124, 154.75219371796567, 118.36168027371178, 59.173820751104266, 46.05319661822014, 58.48456547897781, 66.68533432942284, 64.27482738766795, 20.1489180262204, 19.18876721082793, 15.348491114843458, 11.50637850773873, 9.583842000049446, 8.627700883836418, 7.667570754284166, 21.08442997265071, 10.532658809787817, 13.354231952804984, 14.394222773682454, 13.433819204597079, 25.853622588367557, 5.747061455351863, 117.84012517838346, 5.747157913742319, 24.780507383764377, 10.481726920132338, 11.472944896916596, 10.508722839533709, 27.794859977319387, 15.264647585420448, 27.827566620975976, 11.370024815158114, 14.238736238620403, 7.592035947036962, 16.28514756640942, 14.30379643572152, 13.342207549874209, 29.646907303515608, 48.86205145880077, 30.403446199216145, 25.803512604423986, 31.466029498553038, 25.226990069652384, 115.32576905443064, 97.89134516282967, 60.300776039907525, 46.231270985368006, 102.02387474253828, 197.63766387351856, 54.253393515622896, 56.28743996686011, 45.26101984839655, 54.6474751969168, 91.09763271408906, 114.2936170446194, 33.485430080103754, 319.2298670113372, 64.27482738766795, 49.68094989317843, 70.46230923104905, 49.009535155260245, 60.44281695383304, 85.76476294871672, 133.8321242153814, 68.80471861950718, 231.00939089550948, 74.98162766460489, 174.00298427907512, 120.11182141312334, 73.48941659122097, 90.29419685758529, 87.48934405177033, 62.10993174158323, 39.045207615693286, 20.992011708039037, 17.96808427311339, 23.948018866041075, 19.941966342882, 46.89063985916387, 19.955401571145, 64.5176005779007, 32.7518511969675, 94.4404340028506, 27.84474080269041, 7.951062703253471, 17.907735384718155, 16.9038286081749, 7.896941807987003, 5.933129321831317, 8.925309783825227, 84.32274684454401, 9.867241816603647, 87.23833391655855, 29.622185718289103, 100.45591718594903, 80.44696117531403, 57.007149452676686, 7.887747806762858, 15.73268951323108, 17.57416548801685, 7.765535615487819, 13.777640461231695, 47.01211974162989, 45.76663294532582, 103.83616566479046, 183.58890834654355, 37.17491497927468, 58.16536883256957, 32.13226217929679, 190.01067358554548, 47.263778572925325, 57.53020209175846, 65.84809351648762, 66.68533432942284, 154.75219371796567, 68.79641507295794, 63.202820366770695, 54.32418032497222, 122.74777792477599, 73.31731101031602, 95.90823494997774, 73.48941659122097, 68.80471861950718, 34.24498410654334, 13.92340762217464, 21.552873681584728, 20.553562428003, 7.540035512404377, 8.463123996987287, 10.288388243283796, 5.620959774077578, 15.961818957924569, 15.001311582202801, 6.536875997331258, 19.637680372294742, 18.896237603864844, 13.135735174453572, 8.4451054054412, 9.422687821225162, 6.543367422899757, 10.200811153091857, 20.964208102201454, 11.204243289346037, 5.611500188106524, 5.654370874196047, 7.471518141590409, 32.03406216466155, 9.415866309769894, 5.736886669885183, 9.373442305953969, 5.57608687550605, 9.295402699330907, 10.559090033713394, 31.766793622381364, 90.29419685758529, 15.214901613781839, 20.896859430983504, 18.811287443246613, 14.198725186329417, 71.82164961448146, 97.89134516282967, 50.243343335034254, 44.692952729103474, 54.32418032497222, 32.01788812012168, 45.1729932883377, 73.31731101031602, 28.726648766265026, 38.0889273529508, 27.35299940614171, 133.8321242153814, 67.81609883725393, 30.445190096427563, 106.9307386687289, 102.02387474253828, 182.14560814400767, 46.24342858938567, 66.13979516550347, 22.412376967771785, 45.66743871322244, 9.857242382507964, 5.394316108704193, 8.11320009590174, 7.182152827864558, 19.804593301061725, 16.277016371570802, 10.048403716167428, 10.91972370148218, 6.408841859892393, 6.411478980721899, 7.332240895468567, 22.94111501764033, 10.05117753429274, 24.080222315878146, 11.953119440871527, 16.538342869070707, 10.102122872056423, 5.512615774167057, 33.128019711372445, 12.80031149720405, 13.030762137078149, 15.738044165784443, 10.180919562149406, 12.016896333002926, 10.169362474711182, 8.282958757099271, 10.125752452525536, 11.290573605656054, 31.55150433159031, 20.373392026166826, 15.736828121700517, 42.152529610543766, 120.11182141312334, 36.342875865041364, 73.48941659122097, 71.82164961448146, 76.30017274234721, 50.243343335034254, 36.02725045492606, 66.13979516550347, 92.0021134876124, 30.780529402597672, 30.78050536867508, 35.53616124003546, 133.8321242153814, 41.24358201799279, 44.221922654449976, 45.01288283210042, 33.62129828961803, 115.32576905443064, 319.2298670113372, 156.10062075992815], \"Category\": [\"Default\", \"Default\", \"Default\", \"Default\", \"Default\", \"Default\", \"Default\", \"Default\", \"Default\", \"Default\", \"Default\", \"Default\", \"Default\", \"Default\", \"Default\", \"Default\", \"Default\", \"Default\", \"Default\", \"Default\", \"Default\", \"Default\", \"Default\", \"Default\", \"Default\", \"Default\", \"Default\", \"Default\", \"Default\", \"Default\", \"Topic1\", \"Topic1\", \"Topic1\", \"Topic1\", \"Topic1\", \"Topic1\", \"Topic1\", \"Topic1\", \"Topic1\", \"Topic1\", \"Topic1\", \"Topic1\", \"Topic1\", \"Topic1\", \"Topic1\", \"Topic1\", \"Topic1\", \"Topic1\", \"Topic1\", \"Topic1\", \"Topic1\", \"Topic1\", \"Topic1\", \"Topic1\", \"Topic1\", \"Topic1\", \"Topic1\", \"Topic1\", \"Topic1\", \"Topic1\", \"Topic1\", \"Topic1\", \"Topic1\", \"Topic1\", \"Topic1\", \"Topic1\", \"Topic1\", \"Topic1\", \"Topic1\", \"Topic1\", \"Topic1\", \"Topic1\", \"Topic1\", \"Topic1\", \"Topic1\", \"Topic1\", \"Topic1\", \"Topic1\", \"Topic1\", \"Topic1\", \"Topic1\", \"Topic1\", \"Topic1\", \"Topic1\", \"Topic1\", \"Topic2\", \"Topic2\", \"Topic2\", \"Topic2\", \"Topic2\", \"Topic2\", \"Topic2\", \"Topic2\", \"Topic2\", \"Topic2\", \"Topic2\", \"Topic2\", \"Topic2\", \"Topic2\", \"Topic2\", \"Topic2\", \"Topic2\", \"Topic2\", \"Topic2\", \"Topic2\", \"Topic2\", \"Topic2\", \"Topic2\", \"Topic2\", \"Topic2\", \"Topic2\", \"Topic2\", \"Topic2\", \"Topic2\", \"Topic2\", \"Topic2\", \"Topic2\", \"Topic2\", \"Topic2\", \"Topic2\", \"Topic2\", \"Topic2\", \"Topic2\", \"Topic2\", \"Topic2\", \"Topic2\", \"Topic2\", \"Topic2\", \"Topic2\", \"Topic2\", \"Topic2\", \"Topic2\", \"Topic2\", \"Topic2\", \"Topic2\", \"Topic2\", \"Topic2\", \"Topic2\", \"Topic2\", \"Topic2\", \"Topic2\", \"Topic2\", \"Topic2\", \"Topic3\", \"Topic3\", \"Topic3\", \"Topic3\", \"Topic3\", \"Topic3\", \"Topic3\", \"Topic3\", \"Topic3\", \"Topic3\", \"Topic3\", \"Topic3\", \"Topic3\", \"Topic3\", \"Topic3\", \"Topic3\", \"Topic3\", \"Topic3\", \"Topic3\", \"Topic3\", \"Topic3\", \"Topic3\", \"Topic3\", \"Topic3\", \"Topic3\", \"Topic3\", \"Topic3\", \"Topic3\", \"Topic3\", \"Topic3\", \"Topic3\", \"Topic3\", \"Topic3\", \"Topic3\", \"Topic3\", \"Topic3\", \"Topic3\", \"Topic3\", \"Topic3\", \"Topic3\", \"Topic3\", \"Topic3\", \"Topic3\", \"Topic3\", \"Topic3\", \"Topic3\", \"Topic3\", \"Topic3\", \"Topic3\", \"Topic3\", \"Topic3\", \"Topic3\", \"Topic3\", \"Topic3\", \"Topic3\", \"Topic3\", \"Topic3\", \"Topic3\", \"Topic3\", \"Topic3\", \"Topic3\", \"Topic3\", \"Topic3\", \"Topic3\", \"Topic4\", \"Topic4\", \"Topic4\", \"Topic4\", \"Topic4\", \"Topic4\", \"Topic4\", \"Topic4\", \"Topic4\", \"Topic4\", \"Topic4\", \"Topic4\", \"Topic4\", \"Topic4\", \"Topic4\", \"Topic4\", \"Topic4\", \"Topic4\", \"Topic4\", \"Topic4\", \"Topic4\", \"Topic4\", \"Topic4\", \"Topic4\", \"Topic4\", \"Topic4\", \"Topic4\", \"Topic4\", \"Topic4\", \"Topic4\", \"Topic4\", \"Topic4\", \"Topic4\", \"Topic4\", \"Topic4\", \"Topic4\", \"Topic4\", \"Topic4\", \"Topic4\", \"Topic4\", \"Topic4\", \"Topic4\", \"Topic4\", \"Topic4\", \"Topic4\", \"Topic4\", \"Topic4\", \"Topic4\", \"Topic4\", \"Topic4\", \"Topic4\", \"Topic5\", \"Topic5\", \"Topic5\", \"Topic5\", \"Topic5\", \"Topic5\", \"Topic5\", \"Topic5\", \"Topic5\", \"Topic5\", \"Topic5\", \"Topic5\", \"Topic5\", \"Topic5\", \"Topic5\", \"Topic5\", \"Topic5\", \"Topic5\", \"Topic5\", \"Topic5\", \"Topic5\", \"Topic5\", \"Topic5\", \"Topic5\", \"Topic5\", \"Topic5\", \"Topic5\", \"Topic5\", \"Topic5\", \"Topic5\", \"Topic5\", \"Topic5\", \"Topic5\", \"Topic5\", \"Topic5\", \"Topic5\", \"Topic5\", \"Topic5\", \"Topic5\", \"Topic5\", \"Topic5\", \"Topic5\", \"Topic5\", \"Topic5\", \"Topic5\", \"Topic5\", \"Topic5\", \"Topic5\", \"Topic5\", \"Topic5\", \"Topic5\", \"Topic5\", \"Topic5\", \"Topic5\", \"Topic5\", \"Topic6\", \"Topic6\", \"Topic6\", \"Topic6\", \"Topic6\", \"Topic6\", \"Topic6\", \"Topic6\", \"Topic6\", \"Topic6\", \"Topic6\", \"Topic6\", \"Topic6\", \"Topic6\", \"Topic6\", \"Topic6\", \"Topic6\", \"Topic6\", \"Topic6\", \"Topic6\", \"Topic6\", \"Topic6\", \"Topic6\", \"Topic6\", \"Topic6\", \"Topic6\", \"Topic6\", \"Topic6\", \"Topic6\", \"Topic6\", \"Topic6\", \"Topic6\", \"Topic6\", \"Topic6\", \"Topic6\", \"Topic6\", \"Topic6\", \"Topic6\", \"Topic6\", \"Topic6\", \"Topic6\", \"Topic6\", \"Topic6\", \"Topic6\", \"Topic6\", \"Topic6\", \"Topic6\", \"Topic6\", \"Topic6\", \"Topic6\", \"Topic6\", \"Topic6\", \"Topic6\", \"Topic6\"], \"logprob\": [30.0, 29.0, 28.0, 27.0, 26.0, 25.0, 24.0, 23.0, 22.0, 21.0, 20.0, 19.0, 18.0, 17.0, 16.0, 15.0, 14.0, 13.0, 12.0, 11.0, 10.0, 9.0, 8.0, 7.0, 6.0, 5.0, 4.0, 3.0, 2.0, 1.0, -4.4862, -5.4971, -4.7413, -5.7667, -4.7084, -5.9719, -5.9897, -6.3346, -6.4496, -6.4496, -6.4497, -6.4503, -4.466, -6.583, -5.8392, -4.9803, -5.7848, -5.9792, -5.9265, -3.2107, -6.7631, -6.1445, -5.5318, -5.7096, -5.5665, -6.1284, -3.9324, -4.6561, -6.5811, -5.942, -3.5439, -5.3099, -5.2732, -4.3255, -4.6375, -4.5596, -4.2506, -5.6031, -5.5116, -5.0885, -5.5756, -4.1275, -4.5053, -4.3222, -5.4206, -5.0342, -4.5911, -4.712, -5.1514, -5.0675, -5.1961, -4.835, -5.4168, -5.2422, -5.3859, -5.6145, -4.1249, -5.3629, -6.0574, -6.358, -6.4878, -4.987, -6.6421, -5.9605, -5.1382, -6.8238, -6.3222, -6.2426, -6.2446, -5.6536, -6.2592, -6.0247, -4.6929, -5.5377, -5.7464, -5.4197, -6.1433, -5.4231, -5.4968, -6.3327, -6.4404, -6.4509, -5.7706, -5.3701, -6.8304, -2.9949, -5.2118, -3.7827, -4.3952, -4.59, -4.2058, -4.2113, -4.0503, -3.9582, -5.7508, -5.2497, -5.5182, -4.5128, -5.1312, -4.6707, -5.2935, -4.9274, -5.1534, -5.0987, -4.8566, -4.8862, -4.6442, -4.7778, -5.146, -5.2498, -5.1808, -5.2357, -5.3007, -5.4451, -5.496, -5.73, -6.0378, -6.2416, -6.349, -6.4797, -5.4776, -6.1759, -5.9494, -5.8751, -5.9576, -5.303, -6.8073, -3.795, -6.8157, -5.3556, -6.22, -6.1301, -6.2445, -5.274, -5.9026, -5.304, -6.2174, -5.9987, -6.6305, -5.8709, -6.004, -6.0799, -5.3034, -4.8428, -5.3228, -5.4815, -5.327, -5.5269, -4.2314, -4.3981, -4.8172, -5.046, -4.4413, -3.9339, -4.9611, -4.9806, -5.1831, -5.0648, -4.7843, -4.6584, -5.4082, -4.143, -5.0579, -5.2039, -5.0708, -5.2329, -5.172, -5.0604, -5.0651, -5.2146, -5.0029, -5.2098, -5.1058, -5.1667, -5.2457, -5.2359, -5.25, -4.1646, -4.6374, -5.2805, -5.4596, -5.1804, -5.3804, -4.5257, -5.3848, -4.2284, -4.9102, -3.8667, -5.093, -6.36, -5.5764, -5.6359, -6.407, -6.7285, -6.3306, -4.1064, -6.2561, -4.082, -5.1695, -3.9542, -4.1936, -4.5523, -6.5456, -5.8569, -5.7496, -6.5795, -6.0089, -4.8182, -4.851, -4.0981, -3.5781, -5.1, -4.7414, -5.2588, -3.8832, -4.9868, -4.8558, -4.7858, -4.855, -4.4076, -4.8575, -4.9133, -5.0078, -4.8267, -4.9889, -5.0194, -5.0549, -5.0819, -3.9411, -4.8927, -4.5231, -4.6928, -5.7344, -5.6683, -5.4969, -6.1055, -5.0834, -5.1473, -6.0495, -4.9676, -5.0157, -5.4002, -5.8603, -5.7536, -6.1198, -5.7094, -4.9903, -5.626, -6.3194, -6.3138, -6.0393, -4.5959, -5.8245, -6.3511, -5.8753, -6.3985, -5.8922, -5.7671, -4.6692, -3.7209, -5.4675, -5.2071, -5.299, -5.5557, -4.3876, -4.1925, -4.6836, -4.7897, -4.6849, -5.0499, -4.8388, -4.5977, -5.1676, -5.0274, -5.2029, -4.4846, -4.8093, -5.1717, -4.7005, -4.7781, -4.594, -5.1084, -5.1602, -4.3456, -3.6497, -5.1847, -5.7937, -5.4506, -5.5783, -4.5901, -4.8131, -5.4991, -5.4287, -5.991, -5.9991, -5.8685, -4.7319, -5.5611, -4.7183, -5.4496, -5.1418, -5.6369, -6.2504, -4.4592, -5.4286, -5.4127, -5.2711, -5.7163, -5.5793, -5.7482, -5.9848, -5.8005, -5.7007, -4.7085, -5.1735, -5.4278, -4.7384, -3.9951, -4.8739, -4.4119, -4.4397, -4.4411, -4.7091, -5.0509, -4.8298, -4.7806, -5.1734, -5.1737, -5.1323, -4.7656, -5.1063, -5.0911, -5.1055, -5.2013, -5.0077, -4.9787, -5.147], \"loglift\": [30.0, 29.0, 28.0, 27.0, 26.0, 25.0, 24.0, 23.0, 22.0, 21.0, 20.0, 19.0, 18.0, 17.0, 16.0, 15.0, 14.0, 13.0, 12.0, 11.0, 10.0, 9.0, 8.0, 7.0, 6.0, 5.0, 4.0, 3.0, 2.0, 1.0, 1.4418, 1.4174, 1.4138, 1.4056, 1.4049, 1.3945, 1.3763, 1.3682, 1.3586, 1.3585, 1.3585, 1.3578, 1.348, 1.3432, 1.3344, 1.3308, 1.3261, 1.3228, 1.3045, 1.2953, 1.2948, 1.2944, 1.2931, 1.2606, 1.2549, 1.2411, 1.2342, 1.2341, 1.2254, 1.2209, 1.1998, 1.2118, 1.1982, 1.0383, 1.041, 1.0202, 0.9241, 1.1813, 1.1174, 0.9776, 1.121, 0.5739, 0.633, 0.4671, 0.9936, 0.6831, 0.3156, 0.3399, 0.5567, 0.4094, 0.5356, -0.0992, 0.8351, -0.0775, 0.6001, 1.479, 1.4553, 1.4428, 1.4421, 1.4298, 1.4179, 1.4157, 1.3978, 1.3863, 1.382, 1.3706, 1.3648, 1.3519, 1.3442, 1.3394, 1.3359, 1.3232, 1.321, 1.3161, 1.2977, 1.278, 1.2763, 1.2762, 1.2736, 1.2551, 1.2524, 1.245, 1.2225, 1.2109, 1.2107, 1.1876, 1.1931, 1.1152, 1.1017, 1.0413, 0.9589, 0.9488, 0.7391, 0.7038, 1.1937, 1.0273, 1.1107, 0.7635, 0.9673, 0.7585, 0.9762, 0.7146, 0.8573, 0.748, 0.5285, 0.5404, 0.2624, 0.3969, 0.722, 0.8688, 0.6989, 0.5128, 0.4846, 1.5002, 1.4982, 1.4874, 1.4677, 1.4468, 1.4444, 1.4318, 1.4223, 1.4181, 1.4073, 1.4065, 1.3931, 1.393, 1.3924, 1.3841, 1.3841, 1.3828, 1.3788, 1.3784, 1.3517, 1.3496, 1.3203, 1.3184, 1.3001, 1.2938, 1.2908, 1.2873, 1.284, 1.2776, 1.2557, 1.2167, 1.2111, 1.2165, 1.1725, 1.1936, 0.9693, 0.9665, 1.0319, 1.0688, 0.882, 0.7281, 0.9937, 0.9373, 0.9529, 0.8828, 0.6523, 0.5513, 1.0292, 0.0396, 0.7274, 0.8389, 0.6226, 0.8235, 0.6747, 0.4364, -0.0133, 0.5025, -0.4969, 0.4214, -0.3164, -0.0066, 0.4056, 0.2095, 0.227, 1.655, 1.6463, 1.6238, 1.6003, 1.5922, 1.5752, 1.575, 1.5701, 1.5532, 1.5493, 1.5338, 1.5288, 1.5151, 1.4868, 1.485, 1.475, 1.4394, 1.429, 1.4075, 1.4031, 1.3978, 1.3905, 1.3845, 1.3672, 1.353, 1.3375, 1.3358, 1.3325, 1.3192, 1.3165, 1.2798, 1.2739, 1.2075, 1.1577, 1.2328, 1.1438, 1.2198, 0.8181, 1.1059, 1.0404, 0.9753, 0.8934, 0.4991, 0.8598, 0.8888, 0.9457, 0.3116, 0.6648, 0.3657, 0.5964, 0.6353, 2.4738, 2.4221, 2.3549, 2.2326, 2.1938, 2.1444, 2.1206, 2.1164, 2.0948, 2.0931, 2.0215, 2.0034, 1.9938, 1.9729, 1.9546, 1.9518, 1.9502, 1.9166, 1.9154, 1.9062, 1.9042, 1.9022, 1.8981, 1.8858, 1.8816, 1.8505, 1.8353, 1.8314, 1.8267, 1.8243, 1.8208, 1.7245, 1.7587, 1.7018, 1.715, 1.7396, 1.2867, 1.1721, 1.348, 1.359, 1.2686, 1.4323, 1.2991, 1.056, 1.4231, 1.2811, 1.4367, 0.5672, 0.9223, 1.3608, 0.5758, 0.5451, 0.1497, 1.0062, 0.5965, 2.4933, 2.4774, 2.4755, 2.4694, 2.4044, 2.3986, 2.3725, 2.3456, 2.1419, 2.1292, 2.0998, 2.0913, 2.0876, 2.0837, 2.0797, 2.0488, 2.0178, 2.0009, 1.9988, 1.9911, 1.9889, 1.9704, 1.9684, 1.9212, 1.9116, 1.8828, 1.8808, 1.8495, 1.8329, 1.8238, 1.7884, 1.7607, 1.7647, 1.4687, 1.1649, 1.4815, 1.2395, 1.2346, 1.1727, 1.3224, 1.3133, 0.9269, 0.646, 1.3482, 1.3479, 1.2456, 0.2863, 1.1226, 1.0681, 1.036, 1.232, 0.193, -0.7962, -0.249]}, \"token.table\": {\"Topic\": [1, 2, 3, 4, 5, 6, 3, 3, 1, 1, 4, 6, 4, 5, 2, 3, 4, 6, 1, 3, 6, 2, 6, 1, 4, 1, 2, 1, 2, 3, 4, 5, 6, 1, 2, 3, 4, 5, 6, 2, 3, 1, 2, 4, 5, 1, 1, 3, 4, 1, 2, 3, 4, 5, 6, 1, 2, 3, 4, 5, 6, 1, 2, 3, 5, 6, 2, 3, 4, 5, 6, 1, 3, 4, 5, 6, 1, 1, 3, 1, 2, 3, 4, 5, 6, 1, 2, 3, 4, 6, 1, 2, 3, 4, 5, 6, 2, 3, 1, 2, 3, 4, 5, 3, 4, 5, 1, 2, 3, 4, 5, 6, 3, 5, 6, 1, 4, 1, 2, 3, 4, 6, 1, 2, 3, 1, 2, 3, 5, 6, 1, 2, 3, 4, 5, 6, 1, 4, 5, 6, 1, 2, 2, 1, 3, 5, 6, 1, 4, 5, 6, 1, 5, 1, 2, 4, 6, 1, 3, 4, 5, 1, 2, 4, 5, 6, 2, 3, 5, 6, 2, 3, 5, 1, 2, 1, 2, 3, 4, 5, 6, 3, 5, 1, 1, 3, 6, 1, 2, 3, 4, 1, 2, 6, 3, 4, 5, 6, 3, 4, 5, 6, 3, 5, 4, 1, 2, 3, 4, 6, 4, 1, 4, 5, 6, 1, 3, 4, 5, 6, 3, 6, 3, 1, 4, 1, 2, 4, 5, 2, 3, 6, 1, 2, 3, 5, 6, 4, 5, 1, 2, 6, 3, 6, 1, 2, 3, 4, 6, 1, 2, 5, 6, 1, 5, 1, 2, 3, 4, 2, 6, 1, 2, 5, 1, 2, 3, 4, 2, 3, 5, 1, 2, 3, 4, 5, 6, 1, 3, 6, 1, 2, 1, 2, 4, 5, 6, 3, 1, 1, 3, 4, 5, 6, 2, 4, 6, 1, 3, 4, 5, 3, 6, 3, 6, 1, 6, 1, 2, 3, 6, 3, 6, 1, 2, 6, 1, 2, 3, 4, 2, 3, 4, 5, 6, 1, 2, 3, 4, 5, 1, 3, 4, 1, 2, 5, 6, 1, 2, 6, 1, 4, 6, 1, 3, 4, 5, 6, 1, 2, 4, 1, 2, 5, 2, 3, 5, 4, 5, 2, 3, 6, 2, 2, 2, 3, 4, 5, 6, 1, 2, 3, 4, 5, 6, 1, 2, 3, 4, 5, 1, 2, 3, 6, 2, 3, 5, 1, 2, 3, 4, 2, 3, 4, 5, 2, 5, 2, 3, 6, 3, 5, 6, 2, 6, 1, 2, 3, 4, 5, 6, 1, 2, 2, 3, 4, 5, 6, 1, 2, 5, 6, 1, 2, 3, 4, 5, 6, 2, 3, 4, 5, 1, 2, 3, 4, 6, 1, 3, 5, 1, 2, 3, 4, 5, 6, 1, 3, 6, 1, 2, 4, 5, 1, 3, 1, 3, 4, 6, 4, 6, 1, 2, 3, 6, 1, 2, 3, 6, 1, 4, 1, 2, 3, 4, 6, 2, 5, 6, 2, 3, 5, 2, 4, 5, 6, 3, 2, 4, 6, 1, 2, 4, 5, 6, 1, 2, 3, 4, 6, 1, 3, 4, 5, 6, 2, 3, 4, 1, 4, 2, 3, 4, 5, 6, 1, 2, 3, 4, 5, 6, 3, 5, 2, 4, 1, 2, 3, 4, 5, 6, 3, 1, 3, 4, 5, 1, 2, 4, 3, 5, 1, 2, 3, 4, 5, 6, 4, 1, 2, 3, 4, 5, 6, 2, 5, 1, 2, 3, 1, 2, 3, 5, 1, 3, 5, 6, 1, 2, 3, 3, 2, 3, 4, 5, 2, 3, 4, 5, 1, 1, 1, 4, 2, 3, 4, 5, 2, 6, 2, 3, 5, 6, 1, 6, 1, 3, 4, 5, 6, 1, 2, 3, 4, 5, 6, 1, 2, 5, 2, 3, 5, 1, 2, 3, 5, 1, 2, 3, 4, 5, 6, 2, 3, 5, 6, 1, 6, 1, 2, 3, 4, 5, 6, 1, 2, 3, 4, 5, 6, 2, 6, 1, 3, 6, 2, 3, 5, 2, 4, 5, 1, 2, 3, 4, 5, 6, 3, 6, 3, 5, 1, 2, 3, 5, 6, 1, 1, 2, 3, 4, 6, 2, 1, 2, 3, 6, 1, 2, 3, 6, 1, 2, 5, 1, 2, 5, 6, 3, 4, 5, 3, 5, 1, 2, 3, 1, 5, 2, 3, 6, 1, 3, 6, 1, 2, 6, 2, 3, 1, 3, 5, 1, 3, 1, 3, 4, 5, 6, 3, 4, 1, 2, 3, 6, 1, 2, 3, 4, 5, 6, 1, 2, 1, 3, 1, 4, 6, 1, 2, 3, 5, 6, 1, 2, 3, 4, 6, 3, 6, 2, 3, 1, 2, 3, 1, 3, 4, 6, 2, 3, 6, 1, 2, 3, 4, 5, 6, 1, 3, 6, 3, 6, 1, 6, 1, 2, 1, 6, 2, 3, 6, 2, 4, 1, 2, 3, 4, 5, 6, 1, 2, 3, 4, 5, 2, 3, 4, 5, 6, 1, 2, 3, 4, 6, 3, 5, 1, 2, 3, 4, 1, 2, 3, 4, 5, 3, 5, 1, 2, 6, 2, 3, 6, 1, 2, 3, 4, 5, 1, 2, 3, 4, 5, 6, 1, 2, 1, 1, 2, 3, 4, 5, 1, 3, 1, 2, 6, 3, 4, 5, 1, 5, 6, 1, 2, 3, 6, 1, 4, 3, 6, 6, 2, 4, 1, 2, 3, 5, 6, 2, 3, 2, 3, 6, 1, 2, 3, 1, 3, 4, 5, 6, 2, 3, 2, 6, 1, 2, 3, 4, 6, 4, 5, 1, 4, 4, 5, 4, 5, 6, 1, 3, 4, 5, 1, 5, 1, 2, 3, 4, 5, 6, 2, 3, 1, 3, 5, 1, 4, 1, 6, 2, 3, 6, 4, 1, 2, 3, 4, 6, 1, 2, 3, 4, 6, 1, 1, 2, 4, 6, 1, 2, 3, 4, 5, 6, 1, 2, 3, 4, 5, 6, 2, 5, 4, 6, 1, 2, 4], \"Freq\": [0.12448547748304037, 0.062242738741520184, 0.031121369370760092, 0.6535487567859619, 0.031121369370760092, 0.12448547748304037, 0.9129358207863725, 0.8699952350437854, 0.9264630180591018, 0.030532625285394254, 0.8854461332764334, 0.06106525057078851, 0.2652507400939597, 0.6631268502348994, 0.33919827767801897, 0.0678396555356038, 0.3844247147017548, 0.20351896660681137, 0.030185927462990255, 0.4527889119448538, 0.5131607668708343, 0.8335458506961184, 0.1041932313370148, 0.05565423585509078, 0.9461220095365432, 0.09445833547275442, 0.8501250192547898, 0.050597643202257556, 0.44019949585964074, 0.4452592601798665, 0.005059764320225755, 0.0455378788820318, 0.015179292960677266, 0.217487565556511, 0.5688136329939518, 0.07528415730802303, 0.050189438205348685, 0.04182453183779057, 0.050189438205348685, 0.06947231647882655, 0.9031401142247452, 0.7948149136972346, 0.12095009556262265, 0.05183575524112399, 0.03455717016074933, 0.9074085023889272, 0.8330859408411945, 0.043846628465326026, 0.08769325693065205, 0.0995156704970615, 0.1194188045964738, 0.1791282068947107, 0.0398062681988246, 0.2985470114911845, 0.2587407432923599, 0.20279238094957833, 0.4393834920574197, 0.1689936507913153, 0.05069809523739458, 0.08449682539565764, 0.05069809523739458, 0.030646223065071643, 0.13280029994864379, 0.5618474228596468, 0.24516978452057314, 0.010215407688357214, 0.12279468055202403, 0.7163023032201401, 0.04093156018400801, 0.08186312036801602, 0.020465780092004004, 0.08925189985394966, 0.1785037997078993, 0.08925189985394966, 0.5355113991236979, 0.08925189985394966, 0.9409444660991202, 0.9502540864752186, 0.04319336756705539, 0.4399264973504696, 0.07332108289174494, 0.1629357397594332, 0.26069718361509314, 0.01629357397594332, 0.05702750891580162, 0.4157661172883169, 0.03684003570909137, 0.09473152039480638, 0.4262918417766287, 0.02105144897662364, 0.1028703265024472, 0.4675923931929419, 0.19638880514103557, 0.04675923931929419, 0.14027771795788255, 0.04675923931929419, 0.8212691340645829, 0.1759862430138392, 0.3981355528101815, 0.10322032850634334, 0.11796608972153526, 0.1916948957974948, 0.1916948957974948, 0.10134544370011243, 0.8107635496008995, 0.10134544370011243, 0.1898649447977654, 0.15822078733147116, 0.11075455113202981, 0.45884028326126636, 0.03164415746629423, 0.03164415746629423, 0.32274018641666197, 0.4303202485555493, 0.21516012427777464, 0.8948981162943958, 0.10528213132875244, 0.06353210956039122, 0.01058868492673187, 0.02117736985346374, 0.8788608489187452, 0.02117736985346374, 0.6180588078044021, 0.2678254833819076, 0.10300980130073369, 0.10659571662048532, 0.2309573860110515, 0.5507445358725075, 0.07106381108032354, 0.03553190554016177, 0.06255980003311898, 0.3649321668598607, 0.23981256679362276, 0.27109246681018223, 0.020853266677706327, 0.041706533355412655, 0.06554993904803723, 0.6773493701630514, 0.17479983746143263, 0.08739991873071631, 0.09732495697927473, 0.8759246128134726, 0.9077602794365692, 0.07812309881821457, 0.2343692964546437, 0.2343692964546437, 0.4687385929092874, 0.2578854101858765, 0.5845402630879867, 0.017192360679058435, 0.12034652475340904, 0.8730391656859584, 0.06235994040613989, 0.08770829708211682, 0.08770829708211682, 0.7367496954897813, 0.07016663766569346, 0.7724968394714735, 0.03089987357885894, 0.1544993678942947, 0.03089987357885894, 0.06962176536055568, 0.03481088268027784, 0.45254147484361196, 0.31329794412250056, 0.10443264804083352, 0.3290315576133557, 0.25591343369927666, 0.3290315576133557, 0.10967718587111856, 0.7916206337362518, 0.08332848776171072, 0.12499273164256607, 0.8130330949030966, 0.08130330949030966, 0.09624334485543212, 0.20123608469772172, 0.37622398443487104, 0.20123608469772172, 0.0787445548817172, 0.0524963699211448, 0.85448509844793, 0.09494278871643667, 0.940969147494381, 0.9527492507604557, 0.31206886419156876, 0.6241377283831375, 0.5457629299744187, 0.2232666531713531, 0.049614811815856245, 0.17365184135549686, 0.18140208586387424, 0.18140208586387424, 0.5442062575916227, 0.9390805900132292, 0.15297827286432533, 0.6119130914573013, 0.15297827286432533, 0.29450176938105466, 0.09816725646035154, 0.19633451292070309, 0.39266902584140617, 0.38064104776746865, 0.532897466874456, 0.8803854605668864, 0.12133015534494769, 0.4448772362648082, 0.22917918231823453, 0.16177354045993025, 0.05392451348664342, 0.9732308347293, 0.0501455063560939, 0.9026191144096902, 0.13923401854111286, 0.6961700927055643, 0.11138702665480066, 0.29239094496885176, 0.06961689165925042, 0.2784675666370017, 0.2366974316414514, 0.1338546109729412, 0.8477458694952943, 0.9429786738560711, 0.21774410563561808, 0.7258136854520603, 0.3803731676231322, 0.13424935327875254, 0.1789991377050034, 0.2908735987706305, 0.7227455031161621, 0.2312785609971719, 0.057819640249292974, 0.01658353450274325, 0.3150871555521218, 0.597007242098757, 0.01658353450274325, 0.049750603508229754, 0.47352565268748, 0.47352565268748, 0.18139665042320957, 0.24186220056427943, 0.48372440112855886, 0.41830084813704826, 0.5019610177644579, 0.10173720844220405, 0.13080498228283377, 0.34881328608755674, 0.36334717300787156, 0.058135547681259454, 0.10668439270862151, 0.32005317812586453, 0.5334219635431076, 0.10668439270862151, 0.35641092986844497, 0.5346163948026674, 0.04498740285502839, 0.35989922284022713, 0.13496220856508517, 0.46486982950196004, 0.8548739586728473, 0.09498599540809415, 0.09730673244629941, 0.14596009866944912, 0.7298004933472455, 0.5914076231270523, 0.32104985255468554, 0.04224340165193231, 0.05069208198231877, 0.8217779386345542, 0.054785195908970276, 0.10957039181794055, 0.10911474916032272, 0.24550818561072613, 0.02727868729008068, 0.3682622784160892, 0.21822949832064545, 0.02727868729008068, 0.36218941660535486, 0.12072980553511828, 0.4829192221404731, 0.0741513494173648, 0.8898161930083777, 0.127123846073363, 0.0635619230366815, 0.6991811534034965, 0.0635619230366815, 0.0635619230366815, 0.9272458685937541, 0.9409333765063095, 0.1784583078355647, 0.23794441044741962, 0.08922915391778236, 0.23794441044741962, 0.23794441044741962, 0.72397859967507, 0.17237585706549285, 0.06895034282619714, 0.46514051591299205, 0.029071282244562003, 0.45060487479071104, 0.058142564489124006, 0.7903018428596474, 0.13171697380994124, 0.8985915507839795, 0.07488262923199829, 0.8508619302924884, 0.07090516085770736, 0.06143632083251973, 0.12287264166503946, 0.06143632083251973, 0.7372358499902367, 0.12325592715322463, 0.7395355629193477, 0.19903658894418128, 0.19903658894418128, 0.5971097668325438, 0.657148841511418, 0.2516740244086281, 0.013981890244923786, 0.06990945122461893, 0.09822295460596675, 0.1964459092119335, 0.09822295460596675, 0.09822295460596675, 0.4911147730298338, 0.7741059553218698, 0.010980226316622266, 0.027450565791555664, 0.09882203684960039, 0.08784181053297813, 0.6966416851015235, 0.038702315838973524, 0.23221389503384113, 0.35419392949837386, 0.28778256771742877, 0.28778256771742877, 0.0664113617809451, 0.2984724913836772, 0.09949083046122574, 0.5969449827673544, 0.0885694593496159, 0.4428472967480795, 0.4428472967480795, 0.07458330199601326, 0.03729165099800663, 0.7458330199601326, 0.07458330199601326, 0.07458330199601326, 0.7234653899754147, 0.14469307799508294, 0.1085198084963122, 0.03616952582867114, 0.6510514649160805, 0.2893562066293691, 0.26877361223882223, 0.5972746938640494, 0.11945493877280988, 0.3486211450713611, 0.5229317176070416, 0.7748530809062456, 0.07748530809062455, 0.11622796213593684, 0.921981602888716, 0.9784413460411778, 0.08164440919941605, 0.3265776367976642, 0.3401850383309002, 0.013607401533236007, 0.24493322759824815, 0.15682603743855741, 0.09801627339909838, 0.5194862490152214, 0.05880976403945903, 0.13722278275873773, 0.029404882019729513, 0.13678822667966284, 0.4445617367089042, 0.3419705666991571, 0.017098528334957855, 0.051295585004873565, 0.1484740344300986, 0.8166071893655423, 0.7915550006541339, 0.1759011112564742, 0.2505980058127472, 0.1252990029063736, 0.6264950145318681, 0.6634326299605053, 0.10206655845546235, 0.2041331169109247, 0.030619967536638707, 0.1431010408489968, 0.0477003469496656, 0.2862020816979936, 0.5247038164463216, 0.4245073248622079, 0.5306341560777599, 0.06338841974002299, 0.5071073579201839, 0.4120247283101494, 0.1793372345744248, 0.5380117037232744, 0.1793372345744248, 0.7359045489857838, 0.2102584425673668, 0.07863678133811028, 0.11795517200716542, 0.23591034401433084, 0.3145471253524411, 0.02621226044603676, 0.22280421379131246, 0.8360046074160197, 0.13200072748673997, 0.1970754651554644, 0.1970754651554644, 0.1970754651554644, 0.2956131977331966, 0.0985377325777322, 0.13384160769596112, 0.26768321539192225, 0.5353664307838445, 0.13384160769596112, 0.32877009356280584, 0.08219252339070146, 0.20921733226724007, 0.1494409516194572, 0.13449685645751147, 0.08966457097167432, 0.03681601798749318, 0.18408008993746588, 0.47860823383741125, 0.2761201349061988, 0.035577588637271854, 0.13045115833666346, 0.0474367848496958, 0.7708477538075568, 0.01185919621242395, 0.7605788145891039, 0.1690175143531342, 0.04225437858828355, 0.06741389144315844, 0.04815277960225603, 0.1348277828863169, 0.6356166907497797, 0.08667500328406086, 0.02889166776135362, 0.39503237105133177, 0.09875809276283294, 0.39503237105133177, 0.30527550281411964, 0.6105510056282393, 0.025439625234509967, 0.025439625234509967, 0.09485672615262845, 0.9011388984499704, 0.3293839273477644, 0.5123749980965224, 0.1280937495241306, 0.0182991070748758, 0.6438705902047309, 0.25754823608189237, 0.08486073809631692, 0.04243036904815846, 0.8570934547728009, 0.008486073809631692, 0.13156403303067424, 0.03289100825766856, 0.7236021816687083, 0.09867302477300569, 0.16854512109156933, 0.8427256054578467, 0.022215862150621053, 0.35545379440993685, 0.1332951729037263, 0.2888062079580737, 0.19994275935558947, 0.3923087431922792, 0.043589860354697696, 0.56666818461107, 0.0624335430742313, 0.40581802998250344, 0.4994683445938504, 0.9502897260625739, 0.35214429002499587, 0.42257314802999507, 0.14085771600999836, 0.9772947638803117, 0.2302244464630126, 0.2302244464630126, 0.4604488929260252, 0.21003479373068326, 0.21003479373068326, 0.23628914294701867, 0.28879784137968945, 0.052508698432670815, 0.12167522006676196, 0.05214652288575512, 0.2259682658382722, 0.538847403152803, 0.06952869718100683, 0.03248807019919569, 0.32488070199195684, 0.09746421059758706, 0.29239263179276115, 0.2599045615935655, 0.05915819564784203, 0.05915819564784203, 0.8282147390697884, 0.8020475470019767, 0.1850878954619946, 0.09538197828802944, 0.5636207807929012, 0.20810613444660966, 0.04335544467637702, 0.08671088935275403, 0.04667457108683878, 0.35783837833243065, 0.4511875205061082, 0.06223276144911837, 0.06223276144911837, 0.031116380724559186, 0.33330418961045255, 0.5999475412988146, 0.050111745255278374, 0.9020114145950107, 0.011462850734362682, 0.05731425367181341, 0.14901705954671488, 0.7680109992022996, 0.011462850734362682, 0.011462850734362682, 0.9559914957257698, 0.15876176320869348, 0.052920587736231164, 0.21168235094492466, 0.5821264650985428, 0.042652435667480844, 0.021326217833740422, 0.9170273668508382, 0.7495011573324146, 0.14990023146648293, 0.2817981546267155, 0.10064219808096982, 0.5032109904048491, 0.06038531884858189, 0.020128439616193965, 0.04025687923238793, 0.9821295610788746, 0.07752436195917008, 0.011074908851310012, 0.2657978124314403, 0.19934835932358022, 0.43192144520109044, 0.011074908851310012, 0.1779055606502902, 0.7116222426011608, 0.8966565946725803, 0.08005862452433753, 0.016011724904867505, 0.21280478185046325, 0.5745729109962509, 0.17024382548037062, 0.021280478185046327, 0.09803141975595743, 0.19606283951191486, 0.49015709877978714, 0.19606283951191486, 0.6460625890119458, 0.21535419633731526, 0.12667893902195015, 0.9380487971026547, 0.12493016356960142, 0.031232540892400355, 0.5309531951708061, 0.31232540892400357, 0.19717511661610512, 0.19717511661610512, 0.19717511661610512, 0.46007527210424526, 0.9870023137527213, 0.9624647577893108, 0.04175710757510829, 0.9186563666523824, 0.2962099185192905, 0.10578925661403234, 0.5712619857157746, 0.021157851322806467, 0.7335979218005861, 0.10479970311436944, 0.15947871771408295, 0.3189574354281659, 0.4252765805708879, 0.05315957257136099, 0.3663096346894806, 0.5494644520342209, 0.12709041393430945, 0.12709041393430945, 0.12709041393430945, 0.19063562090146416, 0.3812712418029283, 0.3037293706156007, 0.0455594055923401, 0.015186468530780033, 0.5011534615157411, 0.0911188111846802, 0.0455594055923401, 0.2368235686805514, 0.2368235686805514, 0.5920589217013785, 0.12281129119918462, 0.7982733927947, 0.06140564559959231, 0.03308912623194952, 0.4632477672472933, 0.413614077899369, 0.0827228155798738, 0.04342803859154339, 0.5211364630985207, 0.13028411577463017, 0.13028411577463017, 0.13028411577463017, 0.04342803859154339, 0.1686516555946828, 0.7420672846166042, 0.03373033111893656, 0.03373033111893656, 0.20197334725301125, 0.7574000521987921, 0.21351031796081812, 0.23723368662313124, 0.09489347464925249, 0.11861684331156562, 0.047446737324626245, 0.3084037926100706, 0.08442104873781821, 0.028140349579272736, 0.33768419495127283, 0.08442104873781821, 0.2251227966341819, 0.25326314621345464, 0.8554541653241675, 0.09505046281379638, 0.934135451179828, 0.31194050639698273, 0.6238810127939655, 0.038679299064647704, 0.8509445794222494, 0.07735859812929541, 0.7975097993544717, 0.07975097993544718, 0.07975097993544718, 0.08161677084526837, 0.20404192711317096, 0.4897006250716103, 0.14282934897921967, 0.04080838542263419, 0.04080838542263419, 0.8586371376183849, 0.09540412640204277, 0.7861301699137441, 0.13102169498562402, 0.3735568115070348, 0.4540152016777807, 0.1551697524721529, 0.005747027869338997, 0.011494055738677993, 0.9409369664734664, 0.4952827637208097, 0.08254712728680162, 0.02751570909560054, 0.08254712728680162, 0.30267280005160596, 0.8897735083412326, 0.026673200653179484, 0.6134836150231282, 0.32007840783815383, 0.026673200653179484, 0.052055551728507087, 0.8328888276561134, 0.052055551728507087, 0.052055551728507087, 0.10620371690732279, 0.3186111507219684, 0.531018584536614, 0.10948720009016648, 0.043794880036066595, 0.021897440018033298, 0.8321027206852653, 0.11815967724873004, 0.11815967724873004, 0.7089580634923802, 0.871615796105457, 0.0871615796105457, 0.8527791845878133, 0.017315313392645956, 0.12986485044484467, 0.30565301789421456, 0.6113060357884291, 0.6942550326949343, 0.19835858076998122, 0.049589645192495306, 0.09898909493232451, 0.29696728479697354, 0.49494547466162253, 0.834352015917037, 0.07585018326518518, 0.07585018326518518, 0.7548597933653756, 0.1887149483413439, 0.09719695411502327, 0.19439390823004654, 0.6803786788051629, 0.2712808952529919, 0.7363338585438352, 0.08508444252212571, 0.12762666378318857, 0.6806755401770057, 0.02127111063053143, 0.08508444252212571, 0.7135215081268723, 0.27748058649378365, 0.0313253897375613, 0.7142188860163976, 0.2224102671366852, 0.0313253897375613, 0.1304317862395165, 0.3695567276786301, 0.07608520863971796, 0.24999425695907332, 0.04347726207983884, 0.1304317862395165, 0.6420168208422325, 0.3501909931866723, 0.8219363997670004, 0.11741948568100007, 0.19909230397029754, 0.7565507550871305, 0.039818460794059506, 0.06356060907182362, 0.12712121814364724, 0.6991666997900599, 0.03178030453591181, 0.06356060907182362, 0.21243113405513236, 0.11438599526045588, 0.06536342586311765, 0.5991647370785784, 0.005446952155259804, 0.40915185995239794, 0.5455358132698639, 0.07443899495519472, 0.8932679394623367, 0.035935589109189876, 0.1437423564367595, 0.7905829604021772, 0.04649893940766908, 0.015499646469223027, 0.8989794952149356, 0.04649893940766908, 0.5578135375164632, 0.21646495485713496, 0.22479053004394786, 0.354328865257651, 0.13715956074489716, 0.2743191214897943, 0.20573934111734574, 0.011429963395408096, 0.022859926790816193, 0.040354298825018294, 0.8474402753253842, 0.08070859765003659, 0.491672905989321, 0.491672905989321, 0.8140940300836654, 0.15264263064068728, 0.20823913100025634, 0.7288369585008971, 0.101448251062035, 0.81158600849628, 0.6529488110809023, 0.32647440554045115, 0.011659800197873254, 0.11168358014194979, 0.8376268510646234, 0.16465850487111633, 0.1975902058453396, 0.40615764534875365, 0.1427040375549675, 0.032931700974223266, 0.054886168290372114, 0.0883762675564569, 0.0883762675564569, 0.5523516722278556, 0.1767525351129138, 0.0883762675564569, 0.07372810695884219, 0.5713928289310269, 0.29491242783536875, 0.036864053479421094, 0.036864053479421094, 0.31663525293413297, 0.2843255332469765, 0.05815749543688156, 0.31017330899670165, 0.02584777574972514, 0.856431379667003, 0.09515904218522256, 0.14165678417097946, 0.46855705533477815, 0.250623541225579, 0.1307601084655195, 0.21287976740606573, 0.02838396898747543, 0.39737556582465605, 0.2696477053810166, 0.08515190696242629, 0.7690266041908427, 0.1398230189437896, 0.05769617483635185, 0.8942907099634537, 0.028848087418175926, 0.9378117638275506, 0.01267313194361555, 0.038019395830846646, 0.021624694156642435, 0.10812347078321216, 0.3676198006629214, 0.2594963298797092, 0.21624694156642432, 0.40326609003988195, 0.14402360358567212, 0.08641416215140328, 0.3312542882470459, 0.014402360358567212, 0.028804720717134424, 0.8585413355755835, 0.06604164119812181, 0.9071033351477359, 0.1515343369721754, 0.5808816250600056, 0.1262786141434795, 0.1262786141434795, 0.025255722828695898, 0.9683126860286998, 0.02251889967508604, 0.3898401178582276, 0.5067921532156959, 0.07796802357164552, 0.4306867273393157, 0.14356224244643856, 0.4306867273393157, 0.02920135681444003, 0.905242061247641, 0.02920135681444003, 0.038808099737027306, 0.7761619947405461, 0.038808099737027306, 0.11642429921108192, 0.10774027387283613, 0.8619221909826891, 0.4992969760021761, 0.4160808133351468, 0.7415212455839686, 0.11204092902324092, 0.7842865031626864, 0.09698478658461268, 0.09698478658461268, 0.43643153963075704, 0.14547717987691902, 0.21821576981537852, 0.7422922972615382, 0.14845845945230762, 0.8152492035651788, 0.09058324484057542, 0.04529162242028771, 0.10793362522595908, 0.07195575015063937, 0.8274911267323529, 0.032488095566412856, 0.32488095566412856, 0.09746428669923857, 0.2923928600977157, 0.25990476453130285, 0.865358179248834, 0.8700098370000596, 0.5083223757493662, 0.4447820787806954, 0.04152785580142317, 0.12458356740426951, 0.08305571160284635, 0.20763927900711587, 0.5398621254185012, 0.13919257563149312, 0.8351554537889587, 0.20255088726607795, 0.7426865866422858, 0.5036705998784582, 0.47219118738605453, 0.7397221796314711, 0.17070511837649333, 0.05690170612549778, 0.021630380880432544, 0.6272810455325438, 0.21630380880432545, 0.15141266616302781, 0.07182149852507257, 0.8618579823008707, 0.06047796171715814, 0.2116728660100535, 0.31750929901508024, 0.09071694257573722, 0.1360754138636058, 0.18143388515147443, 0.9065213254014025, 0.043167682161971546, 0.3055350675971347, 0.10184502253237825, 0.5601476239280804, 0.8784481934736085, 0.05856321289824056, 0.7798770385958871, 0.19496925964897177, 0.07023095190763154, 0.772540470983947, 0.14046190381526308, 0.9527433710577087, 0.11102706838548301, 0.3608379722528198, 0.027756767096370753, 0.22205413677096603, 0.2498109038673368, 0.08327961757431504, 0.6662369405945203, 0.07046736871672811, 0.1281224885758693, 0.05124899543034772, 0.9058771209298276, 0.21519887818062436, 0.05379971954515609, 0.6455966345418731, 0.08069957931773414, 0.8045149156220713, 0.07542327333956919, 0.08380363704396576, 0.01676072740879315, 0.008380363704396576, 0.01676072740879315, 0.4183562762438483, 0.0760647774988815, 0.20917813812192415, 0.20917813812192415, 0.019016194374720376, 0.05704858312416113, 0.35370866971727694, 0.5305630045759153, 0.8864190936446016, 0.12663129909208592, 0.126778901214693, 0.126778901214693, 0.7606734072881581], \"Term\": [\".\\uad6c\", \".\\uad6c\", \".\\uad6c\", \".\\uad6c\", \".\\uad6c\", \".\\uad6c\", \"E\", \"IFC\", \"daer\", \"drea\", \"drea\", \"drea\", \"km\", \"km\", \"m\", \"m\", \"m\", \"m\", \"\\uac00\\uaca9\", \"\\uac00\\uaca9\", \"\\uac00\\uaca9\", \"\\uac00\\ub85c\", \"\\uac00\\ub85c\", \"\\uac00\\uc871\", \"\\uac00\\uc871\", \"\\uac1c\\ub7c9\", \"\\uac1c\\ub7c9\", \"\\uac1c\\ubc1c\", \"\\uac1c\\ubc1c\", \"\\uac1c\\ubc1c\", \"\\uac1c\\ubc1c\", \"\\uac1c\\ubc1c\", \"\\uac1c\\ubc1c\", \"\\uac1c\\uc120\", \"\\uac1c\\uc120\", \"\\uac1c\\uc120\", \"\\uac1c\\uc120\", \"\\uac1c\\uc120\", \"\\uac1c\\uc120\", \"\\uac70\\ub798\", \"\\uac70\\ub798\", \"\\uac70\\ub9ac\", \"\\uac70\\ub9ac\", \"\\uac70\\ub9ac\", \"\\uac70\\ub9ac\", \"\\uac70\\ubc84\\ub10c\\uc2a4\", \"\\uac70\\uc810\", \"\\uac70\\uc810\", \"\\uac70\\uc810\", \"\\uac74\\ub9bd\", \"\\uac74\\ub9bd\", \"\\uac74\\ub9bd\", \"\\uac74\\ub9bd\", \"\\uac74\\ub9bd\", \"\\uac74\\ub9bd\", \"\\uac74\\ubb3c\", \"\\uac74\\ubb3c\", \"\\uac74\\ubb3c\", \"\\uac74\\ubb3c\", \"\\uac74\\ubb3c\", \"\\uac74\\ubb3c\", \"\\uac74\\ucd95\", \"\\uac74\\ucd95\", \"\\uac74\\ucd95\", \"\\uac74\\ucd95\", \"\\uac74\\ucd95\", \"\\uac74\\ucd95\\ubb3c\", \"\\uac74\\ucd95\\ubb3c\", \"\\uac74\\ucd95\\ubb3c\", \"\\uac74\\ucd95\\ubb3c\", \"\\uac74\\ucd95\\ubb3c\", \"\\uac78\\ub9ac\\ub2e4\", \"\\uac78\\ub9ac\\ub2e4\", \"\\uac78\\ub9ac\\ub2e4\", \"\\uac78\\ub9ac\\ub2e4\", \"\\uac78\\ub9ac\\ub2e4\", \"\\uacac\\uc778\", \"\\uacbd\\uc778\\ub85c\", \"\\uacbd\\uc778\\ub85c\", \"\\uacbd\\uc81c\", \"\\uacbd\\uc81c\", \"\\uacbd\\uc81c\", \"\\uacbd\\uc81c\", \"\\uacbd\\uc81c\", \"\\uacbd\\uc81c\", \"\\uacf5\\uac04\", \"\\uacf5\\uac04\", \"\\uacf5\\uac04\", \"\\uacf5\\uac04\", \"\\uacf5\\uac04\", \"\\uacf5\\uacf5\", \"\\uacf5\\uacf5\", \"\\uacf5\\uacf5\", \"\\uacf5\\uacf5\", \"\\uacf5\\uacf5\", \"\\uacf5\\uacf5\", \"\\uacf5\\uae09\", \"\\uacf5\\uae09\", \"\\uacf5\\ubaa8\", \"\\uacf5\\ubaa8\", \"\\uacf5\\ubaa8\", \"\\uacf5\\ubaa8\", \"\\uacf5\\ubaa8\", \"\\uacf5\\ubb34\\uc6d0\", \"\\uacf5\\ubb34\\uc6d0\", \"\\uacf5\\ubb34\\uc6d0\", \"\\uacf5\\uc0ac\", \"\\uacf5\\uc0ac\", \"\\uacf5\\uc0ac\", \"\\uacf5\\uc0ac\", \"\\uacf5\\uc0ac\", \"\\uacf5\\uc0ac\", \"\\uacf5\\uc2dd\", \"\\uacf5\\uc2dd\", \"\\uacf5\\uc2dd\", \"\\uacf5\\uc5f0\", \"\\uacf5\\uc5f0\", \"\\uacf5\\uc6d0\", \"\\uacf5\\uc6d0\", \"\\uacf5\\uc6d0\", \"\\uacf5\\uc6d0\", \"\\uacf5\\uc6d0\", \"\\uacf5\\uc7a5\", \"\\uacf5\\uc7a5\", \"\\uacf5\\uc7a5\", \"\\uad00\\uacc4\\uc790\", \"\\uad00\\uacc4\\uc790\", \"\\uad00\\uacc4\\uc790\", \"\\uad00\\uacc4\\uc790\", \"\\uad00\\uacc4\\uc790\", \"\\uad00\\ub9ac\", \"\\uad00\\ub9ac\", \"\\uad00\\ub9ac\", \"\\uad00\\ub9ac\", \"\\uad00\\ub9ac\", \"\\uad00\\ub9ac\", \"\\uad50\\uc721\", \"\\uad50\\uc721\", \"\\uad50\\uc721\", \"\\uad50\\uc721\", \"\\uad50\\uccb4\", \"\\uad50\\uccb4\", \"\\uad50\\ud68c\", \"\\uad6c\\ub3c5\", \"\\uad6c\\ub3c5\", \"\\uad6c\\ub3c5\", \"\\uad6c\\ub3c5\", \"\\uad6c\\ubbfc\", \"\\uad6c\\ubbfc\", \"\\uad6c\\ubbfc\", \"\\uad6c\\ubbfc\", \"\\uad6c\\uc0c1\", \"\\uad6c\\uc0c1\", \"\\uad6c\\uccad\\uc7a5\", \"\\uad6c\\uccad\\uc7a5\", \"\\uad6c\\uccad\\uc7a5\", \"\\uad6c\\uccad\\uc7a5\", \"\\uad6c\\ucd95\", \"\\uad6c\\ucd95\", \"\\uad6c\\ucd95\", \"\\uad6c\\ucd95\", \"\\uad6d\\uc81c\", \"\\uad6d\\uc81c\", \"\\uad6d\\uc81c\", \"\\uad6d\\uc81c\", \"\\uad6d\\uc81c\", \"\\uad6d\\ud1a0\", \"\\uad6d\\ud1a0\", \"\\uad6d\\ud1a0\", \"\\uad6d\\ud1a0\", \"\\uad6d\\ud1a0\\ubd80\", \"\\uad6d\\ud1a0\\ubd80\", \"\\uad6d\\ud1a0\\ubd80\", \"\\uad8c\\uc5ed\", \"\\uad8c\\uc5ed\", \"\\uaddc\\ubaa8\", \"\\uaddc\\ubaa8\", \"\\uaddc\\ubaa8\", \"\\uaddc\\ubaa8\", \"\\uaddc\\ubaa8\", \"\\uaddc\\ubaa8\", \"\\uaddc\\uc81c\", \"\\uaddc\\uc81c\", \"\\uae08\\uc18d\", \"\\uae30\\uacc4\", \"\\uae30\\uad6c\", \"\\uae30\\uad6c\", \"\\uae30\\ubc18\", \"\\uae30\\ubc18\", \"\\uae30\\ubc18\", \"\\uae30\\ubc18\", \"\\uae30\\uc0ac\", \"\\uae30\\uc0ac\", \"\\uae30\\uc0ac\", \"\\uae34\\uae09\", \"\\ub118\\ub2e4\", \"\\ub118\\ub2e4\", \"\\ub118\\ub2e4\", \"\\ub124\\uc774\\ubc84\", \"\\ub124\\uc774\\ubc84\", \"\\ub124\\uc774\\ubc84\", \"\\ub124\\uc774\\ubc84\", \"\\ub178\\uc120\", \"\\ub178\\uc120\", \"\\ub178\\uc778\", \"\\ub178\\ud6c4\", \"\\ub178\\ud6c4\", \"\\ub178\\ud6c4\", \"\\ub178\\ud6c4\", \"\\ub178\\ud6c4\", \"\\ub179\\uc9c0\", \"\\ub180\\uc774\", \"\\ub180\\uc774\", \"\\ub204\\ub9ac\\ub2e4\", \"\\ub204\\ub9ac\\ub2e4\", \"\\ub274\\uc2a4\", \"\\ub274\\uc2a4\", \"\\ub274\\uc2a4\", \"\\ub274\\uc2a4\", \"\\ub274\\uc2a4\", \"\\ub274\\uc2a41\", \"\\ub274\\uc2a41\", \"\\ub274\\ud0c0\\uc6b4\", \"\\ub2e4\\ubb38\\ud654\", \"\\ub2e4\\ubb38\\ud654\", \"\\ub2e8\\uacc4\", \"\\ub2e8\\uacc4\", \"\\ub2e8\\uacc4\", \"\\ub2e8\\uacc4\", \"\\ub2e8\\uc704\", \"\\ub2e8\\uc704\", \"\\ub2e8\\uc704\", \"\\ub2e8\\uc9c0\", \"\\ub2e8\\uc9c0\", \"\\ub2e8\\uc9c0\", \"\\ub2e8\\uc9c0\", \"\\ub2e8\\uc9c0\", \"\\ub2e8\\ucd95\", \"\\ub2e8\\ucd95\", \"\\ub300\\ub9bc\\ub3d9\", \"\\ub300\\ub9bc\\ub3d9\", \"\\ub300\\ub9bc\\ub3d9\", \"\\ub300\\ube44\", \"\\ub300\\ube44\", \"\\ub300\\uc0c1\", \"\\ub300\\uc0c1\", \"\\ub300\\uc0c1\", \"\\ub300\\uc0c1\", \"\\ub300\\uc0c1\", \"\\ub300\\uc751\", \"\\ub300\\uc751\", \"\\ub300\\uc751\", \"\\ub300\\uc751\", \"\\ub300\\ud55c\\ubbfc\\uad6d\", \"\\ub300\\ud55c\\ubbfc\\uad6d\", \"\\ub3c4\\ub85c\", \"\\ub3c4\\ub85c\", \"\\ub3c4\\ub85c\", \"\\ub3c4\\ub85c\", \"\\ub3c4\\ub9bc\\ub3d9\", \"\\ub3c4\\ub9bc\\ub3d9\", \"\\ub3c4\\uc11c\\uad00\", \"\\ub3c4\\uc11c\\uad00\", \"\\ub3c4\\uc11c\\uad00\", \"\\ub3c4\\uc2ec\", \"\\ub3c4\\uc2ec\", \"\\ub3c4\\uc2ec\", \"\\ub3c4\\uc2ec\", \"\\ub3c4\\uc785\", \"\\ub3c4\\uc785\", \"\\ub3c4\\uc785\", \"\\ub3d9\", \"\\ub3d9\", \"\\ub3d9\", \"\\ub3d9\", \"\\ub3d9\", \"\\ub3d9\", \"\\ub3d9\\ub124\", \"\\ub3d9\\ub124\", \"\\ub3d9\\ub124\", \"\\ub3d9\\uc758\", \"\\ub3d9\\uc758\", \"\\ub4e4\\uc774\\ub2e4\", \"\\ub4e4\\uc774\\ub2e4\", \"\\ub4e4\\uc774\\ub2e4\", \"\\ub4e4\\uc774\\ub2e4\", \"\\ub4e4\\uc774\\ub2e4\", \"\\ub4f1\\uae09\", \"\\ub798\", \"\\ub9c1\\ud06c\", \"\\ub9c1\\ud06c\", \"\\ub9c1\\ud06c\", \"\\ub9c1\\ud06c\", \"\\ub9c1\\ud06c\", \"\\ub9c8\\uc744\", \"\\ub9c8\\uc744\", \"\\ub9c8\\uc744\", \"\\ub9cc\\ub4e4\\ub2e4\", \"\\ub9cc\\ub4e4\\ub2e4\", \"\\ub9cc\\ub4e4\\ub2e4\", \"\\ub9cc\\ub4e4\\ub2e4\", \"\\ub9e4\\ub825\", \"\\ub9e4\\ub825\", \"\\ub9e4\\ubb3c\", \"\\ub9e4\\ubb3c\", \"\\ub9fa\\ub2e4\", \"\\ub9fa\\ub2e4\", \"\\uba3c\\uc9c0\", \"\\uba3c\\uc9c0\", \"\\uba3c\\uc9c0\", \"\\uba3c\\uc9c0\", \"\\uba54\\uc778\", \"\\uba54\\uc778\", \"\\ubb34\\uc0c1\", \"\\ubb34\\uc0c1\", \"\\ubb34\\uc0c1\", \"\\ubb38\\ub798\\ub3d9\", \"\\ubb38\\ub798\\ub3d9\", \"\\ubb38\\ub798\\ub3d9\", \"\\ubb38\\ub798\\ub3d9\", \"\\ubb38\\uc758\", \"\\ubb38\\uc758\", \"\\ubb38\\uc758\", \"\\ubb38\\uc758\", \"\\ubb38\\uc758\", \"\\ubb38\\ud654\", \"\\ubb38\\ud654\", \"\\ubb38\\ud654\", \"\\ubb38\\ud654\", \"\\ubb38\\ud654\", \"\\ubbf8\\ub798\", \"\\ubbf8\\ub798\", \"\\ubbf8\\ub798\", \"\\ubbfc\\uac04\", \"\\ubbfc\\uac04\", \"\\ubbfc\\uac04\", \"\\ubbfc\\uac04\", \"\\ubc14\\ub2e5\", \"\\ubc14\\ub2e5\", \"\\ubc14\\ub2e5\", \"\\ubc14\\ub77c\\ub2e4\", \"\\ubc14\\ub77c\\ub2e4\", \"\\ubc14\\ub77c\\ub2e4\", \"\\ubc15\", \"\\ubc15\", \"\\ubc15\", \"\\ubc15\", \"\\ubc15\", \"\\ubc1c\\uc804\", \"\\ubc1c\\uc804\", \"\\ubc1c\\uc804\", \"\\ubc29\\uc2dd\", \"\\ubc29\\uc2dd\", \"\\ubc29\\uc2dd\", \"\\ubcc0\\uacbd\", \"\\ubcc0\\uacbd\", \"\\ubcc0\\uacbd\", \"\\ubcd1\", \"\\ubcd1\", \"\\ubcf4\\uc218\", \"\\ubcf4\\uc218\", \"\\ubcf4\\uc218\", \"\\ubcf4\\uc548\\ub4f1\", \"\\ubcf4\\ud589\\uc790\", \"\\ubcf5\\uc9c0\", \"\\ubcf5\\uc9c0\", \"\\ubcf5\\uc9c0\", \"\\ubcf5\\uc9c0\", \"\\ubcf5\\uc9c0\", \"\\ubcf5\\ud569\", \"\\ubcf5\\ud569\", \"\\ubcf5\\ud569\", \"\\ubcf5\\ud569\", \"\\ubcf5\\ud569\", \"\\ubcf5\\ud569\", \"\\ubd80\\uc9c0\", \"\\ubd80\\uc9c0\", \"\\ubd80\\uc9c0\", \"\\ubd80\\uc9c0\", \"\\ubd80\\uc9c0\", \"\\uc0ac\\uace0\", \"\\uc0ac\\uace0\", \"\\uc0ac\\ubb34\\uc18c\", \"\\uc0ac\\ubb34\\uc18c\", \"\\uc0ac\\uc5c5\\uc790\", \"\\uc0ac\\uc5c5\\uc790\", \"\\uc0ac\\uc5c5\\uc790\", \"\\uc0b0\\uc5c5\", \"\\uc0b0\\uc5c5\", \"\\uc0b0\\uc5c5\", \"\\uc0b0\\uc5c5\", \"\\uc0c1\\ub2f4\", \"\\uc0c1\\ub2f4\", \"\\uc0c1\\ub2f4\", \"\\uc0c1\\ub2f4\", \"\\uc0c1\\ubc18\\uae30\", \"\\uc0c1\\ubc18\\uae30\", \"\\uc0c1\\uc2b9\", \"\\uc0c1\\uc2b9\", \"\\uc0c1\\uc2b9\", \"\\uc0c1\\uc815\", \"\\uc0c1\\uc815\", \"\\uc0c1\\uc815\", \"\\uc0c1\\ud5a5\", \"\\uc0c1\\ud5a5\", \"\\uc0dd\\ud65c\", \"\\uc0dd\\ud65c\", \"\\uc0dd\\ud65c\", \"\\uc0dd\\ud65c\", \"\\uc0dd\\ud65c\", \"\\uc0dd\\ud65c\", \"\\uc11c\\ub0a8\", \"\\uc11c\\ub0a8\", \"\\uc11c\\ube44\\uc2a4\", \"\\uc11c\\ube44\\uc2a4\", \"\\uc11c\\ube44\\uc2a4\", \"\\uc11c\\ube44\\uc2a4\", \"\\uc11c\\ube44\\uc2a4\", \"\\uc11c\\uc6b8\\uc5ed\", \"\\uc11c\\uc6b8\\uc5ed\", \"\\uc11c\\uc6b8\\uc5ed\", \"\\uc11c\\uc6b8\\uc5ed\", \"\\uc120\\uc815\", \"\\uc120\\uc815\", \"\\uc120\\uc815\", \"\\uc120\\uc815\", \"\\uc120\\uc815\", \"\\uc120\\uc815\", \"\\uc124\\uacc4\", \"\\uc124\\uacc4\", \"\\uc124\\uacc4\", \"\\uc124\\uacc4\", \"\\uc124\\uce58\", \"\\uc124\\uce58\", \"\\uc124\\uce58\", \"\\uc124\\uce58\", \"\\uc124\\uce58\", \"\\uc131\\uacf5\", \"\\uc131\\uacf5\", \"\\uc131\\uacf5\", \"\\uc13c\\ud130\", \"\\uc13c\\ud130\", \"\\uc13c\\ud130\", \"\\uc13c\\ud130\", \"\\uc13c\\ud130\", \"\\uc13c\\ud130\", \"\\uc190\", \"\\uc190\", \"\\uc190\", \"\\uc218\\ub9bd\", \"\\uc218\\ub9bd\", \"\\uc218\\ub9bd\", \"\\uc218\\ub9bd\", \"\\uc218\\uc815\", \"\\uc218\\uc815\", \"\\uc2dc\\ubbfc\", \"\\uc2dc\\ubbfc\", \"\\uc2dc\\ubbfc\", \"\\uc2dc\\ubbfc\", \"\\uc2dc\\ube44\", \"\\uc2dc\\ube44\", \"\\uc2dc\\uc7a5\", \"\\uc2dc\\uc7a5\", \"\\uc2dc\\uc7a5\", \"\\uc2dc\\uc7a5\", \"\\uc2dc\\ud589\", \"\\uc2dc\\ud589\", \"\\uc2dc\\ud589\", \"\\uc2dc\\ud589\", \"\\uc2dd\\uc7ac\", \"\\uc2dd\\uc7ac\", \"\\uc2e0\\uae38\", \"\\uc2e0\\uae38\", \"\\uc2e0\\uae38\", \"\\uc2e0\\uae38\", \"\\uc2e0\\uae38\", \"\\uc2e0\\uae38\\ub3d9\", \"\\uc2e0\\uae38\\ub3d9\", \"\\uc2e0\\uae38\\ub3d9\", \"\\uc2e0\\uc548\\uc0b0\\uc120\", \"\\uc2e0\\uc548\\uc0b0\\uc120\", \"\\uc2e0\\uc548\\uc0b0\\uc120\", \"\\uc2e0\\ud63c\\ubd80\\ubd80\", \"\\uc2e4\", \"\\uc2e4\", \"\\uc2e4\", \"\\uc2e4\\uac70\\ub798\", \"\\uc2e4\\ub0b4\", \"\\uc2e4\\ub0b4\", \"\\uc2e4\\ub0b4\", \"\\uc2e4\\uc2dc\", \"\\uc2e4\\uc2dc\", \"\\uc2e4\\uc2dc\", \"\\uc2e4\\uc2dc\", \"\\uc2e4\\uc2dc\", \"\\uc544\\uc2dc\\uc544\", \"\\uc544\\uc2dc\\uc544\", \"\\uc544\\uc2dc\\uc544\", \"\\uc544\\uc2dc\\uc544\", \"\\uc544\\uc2dc\\uc544\", \"\\uc544\\uc6c3\", \"\\uc544\\uc6c3\", \"\\uc544\\uc6c3\", \"\\uc544\\uc6c3\", \"\\uc544\\uc6c3\", \"\\uc544\\uc774\", \"\\uc544\\uc774\", \"\\uc544\\uc774\", \"\\uc544\\uc774\\ub514\\uc5b4\", \"\\uc544\\uc774\\ub514\\uc5b4\", \"\\uc544\\ud30c\\ud2b8\", \"\\uc544\\ud30c\\ud2b8\", \"\\uc544\\ud30c\\ud2b8\", \"\\uc544\\ud30c\\ud2b8\", \"\\uc544\\ud30c\\ud2b8\", \"\\uc548\", \"\\uc548\", \"\\uc548\", \"\\uc548\", \"\\uc548\", \"\\uc548\", \"\\uc548\\uc0b0\", \"\\uc548\\uc0b0\", \"\\uc548\\uc2ec\", \"\\uc548\\uc2ec\", \"\\uc548\\uc804\", \"\\uc548\\uc804\", \"\\uc548\\uc804\", \"\\uc548\\uc804\", \"\\uc548\\uc804\", \"\\uc548\\uc804\", \"\\uc548\\uc804\\uc0ac\\uace0\", \"\\uc591\\ud3c9\", \"\\uc591\\ud3c9\", \"\\uc591\\ud3c9\", \"\\uc591\\ud3c9\", \"\\uc5b4\\ub9b0\\uc774\", \"\\uc5b4\\ub9b0\\uc774\", \"\\uc5b4\\ub9b0\\uc774\", \"\\uc5c5\\uacc4\", \"\\uc5c5\\uacc4\", \"\\uc5c5\\ubb34\", \"\\uc5c5\\ubb34\", \"\\uc5c5\\ubb34\", \"\\uc5c5\\ubb34\", \"\\uc5c5\\ubb34\", \"\\uc5c5\\ubb34\", \"\\uc5ec\\uc131\", \"\\uc5ec\\uc758\\ub3c4\", \"\\uc5ec\\uc758\\ub3c4\", \"\\uc5ec\\uc758\\ub3c4\", \"\\uc5ec\\uc758\\ub3c4\", \"\\uc5ec\\uc758\\ub3c4\", \"\\uc5ec\\uc758\\ub3c4\", \"\\uc5ec\\uc758\\ub3c4\\ub3d9\", \"\\uc5ec\\uc758\\ub3c4\\ub3d9\", \"\\uc5ed\\uc0ac\", \"\\uc5ed\\uc0ac\", \"\\uc5ed\\uc0ac\", \"\\uc5ed\\uc138\\uad8c\", \"\\uc5ed\\uc138\\uad8c\", \"\\uc5ed\\uc138\\uad8c\", \"\\uc5ed\\uc138\\uad8c\", \"\\uc5f0\\uc7a5\", \"\\uc5f0\\uc7a5\", \"\\uc5f0\\uc7a5\", \"\\uc5f0\\uc7a5\", \"\\uc601\\ub4f1\\ud3ec\\uc5ed\", \"\\uc601\\ub4f1\\ud3ec\\uc5ed\", \"\\uc601\\ub4f1\\ud3ec\\uc5ed\", \"\\uc601\\uc9c4\", \"\\uc608\\ubc29\", \"\\uc608\\ubc29\", \"\\uc608\\ubc29\", \"\\uc608\\ubc29\", \"\\uc608\\uc0c1\", \"\\uc608\\uc0c1\", \"\\uc608\\uc0c1\", \"\\uc608\\uc0c1\", \"\\uc608\\uc220\", \"\\uc608\\uc220\\uac00\", \"\\uc625\\uc0c1\", \"\\uc625\\uc0c1\", \"\\uc644\\ub8cc\", \"\\uc644\\ub8cc\", \"\\uc644\\ub8cc\", \"\\uc644\\ub8cc\", \"\\uc644\\ud654\", \"\\uc644\\ud654\", \"\\uc6a9\\uc0b0\", \"\\uc6a9\\uc0b0\", \"\\uc6a9\\uc0b0\", \"\\uc6a9\\uc0b0\", \"\\uc6a9\\uc5ed\", \"\\uc6a9\\uc5ed\", \"\\uc6b0\\uc218\", \"\\uc6b0\\uc218\", \"\\uc6b0\\uc218\", \"\\uc6b0\\uc218\", \"\\uc6b0\\uc218\", \"\\uc6b4\\uc601\", \"\\uc6b4\\uc601\", \"\\uc6b4\\uc601\", \"\\uc6b4\\uc601\", \"\\uc6b4\\uc601\", \"\\uc6b4\\uc601\", \"\\uc6b4\\ud589\", \"\\uc6b4\\ud589\", \"\\uc6b4\\ud589\", \"\\uc704\\uae30\", \"\\uc704\\uae30\", \"\\uc704\\uae30\", \"\\uc704\\uc6d0\\ud68c\", \"\\uc704\\uc6d0\\ud68c\", \"\\uc704\\uc6d0\\ud68c\", \"\\uc704\\uc6d0\\ud68c\", \"\\uc704\\uce58\", \"\\uc704\\uce58\", \"\\uc704\\uce58\", \"\\uc704\\uce58\", \"\\uc704\\uce58\", \"\\uc704\\uce58\", \"\\uc704\\ud5d8\", \"\\uc704\\ud5d8\", \"\\uc704\\ud5d8\", \"\\uc704\\ud5d8\", \"\\uc720\\uc218\\uc9c0\", \"\\uc720\\uc218\\uc9c0\", \"\\uc758\\uacac\", \"\\uc758\\uacac\", \"\\uc758\\uacac\", \"\\uc758\\uacac\", \"\\uc758\\uacac\", \"\\uc758\\uacac\", \"\\uc774\\ub3d9\", \"\\uc774\\ub3d9\", \"\\uc774\\ub3d9\", \"\\uc774\\ub3d9\", \"\\uc774\\ub3d9\", \"\\uc774\\ub3d9\", \"\\uc774\\uba74\", \"\\uc774\\uba74\", \"\\uc774\\uc57c\\uae30\", \"\\uc774\\ud63c\", \"\\uc774\\ud63c\", \"\\uc778\\uac00\", \"\\uc778\\uac00\", \"\\uc778\\uac00\", \"\\uc778\\uad6c\", \"\\uc778\\uad6c\", \"\\uc778\\uad6c\", \"\\uc778\\uadfc\", \"\\uc778\\uadfc\", \"\\uc778\\uadfc\", \"\\uc778\\uadfc\", \"\\uc778\\uadfc\", \"\\uc778\\uadfc\", \"\\uc778\\uc811\", \"\\uc778\\uc811\", \"\\uc778\\uc815\", \"\\uc778\\uc815\", \"\\uc77c\\ub300\", \"\\uc77c\\ub300\", \"\\uc77c\\ub300\", \"\\uc77c\\ub300\", \"\\uc77c\\ub300\", \"\\uc77c\\uc0c1\", \"\\uc77c\\uc790\\ub9ac\", \"\\uc77c\\uc790\\ub9ac\", \"\\uc77c\\uc790\\ub9ac\", \"\\uc77c\\uc790\\ub9ac\", \"\\uc77c\\uc790\\ub9ac\", \"\\uc784\", \"\\uc784\\ub300\", \"\\uc784\\ub300\", \"\\uc784\\ub300\", \"\\uc784\\ub300\", \"\\uc785\\uc8fc\", \"\\uc785\\uc8fc\", \"\\uc785\\uc8fc\", \"\\uc785\\uc8fc\", \"\\uc791\\ub2e4\", \"\\uc791\\ub2e4\", \"\\uc791\\ub2e4\", \"\\uc7a5\", \"\\uc7a5\", \"\\uc7a5\", \"\\uc7a5\", \"\\uc7a5\\uad00\", \"\\uc7a5\\uad00\", \"\\uc7a5\\uad00\", \"\\uc7ac\\ub09c\", \"\\uc7ac\\ub09c\", \"\\uc7ac\\uc0dd\", \"\\uc7ac\\uc0dd\", \"\\uc7ac\\uc0dd\", \"\\uc7ac\\ud14c\\ud06c\", \"\\uc7ac\\ud14c\\ud06c\", \"\\uc801\\uc6a9\", \"\\uc801\\uc6a9\", \"\\uc801\\uc6a9\", \"\\uc804\\uacbd\", \"\\uc804\\uacbd\", \"\\uc804\\uacbd\", \"\\uc804\\ub7b5\", \"\\uc804\\ub7b5\", \"\\uc804\\ub7b5\", \"\\uc804\\uba74\", \"\\uc804\\uba74\", \"\\uc804\\ucca0\", \"\\uc804\\ucca0\", \"\\uc804\\ucca0\", \"\\uc804\\ud1b5\", \"\\uc804\\ud1b5\", \"\\uc804\\ud558\\ub2e4\", \"\\uc804\\ud558\\ub2e4\", \"\\uc804\\ud558\\ub2e4\", \"\\uc804\\ud558\\ub2e4\", \"\\uc804\\ud558\\ub2e4\", \"\\uc810\\uac80\", \"\\uc810\\uac80\", \"\\uc815\\ube44\", \"\\uc815\\ube44\", \"\\uc815\\ube44\", \"\\uc815\\ube44\", \"\\uc81c\\uacf5\", \"\\uc81c\\uacf5\", \"\\uc81c\\uacf5\", \"\\uc81c\\uacf5\", \"\\uc81c\\uacf5\", \"\\uc81c\\uacf5\", \"\\uc81c\\ubd84\", \"\\uc81c\\ubd84\", \"\\uc81c\\uc2dc\", \"\\uc81c\\uc2dc\", \"\\uc870\\uae38\\ud615\", \"\\uc870\\uae38\\ud615\", \"\\uc870\\uae38\\ud615\", \"\\uc870\\uc0ac\", \"\\uc870\\uc0ac\", \"\\uc870\\uc0ac\", \"\\uc870\\uc0ac\", \"\\uc870\\uc0ac\", \"\\uc870\\uc131\", \"\\uc870\\uc131\", \"\\uc870\\uc131\", \"\\uc870\\uc131\", \"\\uc870\\uc131\", \"\\uc870\\uc815\", \"\\uc870\\uc815\", \"\\uc870\\uce58\", \"\\uc870\\uce58\", \"\\uc870\\ud569\", \"\\uc870\\ud569\", \"\\uc870\\ud569\", \"\\uc885\\uc77c\", \"\\uc885\\uc77c\", \"\\uc885\\uc77c\", \"\\uc885\\uc77c\", \"\\uc8fc\\uac70\", \"\\uc8fc\\uac70\", \"\\uc8fc\\uac70\", \"\\uc8fc\\ubcc0\", \"\\uc8fc\\ubcc0\", \"\\uc8fc\\ubcc0\", \"\\uc8fc\\ubcc0\", \"\\uc8fc\\ubcc0\", \"\\uc8fc\\ubcc0\", \"\\uc8fc\\uc0c1\", \"\\uc8fc\\uc0c1\", \"\\uc8fc\\uc0c1\", \"\\uc911\\uac1c\", \"\\uc911\\uac1c\", \"\\uc911\\uad6d\", \"\\uc911\\uad6d\", \"\\uc911\\ub85c\", \"\\uc911\\ub85c\", \"\\uc99d\\uac00\", \"\\uc99d\\uac00\", \"\\uc9c0\\uad6c\", \"\\uc9c0\\uad6c\", \"\\uc9c0\\uad6c\", \"\\uc9c0\\uae09\", \"\\uc9c0\\uae09\", \"\\uc9c0\\ub098\\ub2e4\", \"\\uc9c0\\ub098\\ub2e4\", \"\\uc9c0\\ub098\\ub2e4\", \"\\uc9c0\\ub098\\ub2e4\", \"\\uc9c0\\ub098\\ub2e4\", \"\\uc9c0\\ub098\\ub2e4\", \"\\uc9c0\\ub09c\\ud574\", \"\\uc9c0\\ub09c\\ud574\", \"\\uc9c0\\ub09c\\ud574\", \"\\uc9c0\\ub09c\\ud574\", \"\\uc9c0\\ub09c\\ud574\", \"\\uc9c0\\uc0c1\", \"\\uc9c0\\uc0c1\", \"\\uc9c0\\uc0c1\", \"\\uc9c0\\uc0c1\", \"\\uc9c0\\uc0c1\", \"\\uc9c0\\uc6d0\", \"\\uc9c0\\uc6d0\", \"\\uc9c0\\uc6d0\", \"\\uc9c0\\uc6d0\", \"\\uc9c0\\uc6d0\", \"\\uc9c0\\uc801\", \"\\uc9c0\\uc801\", \"\\uc9c0\\uc815\", \"\\uc9c0\\uc815\", \"\\uc9c0\\uc815\", \"\\uc9c0\\uc815\", \"\\uc9c0\\ud558\", \"\\uc9c0\\ud558\", \"\\uc9c0\\ud558\", \"\\uc9c0\\ud558\", \"\\uc9c0\\ud558\", \"\\uc9d1\\uac12\", \"\\uc9d1\\uac12\", \"\\ucabd\\ubc29\", \"\\ucabd\\ubc29\", \"\\ucabd\\ubc29\", \"\\ucabd\\ubc29\\ucd0c\", \"\\ucabd\\ubc29\\ucd0c\", \"\\ucabd\\ubc29\\ucd0c\", \"\\ucc29\\uacf5\", \"\\ucc29\\uacf5\", \"\\ucc29\\uacf5\", \"\\ucc29\\uacf5\", \"\\ucc29\\uacf5\", \"\\ucc38\\uc5ec\", \"\\ucc38\\uc5ec\", \"\\ucc38\\uc5ec\", \"\\ucc38\\uc5ec\", \"\\ucc38\\uc5ec\", \"\\ucc38\\uc5ec\", \"\\ucc3d\\uc791\\ucd0c\", \"\\ucc3d\\uc791\\ucd0c\", \"\\ucc3d\\uc870\", \"\\ucca0\\uac70\", \"\\ucca0\\uac70\", \"\\ucca0\\uac70\", \"\\ucca0\\uac70\", \"\\ucca0\\uac70\", \"\\ucca0\\ub3c4\", \"\\ucca0\\ub3c4\", \"\\uccad\\ub144\", \"\\uccad\\ub144\", \"\\uccad\\ub144\", \"\\uccad\\uc0ac\", \"\\uccad\\uc0ac\", \"\\uccad\\uc0ac\", \"\\uccad\\uc18c\\ub144\", \"\\uccad\\uc18c\\ub144\", \"\\uccad\\uc18c\\ub144\", \"\\ucd09\\uc9c4\", \"\\ucd09\\uc9c4\", \"\\ucd09\\uc9c4\", \"\\ucd09\\uc9c4\", \"\\uce5c\\ud654\", \"\\uce5c\\ud654\", \"\\ucf54\\ub85c\\ub098\", \"\\ucf54\\ub85c\\ub098\", \"\\ucf54\\ub9ac\\uc544\", \"\\ucf8c\\uc801\\ud558\\ub2e4\", \"\\ucf8c\\uc801\\ud558\\ub2e4\", \"\\ud06c\\ub2e4\", \"\\ud06c\\ub2e4\", \"\\ud06c\\ub2e4\", \"\\ud06c\\ub2e4\", \"\\ud06c\\ub2e4\", \"\\ud0c4\\ub825\", \"\\ud0c4\\ub825\", \"\\ud1a0\\uc9c0\", \"\\ud1a0\\uc9c0\", \"\\ud1a0\\uc9c0\", \"\\ud310\\ub9e4\", \"\\ud310\\ub9e4\", \"\\ud310\\ub9e4\", \"\\ud398\\uc774\\uc9c0\", \"\\ud398\\uc774\\uc9c0\", \"\\ud398\\uc774\\uc9c0\", \"\\ud398\\uc774\\uc9c0\", \"\\ud398\\uc774\\uc9c0\", \"\\ud3b8\\uc785\", \"\\ud3d0\\uc9c0\", \"\\ud3ec\\uc7a5\", \"\\ud3ec\\uc7a5\", \"\\ud3ed\", \"\\ud3ed\", \"\\ud3ed\", \"\\ud3ed\", \"\\ud3ed\", \"\\ud3ed\\ub825\", \"\\ud3ed\\ub825\", \"\\ud504\\ub85c\\uadf8\\ub7a8\", \"\\ud504\\ub85c\\uadf8\\ub7a8\", \"\\ud559\\uad50\", \"\\ud559\\uad50\", \"\\ud559\\uc0dd\", \"\\ud559\\uc0dd\", \"\\ud559\\uc0dd\", \"\\ud55c\\uac15\", \"\\ud55c\\uac15\", \"\\ud55c\\uac15\", \"\\ud55c\\uac15\", \"\\ud55c\\uad6d\\uacbd\\uc81cTV\", \"\\ud55c\\uad6d\\uacbd\\uc81cTV\", \"\\ud574\\ub2f9\", \"\\ud574\\ub2f9\", \"\\ud574\\ub2f9\", \"\\ud574\\ub2f9\", \"\\ud574\\ub2f9\", \"\\ud574\\ub2f9\", \"\\ud574\\uc81c\", \"\\ud574\\uc81c\", \"\\ud589\\uc815\", \"\\ud589\\uc815\", \"\\ud589\\uc815\", \"\\ud601\\uc2e0\", \"\\ud601\\uc2e0\", \"\\ud611\\uc57d\", \"\\ud611\\uc57d\", \"\\ud638\\uc7ac\", \"\\ud638\\uc7ac\", \"\\ud638\\uc7ac\", \"\\ud654\\uc7a5\\uc2e4\", \"\\ud655\\ub300\", \"\\ud655\\ub300\", \"\\ud655\\ub300\", \"\\ud655\\ub300\", \"\\ud655\\ub300\", \"\\ud658\\uacbd\", \"\\ud658\\uacbd\", \"\\ud658\\uacbd\", \"\\ud658\\uacbd\", \"\\ud658\\uacbd\", \"\\ud658\\uc2b9\", \"\\ud65c\\ub3d9\", \"\\ud65c\\ub3d9\", \"\\ud65c\\ub3d9\", \"\\ud65c\\ub3d9\", \"\\ud65c\\uc131\", \"\\ud65c\\uc131\", \"\\ud65c\\uc131\", \"\\ud65c\\uc131\", \"\\ud65c\\uc131\", \"\\ud65c\\uc131\", \"\\ud65c\\uc6a9\", \"\\ud65c\\uc6a9\", \"\\ud65c\\uc6a9\", \"\\ud65c\\uc6a9\", \"\\ud65c\\uc6a9\", \"\\ud65c\\uc6a9\", \"\\ud6a8\\uc728\", \"\\ud6a8\\uc728\", \"\\ud734\\uac8c\", \"\\ud734\\uac8c\", \"\\ud734\\uc2dd\", \"\\ud734\\uc2dd\", \"\\ud734\\uc2dd\"]}, \"R\": 30, \"lambda.step\": 0.01, \"plot.opts\": {\"xlab\": \"PC1\", \"ylab\": \"PC2\"}, \"topic.order\": [4, 3, 5, 1, 6, 2]};\n",
       "\n",
       "function LDAvis_load_lib(url, callback){\n",
       "  var s = document.createElement('script');\n",
       "  s.src = url;\n",
       "  s.async = true;\n",
       "  s.onreadystatechange = s.onload = callback;\n",
       "  s.onerror = function(){console.warn(\"failed to load library \" + url);};\n",
       "  document.getElementsByTagName(\"head\")[0].appendChild(s);\n",
       "}\n",
       "\n",
       "if(typeof(LDAvis) !== \"undefined\"){\n",
       "   // already loaded: just create the visualization\n",
       "   !function(LDAvis){\n",
       "       new LDAvis(\"#\" + \"ldavis_el561601404556874386244049948768\", ldavis_el561601404556874386244049948768_data);\n",
       "   }(LDAvis);\n",
       "}else if(typeof define === \"function\" && define.amd){\n",
       "   // require.js is available: use it to load d3/LDAvis\n",
       "   require.config({paths: {d3: \"https://d3js.org/d3.v5\"}});\n",
       "   require([\"d3\"], function(d3){\n",
       "      window.d3 = d3;\n",
       "      LDAvis_load_lib(\"https://cdn.jsdelivr.net/gh/bmabey/pyLDAvis@3.4.0/pyLDAvis/js/ldavis.v3.0.0.js\", function(){\n",
       "        new LDAvis(\"#\" + \"ldavis_el561601404556874386244049948768\", ldavis_el561601404556874386244049948768_data);\n",
       "      });\n",
       "    });\n",
       "}else{\n",
       "    // require.js not available: dynamically load d3 & LDAvis\n",
       "    LDAvis_load_lib(\"https://d3js.org/d3.v5.js\", function(){\n",
       "         LDAvis_load_lib(\"https://cdn.jsdelivr.net/gh/bmabey/pyLDAvis@3.4.0/pyLDAvis/js/ldavis.v3.0.0.js\", function(){\n",
       "                 new LDAvis(\"#\" + \"ldavis_el561601404556874386244049948768\", ldavis_el561601404556874386244049948768_data);\n",
       "            })\n",
       "         });\n",
       "}\n",
       "</script>"
      ],
      "text/plain": [
       "<IPython.core.display.HTML object>"
      ]
     },
     "execution_count": 404,
     "metadata": {},
     "output_type": "execute_result"
    }
   ],
   "source": [
    "ldavis2= pyLDAvis.gensim.prepare(topic_model = lda_model2,\n",
    "                               corpus = corpus2, \n",
    "                               dictionary = cor_dict2)\n",
    "pyLDAvis.display(ldavis2)"
   ]
  },
  {
   "cell_type": "code",
   "execution_count": 409,
   "metadata": {
    "pycharm": {
     "name": "#%%\n"
    }
   },
   "outputs": [],
   "source": [
    "pyLDAvis.save_html(ldavis2, '../outputs/lda_visualize_youngdeungpo.html')"
   ]
  },
  {
   "cell_type": "code",
   "execution_count": null,
   "metadata": {
    "pycharm": {
     "name": "#%%\n"
    }
   },
   "outputs": [],
   "source": []
  }
 ],
 "metadata": {
  "kernelspec": {
   "display_name": "Python 3 (ipykernel)",
   "language": "python",
   "name": "python3"
  },
  "language_info": {
   "codemirror_mode": {
    "name": "ipython",
    "version": 3
   },
   "file_extension": ".py",
   "mimetype": "text/x-python",
   "name": "python",
   "nbconvert_exporter": "python",
   "pygments_lexer": "ipython3",
   "version": "3.8.13"
  }
 },
 "nbformat": 4,
 "nbformat_minor": 1
}